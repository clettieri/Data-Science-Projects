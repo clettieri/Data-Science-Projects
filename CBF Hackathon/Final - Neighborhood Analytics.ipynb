{
 "cells": [
  {
   "cell_type": "markdown",
   "metadata": {
    "collapsed": true
   },
   "source": [
    "# Neighborhood Analytics\n",
    "\n",
    "Given an address of an empty location, what is the best use of the space?\n",
    "\n",
    "Using the Four Square API and IBM's DSX to create advanced analytics."
   ]
  },
  {
   "cell_type": "code",
   "execution_count": 1,
   "metadata": {
    "collapsed": false
   },
   "outputs": [
    {
     "name": "stdout",
     "output_type": "stream",
     "text": [
      "Requirement already satisfied: geopy in c:\\programdata\\anaconda2\\lib\\site-packages\n"
     ]
    }
   ],
   "source": [
    "!pip install geopy\n",
    "from geopy.geocoders import Nominatim # module to convert an address into latitude and longitude values\n",
    "import requests \n",
    "import pandas as pd \n",
    "import numpy as np \n",
    "from pandas.io.json import json_normalize\n",
    "\n",
    "import matplotlib.pyplot as plt\n",
    "%matplotlib inline"
   ]
  },
  {
   "cell_type": "markdown",
   "metadata": {},
   "source": [
    "## Make Four Square API Call\n",
    "\n",
    "#### Set API Credentials"
   ]
  },
  {
   "cell_type": "code",
   "execution_count": 2,
   "metadata": {
    "collapsed": true
   },
   "outputs": [],
   "source": [
    "api_url = \"https://api.foursquare.com/v2/venues/explore\"\n",
    "\n",
    "params = {'v': '20170513',\n",
    "          'client_id': \"33D0NQYSP2AKAIEEZJNWEPSIU23UAGAXJ1EL0B1J13I4XGHC\",\n",
    "          'client_secret':\"ONNNBGVMFHQ3TVUXDVWYVWDDQSZEM42XBO23BUBGC3ZOZ2V0\",\n",
    "          'limit' :50}"
   ]
  },
  {
   "cell_type": "markdown",
   "metadata": {},
   "source": [
    "#### Convert address to lat, long location"
   ]
  },
  {
   "cell_type": "code",
   "execution_count": 3,
   "metadata": {
    "collapsed": true
   },
   "outputs": [],
   "source": [
    "def lat_long(address):\n",
    "    geolocator = Nominatim()\n",
    "    location = geolocator.geocode(address)\n",
    "    longitude, latitude = location.longitude, location.latitude\n",
    "    print latitude\n",
    "    print longitude\n",
    "    return {'ll': '{},{}'.format(latitude, longitude)}"
   ]
  },
  {
   "cell_type": "markdown",
   "metadata": {},
   "source": [
    "#### Get DataFrame of FourSquare venues near location"
   ]
  },
  {
   "cell_type": "code",
   "execution_count": 4,
   "metadata": {
    "collapsed": true
   },
   "outputs": [],
   "source": [
    "def fetch_venues(params, offset=0):\n",
    "    params.update({'offset':offset})\n",
    "    response = requests.get(api_url, params=params)\n",
    "    response.status_code\n",
    "    venue_data = response.json()\n",
    "    \n",
    "    # assign relevant part of JSON to venues\n",
    "    venues = venue_data[\"response\"][\"groups\"][0][\"items\"]\n",
    "    \n",
    "    if len(venues) == 0:\n",
    "        return []\n",
    "    \n",
    "\n",
    "    # tranform venues into a dataframe\n",
    "    dataframe = json_normalize(venues)\n",
    "    \n",
    "    # keep only columns that include venue name, url, and anything that is associated with location\n",
    "    filtered_columns = ['venue.name', 'venue.url', 'venue.categories'] + [col for col in dataframe.columns if col.startswith('location.')] + ['id']\n",
    "    dataframe_filtered = dataframe.ix[:, filtered_columns]\n",
    "\n",
    "    # function that extracts the category of the venue\n",
    "    def get_category_type(row):\n",
    "        try:\n",
    "            categories_list = row[\"categories\"]\n",
    "        except:\n",
    "            categories_list = row[\"venue.categories\"]\n",
    "\n",
    "        if len(categories_list) == 0:\n",
    "            return None\n",
    "        else:\n",
    "            return categories_list[0][\"name\"].encode('ascii',errors='ignore')\n",
    "\n",
    "    # filter the category for each row\n",
    "    dataframe_filtered['categories'] = dataframe_filtered.apply(get_category_type, axis=1)\n",
    "\n",
    "    # clean column names by keeping only last term\n",
    "    dataframe_filtered.columns = [column.split(\".\")[-1] for column in dataframe_filtered.columns]\n",
    "    \n",
    "    return dataframe_filtered"
   ]
  },
  {
   "cell_type": "markdown",
   "metadata": {},
   "source": [
    "#### Get Venue Data Around Location for Several Radius Distances"
   ]
  },
  {
   "cell_type": "code",
   "execution_count": 5,
   "metadata": {
    "collapsed": true
   },
   "outputs": [],
   "source": [
    "def get_data(radius_list, params):\n",
    "    '''(list, dict) -> list of DataFrames\n",
    "    \n",
    "    Given a list of radius distances, return list of \n",
    "    DataFrames of Venues in those areas.\n",
    "    '''\n",
    "    df_list = []\n",
    "    for radius in radius_list:\n",
    "        params.update({'radius' : radius})\n",
    "        offset=0\n",
    "        venues = pd.DataFrame()\n",
    "        temp = [1]\n",
    "        #Keep fetching from API until done getting all from Four Square\n",
    "        while True:\n",
    "            temp = fetch_venues(params, offset=offset)\n",
    "            if len(temp) == 0:\n",
    "                break\n",
    "            venues = pd.concat([venues, temp])\n",
    "            offset += 50\n",
    "        venues.columns = ['name', 'url', 'list', 'id', 'categories']\n",
    "        df_list.append(venues)\n",
    "    return df_list"
   ]
  },
  {
   "cell_type": "code",
   "execution_count": 6,
   "metadata": {
    "collapsed": false
   },
   "outputs": [
    {
     "name": "stdout",
     "output_type": "stream",
     "text": [
      "40.7635464\n",
      "-73.9620774\n"
     ]
    }
   ],
   "source": [
    "#Add address to params\n",
    "address = \"1218 2nd Ave, New York, NY 10065\"\n",
    "params.update(lat_long(address))"
   ]
  },
  {
   "cell_type": "code",
   "execution_count": 7,
   "metadata": {
    "collapsed": true
   },
   "outputs": [],
   "source": [
    "#Get list of DataFrames\n",
    "dfs = get_data([500, 1000, 5000], params)"
   ]
  },
  {
   "cell_type": "markdown",
   "metadata": {},
   "source": [
    "#### Flatten Four Square Categories into Parent Level Venue Categories"
   ]
  },
  {
   "cell_type": "code",
   "execution_count": 8,
   "metadata": {
    "collapsed": false
   },
   "outputs": [],
   "source": [
    "#Hash four square categories\n",
    "cat_list_url = 'https://api.foursquare.com/v2/venues/categories?client_id=33D0NQYSP2AKAIEEZJNWEPSIU23UAGAXJ1EL0B1J13I4XGHC&client_secret=ONNNBGVMFHQ3TVUXDVWYVWDDQSZEM42XBO23BUBGC3ZOZ2V0&v=20170512'\n",
    "\n",
    "response = requests.get(cat_list_url).json()\n",
    "cat = response['response']['categories']\n",
    "\n",
    "\n",
    "# Hashing categories {top_category: [sub categories], ... }\n",
    "cats = {}\n",
    "for c in cat:\n",
    "    top = c['name']\n",
    "    cats[top] = []\n",
    "    for sub in c['categories']:\n",
    "        cats[top].append(sub['name'])"
   ]
  },
  {
   "cell_type": "code",
   "execution_count": 9,
   "metadata": {
    "collapsed": true
   },
   "outputs": [],
   "source": [
    "#Encocde each datafraem with parent category\n",
    "def apply_cat(row):\n",
    "    #cats = global hash dict\n",
    "    key_list = cats.keys()\n",
    "    if row['categories'] in key_list:\n",
    "        return row['categories']\n",
    "    for key in cats:\n",
    "        if row['categories'] in cats[key]:\n",
    "            return key"
   ]
  },
  {
   "cell_type": "markdown",
   "metadata": {},
   "source": [
    "### Add Venue Category Metrics"
   ]
  },
  {
   "cell_type": "code",
   "execution_count": 10,
   "metadata": {
    "collapsed": true
   },
   "outputs": [],
   "source": [
    "#Add metrics to each df\n",
    "def add_cat_cols_to_df(df, radius_string):\n",
    "    '''Returns df with new categories\n",
    "    columns for plotting'''\n",
    "    df['parent_cat'] = df.apply(apply_cat, axis=1)\n",
    "    df['parent_freq'] = df.groupby('parent_cat')['parent_cat'].transform('count')\n",
    "    non_null_sum = len(df) - df['parent_cat'].isnull().sum()\n",
    "    df['parent_percent'] = df['parent_freq'] / non_null_sum\n",
    "    df['radius'] = radius_string\n",
    "    return df"
   ]
  },
  {
   "cell_type": "code",
   "execution_count": 11,
   "metadata": {
    "collapsed": false
   },
   "outputs": [],
   "source": [
    "dfs[0] = add_cat_cols_to_df(dfs[0], '500m')\n",
    "dfs[1] = add_cat_cols_to_df(dfs[1], '1000m')\n",
    "dfs[2] = add_cat_cols_to_df(dfs[2], '5000m')"
   ]
  },
  {
   "cell_type": "markdown",
   "metadata": {},
   "source": [
    "# Visualize Data by Venue Category"
   ]
  },
  {
   "cell_type": "code",
   "execution_count": 12,
   "metadata": {
    "collapsed": false
   },
   "outputs": [
    {
     "name": "stdout",
     "output_type": "stream",
     "text": [
      "Requirement already satisfied: seaborn in c:\\programdata\\anaconda2\\lib\\site-packages\n"
     ]
    }
   ],
   "source": [
    "!pip install seaborn"
   ]
  },
  {
   "cell_type": "code",
   "execution_count": 13,
   "metadata": {
    "collapsed": true
   },
   "outputs": [],
   "source": [
    "import seaborn as sns\n",
    "sns.set(style=\"whitegrid\", color_codes=True)\n",
    "plt.rcParams['figure.figsize']=(16,8)"
   ]
  },
  {
   "cell_type": "code",
   "execution_count": 14,
   "metadata": {
    "collapsed": true
   },
   "outputs": [],
   "source": [
    "all_df = pd.concat([dfs[0], dfs[1], dfs[2]])"
   ]
  },
  {
   "cell_type": "code",
   "execution_count": 15,
   "metadata": {
    "collapsed": false
   },
   "outputs": [],
   "source": [
    "#Remove categories not relevant to private land use\n",
    "all_df = all_df[all_df['parent_cat']!=\"College & University\"]\n",
    "all_df = all_df[all_df['parent_cat']!=\"Outdoors & Recreation\"]"
   ]
  },
  {
   "cell_type": "code",
   "execution_count": 16,
   "metadata": {
    "collapsed": false
   },
   "outputs": [
    {
     "data": {
      "text/plain": [
       "[<matplotlib.text.Text at 0xdba18d0>, <matplotlib.text.Text at 0xdb15dd8>]"
      ]
     },
     "execution_count": 16,
     "metadata": {},
     "output_type": "execute_result"
    },
    {
     "data": {
      "image/png": "[encoded data removed]",
      "text/plain": [
       "<matplotlib.figure.Figure at 0xdaea550>"
      ]
     },
     "metadata": {},
     "output_type": "display_data"
    }
   ],
   "source": [
    "#Create plot\n",
    "ax = sns.barplot(x=\"parent_cat\", y=\"parent_percent\", hue=\"radius\", data=all_df)\n",
    "sns.plt.title(\"Venue Category Density by Distance from Location\")\n",
    "ax.set(xlabel='Venue Category', ylabel='Average Venue Type')"
   ]
  },
  {
   "cell_type": "markdown",
   "metadata": {},
   "source": [
    "# Visualize by Location Density"
   ]
  },
  {
   "cell_type": "code",
   "execution_count": 17,
   "metadata": {
    "collapsed": false
   },
   "outputs": [
    {
     "name": "stdout",
     "output_type": "stream",
     "text": [
      "Requirement already satisfied: folium in c:\\programdata\\anaconda2\\lib\\site-packages\n",
      "Requirement already satisfied: Jinja2 in c:\\programdata\\anaconda2\\lib\\site-packages (from folium)\n",
      "Requirement already satisfied: six in c:\\programdata\\anaconda2\\lib\\site-packages (from folium)\n",
      "Requirement already satisfied: branca in c:\\programdata\\anaconda2\\lib\\site-packages (from folium)\n",
      "Requirement already satisfied: MarkupSafe>=0.23 in c:\\programdata\\anaconda2\\lib\\site-packages (from Jinja2->folium)\n"
     ]
    }
   ],
   "source": [
    "!pip install folium"
   ]
  },
  {
   "cell_type": "code",
   "execution_count": 18,
   "metadata": {
    "collapsed": false
   },
   "outputs": [
    {
     "data": {
      "text/plain": [
       "<folium.map.Marker at 0xe25f898>"
      ]
     },
     "execution_count": 18,
     "metadata": {},
     "output_type": "execute_result"
    }
   ],
   "source": [
    "import folium\n",
    "\n",
    "#Address location\n",
    "map_nyc = folium.Map(location=[40.7635464,-73.9620774], zoom_start=16)\n",
    "folium.Marker([40.7635464, -73.9620774], popup = \"Location\").add_to(map_nyc)"
   ]
  },
  {
   "cell_type": "code",
   "execution_count": 19,
   "metadata": {
    "collapsed": true
   },
   "outputs": [],
   "source": [
    "#Get list of nearby venues\n",
    "def fetch_venues_ll(params, radius=200):\n",
    "    params.update({'radius': radius}) \n",
    "    response = requests.get(api_url, params=params).json()\n",
    "    totalResults = response['response']['totalResults']\n",
    "    venues = []\n",
    "    while len(venues) != totalResults:\n",
    "        venues.extend(response['response']['groups'][0]['items'])\n",
    "        params.update({'offset': params.get('offset', 0) + 50})\n",
    "        response = requests.get(api_url, params=params).json()\n",
    "    response = requests.get(api_url, params=params).json()\n",
    "\n",
    "    return venues"
   ]
  },
  {
   "cell_type": "code",
   "execution_count": 20,
   "metadata": {
    "collapsed": false
   },
   "outputs": [],
   "source": [
    "#Get nearby venues\n",
    "params.update({'radius':200})\n",
    "params.update({'offset':0})\n",
    "near_by = fetch_venues_ll(params)"
   ]
  },
  {
   "cell_type": "code",
   "execution_count": 21,
   "metadata": {
    "collapsed": false
   },
   "outputs": [],
   "source": [
    "#Get data about each nearby location\n",
    "locations = []\n",
    "\n",
    "for spot in near_by:\n",
    "    lat = spot['venue']['location']['lat']\n",
    "    lon = spot['venue']['location']['lng']\n",
    "    check_count = spot['venue']['stats']['checkinsCount']\n",
    "    user_count = spot['venue']['stats']['usersCount']\n",
    "    loc_cat = spot['venue']['categories'][0]['name']\n",
    "    #Encode loc_cat into category\n",
    "    locations.append((lat, lon, check_count, user_count, loc_cat))"
   ]
  },
  {
   "cell_type": "code",
   "execution_count": 22,
   "metadata": {
    "collapsed": false
   },
   "outputs": [],
   "source": [
    "def add_point(LAT, LON, CHK, USR, COLOR):\n",
    "                            folium.CircleMarker([LAT, LON], \n",
    "                            popup = 'CheckIn Count: %d\\n User Count: %d' % (CHK, USR), #text\n",
    "                            radius = 9,\n",
    "                            color = COLOR,\n",
    "                            fill_color = COLOR,\n",
    "                            fill_opacity = 0.7).add_to(map_nyc)\n",
    "\n",
    "#Colorized by category - hardcoded to simply illustrate the point of color coding locations by venue category\n",
    "for LAT, LON, CHK, USR, CAT in locations:\n",
    "    if CAT.startswith(\"Italian\"):\n",
    "        add_point(LAT, LON, CHK, USR, 'blue')\n",
    "    elif CAT.endswith(\"Shop\"):\n",
    "        add_point(LAT, LON, CHK, USR, 'red')\n",
    "    elif \"Health\" in CAT or \"Gym\" in CAT or \"Dance\" in CAT:\n",
    "        add_point(LAT, LON, CHK, USR, 'yellow')\n",
    "    elif \"Hotel\" in CAT:\n",
    "        add_point(LAT, LON, CHK, USR, 'purple')\n",
    "    else:\n",
    "        add_point(LAT, LON, CHK, USR, 'green')"
   ]
  },
  {
   "cell_type": "code",
   "execution_count": 23,
   "metadata": {
    "collapsed": false
   },
   "outputs": [
    {
     "data": {
      "text/html": [
       "<div style=\"width:100%;\"><div style=\"position:relative;width:100%;height:0;padding-bottom:60%;\"><iframe src=\"data:text/html;charset=utf-8;base64,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\" style=\"position:absolute;width:100%;height:100%;left:0;top:0;border:none !important;\" allowfullscreen webkitallowfullscreen mozallowfullscreen></iframe></div></div>"
      ],
      "text/plain": [
       "<folium.folium.Map at 0xdfcb160>"
      ]
     },
     "execution_count": 23,
     "metadata": {},
     "output_type": "execute_result"
    }
   ],
   "source": [
    "map_nyc"
   ]
  },
  {
   "cell_type": "markdown",
   "metadata": {},
   "source": [
    "# Next Steps\n",
    "\n",
    "### Enhancing with Four Square User Data\n",
    "- Build \"home\" location of user, see which venues they frequently travel for\n",
    "- Address user pain points - what venue do they have to travel far for on a regular basis?\n",
    "- Given \"home\" location of user, understand neighborhood population beter\n",
    "\n",
    "\n",
    "### Using Additional Data Sets\n",
    "- Government Data (Census, Public Records)\n",
    "- Google Walking Distance\n",
    "\n",
    "\n",
    "### Public Land - Secondary Use\n",
    "- Aiding government in deciding best use case for public land\n",
    "- Addressing community needs"
   ]
  }
 ],
 "metadata": {
  "kernelspec": {
   "display_name": "Python 2",
   "language": "python",
   "name": "python2"
  },
  "language_info": {
   "codemirror_mode": {
    "name": "ipython",
    "version": 2
   },
   "file_extension": ".py",
   "mimetype": "text/x-python",
   "name": "python",
   "nbconvert_exporter": "python",
   "pygments_lexer": "ipython2",
   "version": "2.7.13"
  }
 },
 "nbformat": 4,
 "nbformat_minor": 0
}
