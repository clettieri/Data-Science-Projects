{
 "cells": [
  {
   "cell_type": "markdown",
   "metadata": {},
   "source": [
    "# How I Developed a Real Automated Trading System Using Machine Learning\n",
    "\n",
    "Please note that this notebook is using a data set that you will not have access to and that feature names have been anonymized.  I also import a library called system_demo that will not be shared at this time.  The reason for this is that I am currently trading this system at my firm.\n",
    "\n",
    "I hope to use this notebook to illustrate how using EDA I determined which features were the most important.  It's actualy in this EDA step that I built my live system.  However, this notebook does take it a step further and show how to build an ML model for this data set.\n",
    "\n",
    "### 1. Understand the Problem\n",
    "\n",
    "This as a supervised classification problem.  The label column is % gain on the trade.  We will clasify a winning trade as 0.05% gain.  This may seem like a small gain but these trades and this data is for a system to hold trades for extremely short periods of time and to use high leverage."
   ]
  },
  {
   "cell_type": "code",
   "execution_count": 1,
   "metadata": {
    "collapsed": true
   },
   "outputs": [],
   "source": [
    "from system_demo import *\n",
    "import pandas as pd\n",
    "import numpy as np\n",
    "import matplotlib.pyplot as plt\n",
    "%matplotlib inline"
   ]
  },
  {
   "cell_type": "markdown",
   "metadata": {},
   "source": [
    "### 2. Data Collection & Cleaning"
   ]
  },
  {
   "cell_type": "code",
   "execution_count": 2,
   "metadata": {
    "collapsed": false
   },
   "outputs": [],
   "source": [
    "#Load raw data\n",
    "full_df = load_filtered_df('2017 Jan-May Data.csv')"
   ]
  },
  {
   "cell_type": "code",
   "execution_count": 3,
   "metadata": {
    "collapsed": false
   },
   "outputs": [],
   "source": [
    "#Add custom features - from system_demo\n",
    "full_df = add_new_features(full_df)"
   ]
  },
  {
   "cell_type": "code",
   "execution_count": 4,
   "metadata": {
    "collapsed": false
   },
   "outputs": [
    {
     "data": {
      "text/html": [
       "<div>\n",
       "<table border=\"1\" class=\"dataframe\">\n",
       "  <thead>\n",
       "    <tr style=\"text-align: right;\">\n",
       "      <th></th>\n",
       "      <th>Date</th>\n",
       "      <th>X1</th>\n",
       "      <th>X2</th>\n",
       "      <th>X3A</th>\n",
       "      <th>X3B</th>\n",
       "      <th>X3C</th>\n",
       "      <th>X4A</th>\n",
       "      <th>X4B</th>\n",
       "      <th>X4C</th>\n",
       "      <th>X5</th>\n",
       "      <th>X6A</th>\n",
       "      <th>X6B</th>\n",
       "      <th>X6C</th>\n",
       "      <th>X7</th>\n",
       "      <th>Label</th>\n",
       "    </tr>\n",
       "  </thead>\n",
       "  <tbody>\n",
       "    <tr>\n",
       "      <th>9</th>\n",
       "      <td>20170112</td>\n",
       "      <td>90900.0</td>\n",
       "      <td>2.16</td>\n",
       "      <td>66.33</td>\n",
       "      <td>0.35</td>\n",
       "      <td>0.23</td>\n",
       "      <td>1.330893</td>\n",
       "      <td>0.843228</td>\n",
       "      <td>0.904478</td>\n",
       "      <td>6050304.0</td>\n",
       "      <td>0.008403</td>\n",
       "      <td>-0.042017</td>\n",
       "      <td>-0.033613</td>\n",
       "      <td>0.0216</td>\n",
       "      <td>0.05</td>\n",
       "    </tr>\n",
       "    <tr>\n",
       "      <th>10</th>\n",
       "      <td>20170112</td>\n",
       "      <td>261800.0</td>\n",
       "      <td>1.21</td>\n",
       "      <td>59.20</td>\n",
       "      <td>0.07</td>\n",
       "      <td>0.04</td>\n",
       "      <td>4.768670</td>\n",
       "      <td>0.808025</td>\n",
       "      <td>0.880592</td>\n",
       "      <td>15509032.0</td>\n",
       "      <td>-0.000000</td>\n",
       "      <td>-0.008264</td>\n",
       "      <td>-0.000000</td>\n",
       "      <td>0.0121</td>\n",
       "      <td>-0.00</td>\n",
       "    </tr>\n",
       "    <tr>\n",
       "      <th>18</th>\n",
       "      <td>20170112</td>\n",
       "      <td>95300.0</td>\n",
       "      <td>1.18</td>\n",
       "      <td>96.14</td>\n",
       "      <td>0.23</td>\n",
       "      <td>0.22</td>\n",
       "      <td>0.672548</td>\n",
       "      <td>0.732513</td>\n",
       "      <td>0.850134</td>\n",
       "      <td>9141176.0</td>\n",
       "      <td>0.071685</td>\n",
       "      <td>0.060932</td>\n",
       "      <td>0.032258</td>\n",
       "      <td>0.0118</td>\n",
       "      <td>-0.03</td>\n",
       "    </tr>\n",
       "    <tr>\n",
       "      <th>21</th>\n",
       "      <td>20170112</td>\n",
       "      <td>65700.0</td>\n",
       "      <td>1.20</td>\n",
       "      <td>93.66</td>\n",
       "      <td>0.29</td>\n",
       "      <td>0.27</td>\n",
       "      <td>0.557725</td>\n",
       "      <td>0.717249</td>\n",
       "      <td>0.744898</td>\n",
       "      <td>6171201.0</td>\n",
       "      <td>0.039474</td>\n",
       "      <td>0.065789</td>\n",
       "      <td>0.065789</td>\n",
       "      <td>0.0120</td>\n",
       "      <td>0.05</td>\n",
       "    </tr>\n",
       "    <tr>\n",
       "      <th>26</th>\n",
       "      <td>20170112</td>\n",
       "      <td>68700.0</td>\n",
       "      <td>1.83</td>\n",
       "      <td>77.12</td>\n",
       "      <td>0.23</td>\n",
       "      <td>0.18</td>\n",
       "      <td>0.604222</td>\n",
       "      <td>0.535881</td>\n",
       "      <td>0.571072</td>\n",
       "      <td>5285778.0</td>\n",
       "      <td>0.078652</td>\n",
       "      <td>0.033708</td>\n",
       "      <td>0.056180</td>\n",
       "      <td>0.0183</td>\n",
       "      <td>-0.08</td>\n",
       "    </tr>\n",
       "  </tbody>\n",
       "</table>\n",
       "</div>"
      ],
      "text/plain": [
       "        Date        X1    X2    X3A   X3B   X3C       X4A       X4B       X4C  \\\n",
       "9   20170112   90900.0  2.16  66.33  0.35  0.23  1.330893  0.843228  0.904478   \n",
       "10  20170112  261800.0  1.21  59.20  0.07  0.04  4.768670  0.808025  0.880592   \n",
       "18  20170112   95300.0  1.18  96.14  0.23  0.22  0.672548  0.732513  0.850134   \n",
       "21  20170112   65700.0  1.20  93.66  0.29  0.27  0.557725  0.717249  0.744898   \n",
       "26  20170112   68700.0  1.83  77.12  0.23  0.18  0.604222  0.535881  0.571072   \n",
       "\n",
       "            X5       X6A       X6B       X6C      X7  Label  \n",
       "9    6050304.0  0.008403 -0.042017 -0.033613  0.0216   0.05  \n",
       "10  15509032.0 -0.000000 -0.008264 -0.000000  0.0121  -0.00  \n",
       "18   9141176.0  0.071685  0.060932  0.032258  0.0118  -0.03  \n",
       "21   6171201.0  0.039474  0.065789  0.065789  0.0120   0.05  \n",
       "26   5285778.0  0.078652  0.033708  0.056180  0.0183  -0.08  "
      ]
     },
     "execution_count": 4,
     "metadata": {},
     "output_type": "execute_result"
    }
   ],
   "source": [
    "#Anonymize data - from system_demo\n",
    "df = full_df[COLS_TO_SHOW].copy()\n",
    "df.columns = COL_NAMES\n",
    "df.head()"
   ]
  },
  {
   "cell_type": "code",
   "execution_count": 5,
   "metadata": {
    "collapsed": false
   },
   "outputs": [
    {
     "data": {
      "text/plain": [
       "Date       int64\n",
       "X1       float64\n",
       "X2       float64\n",
       "X3A      float64\n",
       "X3B      float64\n",
       "X3C      float64\n",
       "X4A      float64\n",
       "X4B      float64\n",
       "X4C      float64\n",
       "X5       float64\n",
       "X6A      float64\n",
       "X6B      float64\n",
       "X6C      float64\n",
       "X7       float64\n",
       "Label    float64\n",
       "dtype: object"
      ]
     },
     "execution_count": 5,
     "metadata": {},
     "output_type": "execute_result"
    }
   ],
   "source": [
    "df.dtypes"
   ]
  },
  {
   "cell_type": "code",
   "execution_count": 6,
   "metadata": {
    "collapsed": false
   },
   "outputs": [
    {
     "name": "stdout",
     "output_type": "stream",
     "text": [
      "<class 'pandas.core.frame.DataFrame'>\n",
      "Int64Index: 3664 entries, 9 to 9711\n",
      "Data columns (total 15 columns):\n",
      "Date     3664 non-null int64\n",
      "X1       3664 non-null float64\n",
      "X2       3664 non-null float64\n",
      "X3A      3664 non-null float64\n",
      "X3B      3664 non-null float64\n",
      "X3C      3664 non-null float64\n",
      "X4A      3664 non-null float64\n",
      "X4B      3664 non-null float64\n",
      "X4C      3664 non-null float64\n",
      "X5       3664 non-null float64\n",
      "X6A      3664 non-null float64\n",
      "X6B      3664 non-null float64\n",
      "X6C      3664 non-null float64\n",
      "X7       3664 non-null float64\n",
      "Label    3664 non-null float64\n",
      "dtypes: float64(14), int64(1)\n",
      "memory usage: 458.0 KB\n"
     ]
    }
   ],
   "source": [
    "df.info()"
   ]
  },
  {
   "cell_type": "markdown",
   "metadata": {},
   "source": [
    "Data looks good, all in numerical format and no null values to deal with.  One thing I will do here, before the exploratory data analysis, is to split my data into a train and test set.  \n",
    "\n",
    "Since this is time series data it would potentially be biased to sample randomly from the data set as we could be looking at future info to make predictions on older data points.  Therefore I will split the data by withholding the month of May as my test set."
   ]
  },
  {
   "cell_type": "code",
   "execution_count": 7,
   "metadata": {
    "collapsed": false
   },
   "outputs": [],
   "source": [
    "#Split into train & test sets -> do not want look-ahead bias during EDA\n",
    "df_train = df[df['Date'] < 20170501].copy()\n",
    "df_test = df[df['Date'] >= 20170501].copy()"
   ]
  },
  {
   "cell_type": "markdown",
   "metadata": {},
   "source": [
    "### 3. Explore & Understand the Data\n",
    "\n",
    "First let's get a basic feel for the data we have, then look at which variables can drive the results the most.\n",
    "\n",
    "##### Quantitative EDA"
   ]
  },
  {
   "cell_type": "code",
   "execution_count": 8,
   "metadata": {
    "collapsed": false
   },
   "outputs": [
    {
     "data": {
      "text/html": [
       "<div>\n",
       "<table border=\"1\" class=\"dataframe\">\n",
       "  <thead>\n",
       "    <tr style=\"text-align: right;\">\n",
       "      <th></th>\n",
       "      <th>Date</th>\n",
       "      <th>X1</th>\n",
       "      <th>X2</th>\n",
       "      <th>X3A</th>\n",
       "      <th>X3B</th>\n",
       "      <th>X3C</th>\n",
       "      <th>X4A</th>\n",
       "      <th>X4B</th>\n",
       "      <th>X4C</th>\n",
       "      <th>X5</th>\n",
       "      <th>X6A</th>\n",
       "      <th>X6B</th>\n",
       "      <th>X6C</th>\n",
       "      <th>X7</th>\n",
       "      <th>Label</th>\n",
       "    </tr>\n",
       "  </thead>\n",
       "  <tbody>\n",
       "    <tr>\n",
       "      <th>count</th>\n",
       "      <td>2.873000e+03</td>\n",
       "      <td>2.873000e+03</td>\n",
       "      <td>2873.000000</td>\n",
       "      <td>2873.000000</td>\n",
       "      <td>2873.000000</td>\n",
       "      <td>2873.000000</td>\n",
       "      <td>2873.000000</td>\n",
       "      <td>2873.000000</td>\n",
       "      <td>2873.000000</td>\n",
       "      <td>2.873000e+03</td>\n",
       "      <td>2873.000000</td>\n",
       "      <td>2873.000000</td>\n",
       "      <td>2873.000000</td>\n",
       "      <td>2873.000000</td>\n",
       "      <td>2873.000000</td>\n",
       "    </tr>\n",
       "    <tr>\n",
       "      <th>mean</th>\n",
       "      <td>2.017027e+07</td>\n",
       "      <td>9.646568e+04</td>\n",
       "      <td>3.483568</td>\n",
       "      <td>80.987386</td>\n",
       "      <td>9.582001</td>\n",
       "      <td>7.685952</td>\n",
       "      <td>0.622273</td>\n",
       "      <td>0.820762</td>\n",
       "      <td>1.011360</td>\n",
       "      <td>6.971280e+06</td>\n",
       "      <td>0.048562</td>\n",
       "      <td>0.024737</td>\n",
       "      <td>0.014404</td>\n",
       "      <td>inf</td>\n",
       "      <td>0.011504</td>\n",
       "    </tr>\n",
       "    <tr>\n",
       "      <th>std</th>\n",
       "      <td>1.107518e+02</td>\n",
       "      <td>1.211039e+05</td>\n",
       "      <td>4.971668</td>\n",
       "      <td>264.524693</td>\n",
       "      <td>341.611339</td>\n",
       "      <td>261.475330</td>\n",
       "      <td>0.481314</td>\n",
       "      <td>7.187268</td>\n",
       "      <td>7.194544</td>\n",
       "      <td>9.163320e+06</td>\n",
       "      <td>0.119415</td>\n",
       "      <td>0.076083</td>\n",
       "      <td>0.046524</td>\n",
       "      <td>NaN</td>\n",
       "      <td>0.071960</td>\n",
       "    </tr>\n",
       "    <tr>\n",
       "      <th>min</th>\n",
       "      <td>2.017010e+07</td>\n",
       "      <td>1.000000e+02</td>\n",
       "      <td>0.000000</td>\n",
       "      <td>0.000000</td>\n",
       "      <td>0.000000</td>\n",
       "      <td>0.000000</td>\n",
       "      <td>0.000508</td>\n",
       "      <td>-1.000000</td>\n",
       "      <td>-1.000000</td>\n",
       "      <td>5.059000e+03</td>\n",
       "      <td>-1.090909</td>\n",
       "      <td>-0.405063</td>\n",
       "      <td>-0.368421</td>\n",
       "      <td>0.000100</td>\n",
       "      <td>-0.700000</td>\n",
       "    </tr>\n",
       "    <tr>\n",
       "      <th>25%</th>\n",
       "      <td>2.017013e+07</td>\n",
       "      <td>4.570000e+04</td>\n",
       "      <td>1.010000</td>\n",
       "      <td>49.920000</td>\n",
       "      <td>0.140000</td>\n",
       "      <td>0.080000</td>\n",
       "      <td>0.352727</td>\n",
       "      <td>0.411849</td>\n",
       "      <td>0.488404</td>\n",
       "      <td>2.488176e+06</td>\n",
       "      <td>-0.021739</td>\n",
       "      <td>-0.018182</td>\n",
       "      <td>-0.010417</td>\n",
       "      <td>0.010200</td>\n",
       "      <td>-0.020000</td>\n",
       "    </tr>\n",
       "    <tr>\n",
       "      <th>50%</th>\n",
       "      <td>2.017030e+07</td>\n",
       "      <td>6.510000e+04</td>\n",
       "      <td>2.040000</td>\n",
       "      <td>66.970000</td>\n",
       "      <td>0.250000</td>\n",
       "      <td>0.160000</td>\n",
       "      <td>0.577052</td>\n",
       "      <td>0.648840</td>\n",
       "      <td>0.732381</td>\n",
       "      <td>4.413982e+06</td>\n",
       "      <td>0.041509</td>\n",
       "      <td>0.019417</td>\n",
       "      <td>0.011905</td>\n",
       "      <td>0.020400</td>\n",
       "      <td>0.010000</td>\n",
       "    </tr>\n",
       "    <tr>\n",
       "      <th>75%</th>\n",
       "      <td>2.017033e+07</td>\n",
       "      <td>1.083000e+05</td>\n",
       "      <td>3.810000</td>\n",
       "      <td>88.250000</td>\n",
       "      <td>0.390000</td>\n",
       "      <td>0.290000</td>\n",
       "      <td>0.771642</td>\n",
       "      <td>0.828317</td>\n",
       "      <td>0.901126</td>\n",
       "      <td>8.127087e+06</td>\n",
       "      <td>0.106667</td>\n",
       "      <td>0.063158</td>\n",
       "      <td>0.037736</td>\n",
       "      <td>0.038200</td>\n",
       "      <td>0.040000</td>\n",
       "    </tr>\n",
       "    <tr>\n",
       "      <th>max</th>\n",
       "      <td>2.017043e+07</td>\n",
       "      <td>2.802700e+06</td>\n",
       "      <td>81.080000</td>\n",
       "      <td>9999.950000</td>\n",
       "      <td>16374.380000</td>\n",
       "      <td>9939.250000</td>\n",
       "      <td>7.337066</td>\n",
       "      <td>379.000000</td>\n",
       "      <td>291.000000</td>\n",
       "      <td>1.961049e+08</td>\n",
       "      <td>1.183673</td>\n",
       "      <td>0.877551</td>\n",
       "      <td>0.551020</td>\n",
       "      <td>inf</td>\n",
       "      <td>0.680000</td>\n",
       "    </tr>\n",
       "  </tbody>\n",
       "</table>\n",
       "</div>"
      ],
      "text/plain": [
       "               Date            X1           X2          X3A           X3B  \\\n",
       "count  2.873000e+03  2.873000e+03  2873.000000  2873.000000   2873.000000   \n",
       "mean   2.017027e+07  9.646568e+04     3.483568    80.987386      9.582001   \n",
       "std    1.107518e+02  1.211039e+05     4.971668   264.524693    341.611339   \n",
       "min    2.017010e+07  1.000000e+02     0.000000     0.000000      0.000000   \n",
       "25%    2.017013e+07  4.570000e+04     1.010000    49.920000      0.140000   \n",
       "50%    2.017030e+07  6.510000e+04     2.040000    66.970000      0.250000   \n",
       "75%    2.017033e+07  1.083000e+05     3.810000    88.250000      0.390000   \n",
       "max    2.017043e+07  2.802700e+06    81.080000  9999.950000  16374.380000   \n",
       "\n",
       "               X3C          X4A          X4B          X4C            X5  \\\n",
       "count  2873.000000  2873.000000  2873.000000  2873.000000  2.873000e+03   \n",
       "mean      7.685952     0.622273     0.820762     1.011360  6.971280e+06   \n",
       "std     261.475330     0.481314     7.187268     7.194544  9.163320e+06   \n",
       "min       0.000000     0.000508    -1.000000    -1.000000  5.059000e+03   \n",
       "25%       0.080000     0.352727     0.411849     0.488404  2.488176e+06   \n",
       "50%       0.160000     0.577052     0.648840     0.732381  4.413982e+06   \n",
       "75%       0.290000     0.771642     0.828317     0.901126  8.127087e+06   \n",
       "max    9939.250000     7.337066   379.000000   291.000000  1.961049e+08   \n",
       "\n",
       "               X6A          X6B          X6C           X7        Label  \n",
       "count  2873.000000  2873.000000  2873.000000  2873.000000  2873.000000  \n",
       "mean      0.048562     0.024737     0.014404          inf     0.011504  \n",
       "std       0.119415     0.076083     0.046524          NaN     0.071960  \n",
       "min      -1.090909    -0.405063    -0.368421     0.000100    -0.700000  \n",
       "25%      -0.021739    -0.018182    -0.010417     0.010200    -0.020000  \n",
       "50%       0.041509     0.019417     0.011905     0.020400     0.010000  \n",
       "75%       0.106667     0.063158     0.037736     0.038200     0.040000  \n",
       "max       1.183673     0.877551     0.551020          inf     0.680000  "
      ]
     },
     "execution_count": 8,
     "metadata": {},
     "output_type": "execute_result"
    }
   ],
   "source": [
    "#Describe\n",
    "df_train.describe()"
   ]
  },
  {
   "cell_type": "code",
   "execution_count": 9,
   "metadata": {
    "collapsed": false
   },
   "outputs": [
    {
     "data": {
      "text/html": [
       "<div>\n",
       "<table border=\"1\" class=\"dataframe\">\n",
       "  <thead>\n",
       "    <tr style=\"text-align: right;\">\n",
       "      <th></th>\n",
       "      <th>Date</th>\n",
       "      <th>X1</th>\n",
       "      <th>X2</th>\n",
       "      <th>X3A</th>\n",
       "      <th>X3B</th>\n",
       "      <th>X3C</th>\n",
       "      <th>X4A</th>\n",
       "      <th>X4B</th>\n",
       "      <th>X4C</th>\n",
       "      <th>X5</th>\n",
       "      <th>X6A</th>\n",
       "      <th>X6B</th>\n",
       "      <th>X6C</th>\n",
       "      <th>X7</th>\n",
       "      <th>Label</th>\n",
       "    </tr>\n",
       "  </thead>\n",
       "  <tbody>\n",
       "    <tr>\n",
       "      <th>Date</th>\n",
       "      <td>1.000000</td>\n",
       "      <td>-0.025951</td>\n",
       "      <td>0.057889</td>\n",
       "      <td>-0.010912</td>\n",
       "      <td>-0.003303</td>\n",
       "      <td>-0.011518</td>\n",
       "      <td>-0.062146</td>\n",
       "      <td>-0.000179</td>\n",
       "      <td>0.001349</td>\n",
       "      <td>-0.017054</td>\n",
       "      <td>0.031245</td>\n",
       "      <td>0.001706</td>\n",
       "      <td>-0.000136</td>\n",
       "      <td>0.057573</td>\n",
       "      <td>-0.101219</td>\n",
       "    </tr>\n",
       "    <tr>\n",
       "      <th>X1</th>\n",
       "      <td>-0.025951</td>\n",
       "      <td>1.000000</td>\n",
       "      <td>0.369765</td>\n",
       "      <td>0.050181</td>\n",
       "      <td>0.051927</td>\n",
       "      <td>0.060750</td>\n",
       "      <td>0.344406</td>\n",
       "      <td>0.026983</td>\n",
       "      <td>0.013400</td>\n",
       "      <td>0.827705</td>\n",
       "      <td>0.204267</td>\n",
       "      <td>0.220300</td>\n",
       "      <td>0.261155</td>\n",
       "      <td>0.369400</td>\n",
       "      <td>0.214303</td>\n",
       "    </tr>\n",
       "    <tr>\n",
       "      <th>X2</th>\n",
       "      <td>0.057889</td>\n",
       "      <td>0.369765</td>\n",
       "      <td>1.000000</td>\n",
       "      <td>0.127957</td>\n",
       "      <td>0.146090</td>\n",
       "      <td>0.131493</td>\n",
       "      <td>0.200945</td>\n",
       "      <td>0.011766</td>\n",
       "      <td>0.008047</td>\n",
       "      <td>0.398436</td>\n",
       "      <td>0.228761</td>\n",
       "      <td>0.185478</td>\n",
       "      <td>0.161093</td>\n",
       "      <td>1.000000</td>\n",
       "      <td>0.187344</td>\n",
       "    </tr>\n",
       "    <tr>\n",
       "      <th>X3A</th>\n",
       "      <td>-0.010912</td>\n",
       "      <td>0.050181</td>\n",
       "      <td>0.127957</td>\n",
       "      <td>1.000000</td>\n",
       "      <td>0.938474</td>\n",
       "      <td>0.989207</td>\n",
       "      <td>0.068694</td>\n",
       "      <td>0.004401</td>\n",
       "      <td>0.003128</td>\n",
       "      <td>0.126169</td>\n",
       "      <td>0.104618</td>\n",
       "      <td>0.146011</td>\n",
       "      <td>0.124728</td>\n",
       "      <td>0.127940</td>\n",
       "      <td>0.168179</td>\n",
       "    </tr>\n",
       "    <tr>\n",
       "      <th>X3B</th>\n",
       "      <td>-0.003303</td>\n",
       "      <td>0.051927</td>\n",
       "      <td>0.146090</td>\n",
       "      <td>0.938474</td>\n",
       "      <td>1.000000</td>\n",
       "      <td>0.949627</td>\n",
       "      <td>0.087795</td>\n",
       "      <td>0.002198</td>\n",
       "      <td>-0.000855</td>\n",
       "      <td>0.063801</td>\n",
       "      <td>0.101456</td>\n",
       "      <td>0.146172</td>\n",
       "      <td>0.104015</td>\n",
       "      <td>0.146107</td>\n",
       "      <td>0.139351</td>\n",
       "    </tr>\n",
       "    <tr>\n",
       "      <th>X3C</th>\n",
       "      <td>-0.011518</td>\n",
       "      <td>0.060750</td>\n",
       "      <td>0.131493</td>\n",
       "      <td>0.989207</td>\n",
       "      <td>0.949627</td>\n",
       "      <td>1.000000</td>\n",
       "      <td>0.076265</td>\n",
       "      <td>0.001684</td>\n",
       "      <td>-0.000880</td>\n",
       "      <td>0.086623</td>\n",
       "      <td>0.101862</td>\n",
       "      <td>0.139547</td>\n",
       "      <td>0.115954</td>\n",
       "      <td>0.131505</td>\n",
       "      <td>0.168594</td>\n",
       "    </tr>\n",
       "    <tr>\n",
       "      <th>X4A</th>\n",
       "      <td>-0.062146</td>\n",
       "      <td>0.344406</td>\n",
       "      <td>0.200945</td>\n",
       "      <td>0.068694</td>\n",
       "      <td>0.087795</td>\n",
       "      <td>0.076265</td>\n",
       "      <td>1.000000</td>\n",
       "      <td>0.059481</td>\n",
       "      <td>0.065178</td>\n",
       "      <td>0.322830</td>\n",
       "      <td>0.111154</td>\n",
       "      <td>0.127729</td>\n",
       "      <td>0.132111</td>\n",
       "      <td>0.200226</td>\n",
       "      <td>0.130974</td>\n",
       "    </tr>\n",
       "    <tr>\n",
       "      <th>X4B</th>\n",
       "      <td>-0.000179</td>\n",
       "      <td>0.026983</td>\n",
       "      <td>0.011766</td>\n",
       "      <td>0.004401</td>\n",
       "      <td>0.002198</td>\n",
       "      <td>0.001684</td>\n",
       "      <td>0.059481</td>\n",
       "      <td>1.000000</td>\n",
       "      <td>-0.002169</td>\n",
       "      <td>0.039649</td>\n",
       "      <td>-0.027958</td>\n",
       "      <td>0.001445</td>\n",
       "      <td>0.014013</td>\n",
       "      <td>0.011651</td>\n",
       "      <td>-0.000592</td>\n",
       "    </tr>\n",
       "    <tr>\n",
       "      <th>X4C</th>\n",
       "      <td>0.001349</td>\n",
       "      <td>0.013400</td>\n",
       "      <td>0.008047</td>\n",
       "      <td>0.003128</td>\n",
       "      <td>-0.000855</td>\n",
       "      <td>-0.000880</td>\n",
       "      <td>0.065178</td>\n",
       "      <td>-0.002169</td>\n",
       "      <td>1.000000</td>\n",
       "      <td>0.022778</td>\n",
       "      <td>0.004741</td>\n",
       "      <td>0.012033</td>\n",
       "      <td>0.017637</td>\n",
       "      <td>0.007912</td>\n",
       "      <td>-0.001273</td>\n",
       "    </tr>\n",
       "    <tr>\n",
       "      <th>X5</th>\n",
       "      <td>-0.017054</td>\n",
       "      <td>0.827705</td>\n",
       "      <td>0.398436</td>\n",
       "      <td>0.126169</td>\n",
       "      <td>0.063801</td>\n",
       "      <td>0.086623</td>\n",
       "      <td>0.322830</td>\n",
       "      <td>0.039649</td>\n",
       "      <td>0.022778</td>\n",
       "      <td>1.000000</td>\n",
       "      <td>0.228621</td>\n",
       "      <td>0.254262</td>\n",
       "      <td>0.303559</td>\n",
       "      <td>0.398102</td>\n",
       "      <td>0.235790</td>\n",
       "    </tr>\n",
       "    <tr>\n",
       "      <th>X6A</th>\n",
       "      <td>0.031245</td>\n",
       "      <td>0.204267</td>\n",
       "      <td>0.228761</td>\n",
       "      <td>0.104618</td>\n",
       "      <td>0.101456</td>\n",
       "      <td>0.101862</td>\n",
       "      <td>0.111154</td>\n",
       "      <td>-0.027958</td>\n",
       "      <td>0.004741</td>\n",
       "      <td>0.228621</td>\n",
       "      <td>1.000000</td>\n",
       "      <td>0.662522</td>\n",
       "      <td>0.437983</td>\n",
       "      <td>0.228469</td>\n",
       "      <td>-0.096230</td>\n",
       "    </tr>\n",
       "    <tr>\n",
       "      <th>X6B</th>\n",
       "      <td>0.001706</td>\n",
       "      <td>0.220300</td>\n",
       "      <td>0.185478</td>\n",
       "      <td>0.146011</td>\n",
       "      <td>0.146172</td>\n",
       "      <td>0.139547</td>\n",
       "      <td>0.127729</td>\n",
       "      <td>0.001445</td>\n",
       "      <td>0.012033</td>\n",
       "      <td>0.254262</td>\n",
       "      <td>0.662522</td>\n",
       "      <td>1.000000</td>\n",
       "      <td>0.657484</td>\n",
       "      <td>0.185128</td>\n",
       "      <td>-0.054533</td>\n",
       "    </tr>\n",
       "    <tr>\n",
       "      <th>X6C</th>\n",
       "      <td>-0.000136</td>\n",
       "      <td>0.261155</td>\n",
       "      <td>0.161093</td>\n",
       "      <td>0.124728</td>\n",
       "      <td>0.104015</td>\n",
       "      <td>0.115954</td>\n",
       "      <td>0.132111</td>\n",
       "      <td>0.014013</td>\n",
       "      <td>0.017637</td>\n",
       "      <td>0.303559</td>\n",
       "      <td>0.437983</td>\n",
       "      <td>0.657484</td>\n",
       "      <td>1.000000</td>\n",
       "      <td>0.160895</td>\n",
       "      <td>-0.017037</td>\n",
       "    </tr>\n",
       "    <tr>\n",
       "      <th>X7</th>\n",
       "      <td>0.057573</td>\n",
       "      <td>0.369400</td>\n",
       "      <td>1.000000</td>\n",
       "      <td>0.127940</td>\n",
       "      <td>0.146107</td>\n",
       "      <td>0.131505</td>\n",
       "      <td>0.200226</td>\n",
       "      <td>0.011651</td>\n",
       "      <td>0.007912</td>\n",
       "      <td>0.398102</td>\n",
       "      <td>0.228469</td>\n",
       "      <td>0.185128</td>\n",
       "      <td>0.160895</td>\n",
       "      <td>1.000000</td>\n",
       "      <td>0.186959</td>\n",
       "    </tr>\n",
       "    <tr>\n",
       "      <th>Label</th>\n",
       "      <td>-0.101219</td>\n",
       "      <td>0.214303</td>\n",
       "      <td>0.187344</td>\n",
       "      <td>0.168179</td>\n",
       "      <td>0.139351</td>\n",
       "      <td>0.168594</td>\n",
       "      <td>0.130974</td>\n",
       "      <td>-0.000592</td>\n",
       "      <td>-0.001273</td>\n",
       "      <td>0.235790</td>\n",
       "      <td>-0.096230</td>\n",
       "      <td>-0.054533</td>\n",
       "      <td>-0.017037</td>\n",
       "      <td>0.186959</td>\n",
       "      <td>1.000000</td>\n",
       "    </tr>\n",
       "  </tbody>\n",
       "</table>\n",
       "</div>"
      ],
      "text/plain": [
       "           Date        X1        X2       X3A       X3B       X3C       X4A  \\\n",
       "Date   1.000000 -0.025951  0.057889 -0.010912 -0.003303 -0.011518 -0.062146   \n",
       "X1    -0.025951  1.000000  0.369765  0.050181  0.051927  0.060750  0.344406   \n",
       "X2     0.057889  0.369765  1.000000  0.127957  0.146090  0.131493  0.200945   \n",
       "X3A   -0.010912  0.050181  0.127957  1.000000  0.938474  0.989207  0.068694   \n",
       "X3B   -0.003303  0.051927  0.146090  0.938474  1.000000  0.949627  0.087795   \n",
       "X3C   -0.011518  0.060750  0.131493  0.989207  0.949627  1.000000  0.076265   \n",
       "X4A   -0.062146  0.344406  0.200945  0.068694  0.087795  0.076265  1.000000   \n",
       "X4B   -0.000179  0.026983  0.011766  0.004401  0.002198  0.001684  0.059481   \n",
       "X4C    0.001349  0.013400  0.008047  0.003128 -0.000855 -0.000880  0.065178   \n",
       "X5    -0.017054  0.827705  0.398436  0.126169  0.063801  0.086623  0.322830   \n",
       "X6A    0.031245  0.204267  0.228761  0.104618  0.101456  0.101862  0.111154   \n",
       "X6B    0.001706  0.220300  0.185478  0.146011  0.146172  0.139547  0.127729   \n",
       "X6C   -0.000136  0.261155  0.161093  0.124728  0.104015  0.115954  0.132111   \n",
       "X7     0.057573  0.369400  1.000000  0.127940  0.146107  0.131505  0.200226   \n",
       "Label -0.101219  0.214303  0.187344  0.168179  0.139351  0.168594  0.130974   \n",
       "\n",
       "            X4B       X4C        X5       X6A       X6B       X6C        X7  \\\n",
       "Date  -0.000179  0.001349 -0.017054  0.031245  0.001706 -0.000136  0.057573   \n",
       "X1     0.026983  0.013400  0.827705  0.204267  0.220300  0.261155  0.369400   \n",
       "X2     0.011766  0.008047  0.398436  0.228761  0.185478  0.161093  1.000000   \n",
       "X3A    0.004401  0.003128  0.126169  0.104618  0.146011  0.124728  0.127940   \n",
       "X3B    0.002198 -0.000855  0.063801  0.101456  0.146172  0.104015  0.146107   \n",
       "X3C    0.001684 -0.000880  0.086623  0.101862  0.139547  0.115954  0.131505   \n",
       "X4A    0.059481  0.065178  0.322830  0.111154  0.127729  0.132111  0.200226   \n",
       "X4B    1.000000 -0.002169  0.039649 -0.027958  0.001445  0.014013  0.011651   \n",
       "X4C   -0.002169  1.000000  0.022778  0.004741  0.012033  0.017637  0.007912   \n",
       "X5     0.039649  0.022778  1.000000  0.228621  0.254262  0.303559  0.398102   \n",
       "X6A   -0.027958  0.004741  0.228621  1.000000  0.662522  0.437983  0.228469   \n",
       "X6B    0.001445  0.012033  0.254262  0.662522  1.000000  0.657484  0.185128   \n",
       "X6C    0.014013  0.017637  0.303559  0.437983  0.657484  1.000000  0.160895   \n",
       "X7     0.011651  0.007912  0.398102  0.228469  0.185128  0.160895  1.000000   \n",
       "Label -0.000592 -0.001273  0.235790 -0.096230 -0.054533 -0.017037  0.186959   \n",
       "\n",
       "          Label  \n",
       "Date  -0.101219  \n",
       "X1     0.214303  \n",
       "X2     0.187344  \n",
       "X3A    0.168179  \n",
       "X3B    0.139351  \n",
       "X3C    0.168594  \n",
       "X4A    0.130974  \n",
       "X4B   -0.000592  \n",
       "X4C   -0.001273  \n",
       "X5     0.235790  \n",
       "X6A   -0.096230  \n",
       "X6B   -0.054533  \n",
       "X6C   -0.017037  \n",
       "X7     0.186959  \n",
       "Label  1.000000  "
      ]
     },
     "execution_count": 9,
     "metadata": {},
     "output_type": "execute_result"
    }
   ],
   "source": [
    "#Correlation with All\n",
    "df_train.corr()"
   ]
  },
  {
   "cell_type": "code",
   "execution_count": 10,
   "metadata": {
    "collapsed": false
   },
   "outputs": [
    {
     "data": {
      "text/plain": [
       "Date    -0.101219\n",
       "X1       0.214303\n",
       "X2       0.187344\n",
       "X3A      0.168179\n",
       "X3B      0.139351\n",
       "X3C      0.168594\n",
       "X4A      0.130974\n",
       "X4B     -0.000592\n",
       "X4C     -0.001273\n",
       "X5       0.235790\n",
       "X6A     -0.096230\n",
       "X6B     -0.054533\n",
       "X6C     -0.017037\n",
       "X7       0.186959\n",
       "Label    1.000000\n",
       "Name: Label, dtype: float64"
      ]
     },
     "execution_count": 10,
     "metadata": {},
     "output_type": "execute_result"
    }
   ],
   "source": [
    "#Correlation with Label\n",
    "df_train.corr()['Label']"
   ]
  },
  {
   "cell_type": "code",
   "execution_count": 11,
   "metadata": {
    "collapsed": false
   },
   "outputs": [
    {
     "data": {
      "image/png": "[encoded data removed]",
      "text/plain": [
       "<matplotlib.figure.Figure at 0xc8adba8>"
      ]
     },
     "metadata": {},
     "output_type": "display_data"
    }
   ],
   "source": [
    "corrs = df_train.corr()['Label']\n",
    "corrs.drop('Label').plot(kind='bar');"
   ]
  },
  {
   "cell_type": "markdown",
   "metadata": {},
   "source": [
    "Looking at the variable correlation with our target variable we see that X5, X1, X7, and X2 are most correlated.  However, upon further inspection we see that X5 is pretty closely correlated with X1, and that X7 and X2 are perfectly correlated.  We should therefore throw out X7 since there isn't any information gain using both X7 and X2, and we should consider removing X1 in favor of just X5.  \n",
    "\n",
    "Let's now examine these variables more closely against our target.\n",
    "\n",
    "##### Visual EDA"
   ]
  },
  {
   "cell_type": "code",
   "execution_count": 12,
   "metadata": {
    "collapsed": false
   },
   "outputs": [
    {
     "data": {
      "image/png": "[encoded data removed]",
      "text/plain": [
       "<matplotlib.figure.Figure at 0xcc0cf60>"
      ]
     },
     "metadata": {},
     "output_type": "display_data"
    }
   ],
   "source": [
    "#Plot vs results\n",
    "\n",
    "#X5\n",
    "df_train.plot(x='X5', y='Label', kind='scatter', figsize=(12,6))\n",
    "plt.axhline(0, color='k')\n",
    "plt.show()"
   ]
  },
  {
   "cell_type": "code",
   "execution_count": 13,
   "metadata": {
    "collapsed": false
   },
   "outputs": [
    {
     "data": {
      "image/png": "[encoded data removed]",
      "text/plain": [
       "<matplotlib.figure.Figure at 0xcc0c9b0>"
      ]
     },
     "metadata": {},
     "output_type": "display_data"
    }
   ],
   "source": [
    "#X2\n",
    "df_train.plot(x='X2', y='Label', kind='scatter', figsize=(12,6))\n",
    "plt.axhline(0, color='k')\n",
    "plt.show()"
   ]
  },
  {
   "cell_type": "code",
   "execution_count": 14,
   "metadata": {
    "collapsed": false,
    "scrolled": true
   },
   "outputs": [
    {
     "data": {
      "image/png": "[encoded data removed]",
      "text/plain": [
       "<matplotlib.figure.Figure at 0xcc0cef0>"
      ]
     },
     "metadata": {},
     "output_type": "display_data"
    }
   ],
   "source": [
    "#X1\n",
    "df_train.plot(x='X1', y='Label', kind='scatter', figsize=(12,6))\n",
    "plt.axhline(0, color='k')\n",
    "plt.show()"
   ]
  },
  {
   "cell_type": "markdown",
   "metadata": {},
   "source": [
    "To find a profitable trading system we are looking for the parameters that have more dots above the black line (capture as many winning trades as possible).  The further right we get in all these charts, the better the results seem to look.  Remember these 3 variables had the highest correlation to the result label across the entire dataset.\n",
    "\n",
    "In trading there is a lot of noise, but we don't have to take every trade.  We can filter out a lot of the noise by increasing the values these 3 features need before taking a trade.\n",
    "\n",
    "My current live system is trading just on these 3 parameters here.  I didn't even get to the machine learning stage because the insights from this visual EDA led me to a profitable system that was optimal enough to go live with.  I did write a function to split my data on these features and associated values, and then would get my backtested pnl (this helped narrow down some parameters easier).\n",
    "\n",
    "### 4. Prepare Data for Machine Learning\n",
    "\n",
    "Not much needs to be done in this step now.  Before our EDA we converted everything to numerical values and we added the features I engineered previously.  Now we need to define our labels and then get our data into numpy arrays for machine learning.\n",
    "\n",
    "##### Define Labels\n",
    "For this trading problem I just want to know when to trade and when to pass on the signal.  Therefore I will frame this as a binary classification problem.  To do this I will set a threshold on the result's column (Label) that will turn it into a binary column.  So if the result percent is above 0.05% then I want to trade it (set to 1), else I want to pass on the trade (set to 0).  I chose this threshold to factor in slippage and transaction costs.\n",
    "\n",
    "It should be noted that the Label column is the trade percent gain.  So if the trade was a short, and the move was down, the label would be positive since that trade was a winning trade.\n"
   ]
  },
  {
   "cell_type": "code",
   "execution_count": 15,
   "metadata": {
    "collapsed": false
   },
   "outputs": [],
   "source": [
    "df_train['Label_binary'] = np.where(df_train['Label']>=0.05, 1, 0)\n",
    "df_test['Label_binary'] = np.where(df_test['Label']>=0.05, 1, 0)"
   ]
  },
  {
   "cell_type": "markdown",
   "metadata": {},
   "source": [
    "##### Clean Up Data\n",
    "\n",
    "In building this notebook I came across a \"ValueError: Input contains NaN, infinity or a value too large for dtype('float32')\" when building my ML model below.  Turns out there were a few infinity values in the dataframe so let's take care of that now.  These infinity values are the result of a division operation during the add_new_features()."
   ]
  },
  {
   "cell_type": "code",
   "execution_count": 17,
   "metadata": {
    "collapsed": false
   },
   "outputs": [
    {
     "data": {
      "text/plain": [
       "False"
      ]
     },
     "execution_count": 17,
     "metadata": {},
     "output_type": "execute_result"
    }
   ],
   "source": [
    "#Check for NaN's\n",
    "np.any(np.isnan(df_train))"
   ]
  },
  {
   "cell_type": "code",
   "execution_count": 18,
   "metadata": {
    "collapsed": false
   },
   "outputs": [
    {
     "data": {
      "text/plain": [
       "(array([ 369, 1355, 2130], dtype=int64), array([13, 13, 13], dtype=int64))"
      ]
     },
     "execution_count": 18,
     "metadata": {},
     "output_type": "execute_result"
    }
   ],
   "source": [
    "#Check and get location for any Infinity values\n",
    "np.where(df_train >= np.finfo(np.float64).max)"
   ]
  },
  {
   "cell_type": "code",
   "execution_count": 19,
   "metadata": {
    "collapsed": false
   },
   "outputs": [
    {
     "data": {
      "text/plain": [
       "Date            2.017012e+07\n",
       "X1              1.000000e+02\n",
       "X2              0.000000e+00\n",
       "X3A             5.059000e+01\n",
       "X3B             0.000000e+00\n",
       "X3C             0.000000e+00\n",
       "X4A             9.560229e-04\n",
       "X4B             1.919386e-03\n",
       "X4C             1.597444e-03\n",
       "X5              5.059000e+03\n",
       "X6A             5.263158e-02\n",
       "X6B             0.000000e+00\n",
       "X6C             0.000000e+00\n",
       "X7                       inf\n",
       "Label          -6.000000e-02\n",
       "Label_binary    0.000000e+00\n",
       "Name: 1046, dtype: float64"
      ]
     },
     "execution_count": 19,
     "metadata": {},
     "output_type": "execute_result"
    }
   ],
   "source": [
    "#Inspect\n",
    "df_train.iloc[369]"
   ]
  },
  {
   "cell_type": "code",
   "execution_count": 20,
   "metadata": {
    "collapsed": false
   },
   "outputs": [],
   "source": [
    "#Replace Inf with 0\n",
    "df_train.replace([np.inf, -np.inf], 0, inplace=True)"
   ]
  },
  {
   "cell_type": "code",
   "execution_count": 21,
   "metadata": {
    "collapsed": false
   },
   "outputs": [
    {
     "data": {
      "text/plain": [
       "True"
      ]
     },
     "execution_count": 21,
     "metadata": {},
     "output_type": "execute_result"
    }
   ],
   "source": [
    "#Ensure no more NaN or Inf\n",
    "np.all(np.isfinite(df_train))"
   ]
  },
  {
   "cell_type": "markdown",
   "metadata": {},
   "source": [
    "##### Split data into train and test sets\n",
    "\n",
    "Our month of May test set will be held out completely from this cross-validation and used as a test for the final model.  The current df_train will be used to build the model."
   ]
  },
  {
   "cell_type": "code",
   "execution_count": 22,
   "metadata": {
    "collapsed": true
   },
   "outputs": [],
   "source": [
    "from sklearn.model_selection import TimeSeriesSplit\n",
    "\n",
    "#This train set will be split during the CV into train and test sets\n",
    "X_train = df_train.drop(['Label', 'Label_binary'], axis=1).values\n",
    "y_train = df_train['Label_binary'].values\n",
    "\n",
    "#This test set is for final evaluation\n",
    "X_test = df_test.drop(['Label', 'Label_binary'], axis=1).values\n",
    "y_test = df_test['Label_binary'].values"
   ]
  },
  {
   "cell_type": "markdown",
   "metadata": {},
   "source": [
    "### 5. Modeling\n",
    "\n",
    "Now we can begin running CV to build an ML model.  There are lot of different ways to approach the modeling of this problem but I wll show a few ways here."
   ]
  },
  {
   "cell_type": "code",
   "execution_count": 23,
   "metadata": {
    "collapsed": true
   },
   "outputs": [],
   "source": [
    "from sklearn.model_selection import cross_val_score\n",
    "\n",
    "def run_time_series_cross_validation(classifer, X_train, Y_train, scoring='accuracy', n_splits=5, random_state=7):\n",
    "    '''(sklearn classifierd, array, array, int, int) -> list of floats (scores)\n",
    "    \n",
    "    This will act as a test-harness to split the time series data and\n",
    "    run cross val score using our model.  Will return the list of\n",
    "    scores as well as print the mean.\n",
    "    '''\n",
    "    cv = TimeSeriesSplit(n_splits=n_splits)\n",
    "    scores = cross_val_score(classifer, X_train, Y_train, cv=cv, scoring=scoring)\n",
    "    print \"Avg. Score: \" + str(scores.mean())\n",
    "    print \"Min Score: \" + str(scores.min())\n",
    "    print \"Max Score: \" + str(scores.max())\n",
    "    return scores"
   ]
  },
  {
   "cell_type": "code",
   "execution_count": 24,
   "metadata": {
    "collapsed": false
   },
   "outputs": [
    {
     "name": "stdout",
     "output_type": "stream",
     "text": [
      "Avg. Score: 0.751046025105\n",
      "Min Score: 0.6589958159\n",
      "Max Score: 0.81589958159\n"
     ]
    },
    {
     "data": {
      "text/plain": [
       "array([ 0.65899582,  0.71966527,  0.74895397,  0.81171548,  0.81589958])"
      ]
     },
     "execution_count": 24,
     "metadata": {},
     "output_type": "execute_result"
    }
   ],
   "source": [
    "from sklearn.ensemble import RandomForestClassifier\n",
    "\n",
    "rf = RandomForestClassifier(n_estimators=100)\n",
    "run_time_series_cross_validation(rf, X_train, y_train)"
   ]
  },
  {
   "cell_type": "markdown",
   "metadata": {},
   "source": [
    "### 6. Evaluate & Tune Model\n",
    "\n",
    "Now I will use GridSearch to optimize the RandomForest model.  After this we can build our final model, get predictions, and then translate those predictions into potential trading PnL.\n",
    "\n",
    "##### Optimizing with GridSearchCV"
   ]
  },
  {
   "cell_type": "code",
   "execution_count": 25,
   "metadata": {
    "collapsed": false
   },
   "outputs": [
    {
     "name": "stdout",
     "output_type": "stream",
     "text": [
      "Best Score: 0.761506276151, Best Parameters: {'max_features': 'log2', 'min_samples_split': 15, 'max_depth': 5}\n"
     ]
    }
   ],
   "source": [
    "from sklearn.model_selection import GridSearchCV\n",
    "\n",
    "#Parameter dictionary for gridsearch\n",
    "params = {'max_depth': [5, 8, 15, 25],\n",
    "          'min_samples_split': [2, 5, 10, 15],\n",
    "          'max_features': ['log2', 'auto', None]}\n",
    "#Initialize Model\n",
    "rf = RandomForestClassifier(n_estimators=100)\n",
    "#Initialize GridSearch\n",
    "cv = TimeSeriesSplit(n_splits=5)\n",
    "grid_cv = GridSearchCV(rf, params, cv=cv)\n",
    "#Fit GridSearch\n",
    "grid_cv.fit(X_train, y_train)\n",
    "#Get Best Results\n",
    "print \"Best Score: {}, Best Parameters: {}\".format(grid_cv.best_score_, grid_cv.best_params_)"
   ]
  },
  {
   "cell_type": "code",
   "execution_count": 26,
   "metadata": {
    "collapsed": false
   },
   "outputs": [
    {
     "name": "stdout",
     "output_type": "stream",
     "text": [
      "Best Score: 0.761506276151, Best Parameters: {'max_features': 'auto', 'min_samples_split': 25, 'max_depth': 4}\n"
     ]
    }
   ],
   "source": [
    "#Expand the GridSearch\n",
    "\n",
    "#Parameter dictionary for gridsearch\n",
    "params = {'max_depth': [2, 3, 4, 5],\n",
    "          'min_samples_split': [15, 20, 25, 40],\n",
    "          'max_features': ['log2', 'auto', None]}\n",
    "#Initialize Model\n",
    "rf = RandomForestClassifier(n_estimators=100)\n",
    "#Initialize GridSearch\n",
    "cv = TimeSeriesSplit(n_splits=5)\n",
    "grid_cv = GridSearchCV(rf, params, cv=cv)\n",
    "#Fit GridSearch\n",
    "grid_cv.fit(X_train, y_train)\n",
    "#Get Best Results\n",
    "print \"Best Score: {}, Best Parameters: {}\".format(grid_cv.best_score_, grid_cv.best_params_)"
   ]
  },
  {
   "cell_type": "markdown",
   "metadata": {},
   "source": [
    "##### Build & Train Final Model"
   ]
  },
  {
   "cell_type": "code",
   "execution_count": 27,
   "metadata": {
    "collapsed": false
   },
   "outputs": [
    {
     "data": {
      "text/plain": [
       "RandomForestClassifier(bootstrap=True, class_weight=None, criterion='gini',\n",
       "            max_depth=3, max_features='log2', max_leaf_nodes=None,\n",
       "            min_impurity_split=1e-07, min_samples_leaf=1,\n",
       "            min_samples_split=20, min_weight_fraction_leaf=0.0,\n",
       "            n_estimators=5000, n_jobs=1, oob_score=False,\n",
       "            random_state=None, verbose=0, warm_start=False)"
      ]
     },
     "execution_count": 27,
     "metadata": {},
     "output_type": "execute_result"
    }
   ],
   "source": [
    "#Initialize Optimal Model\n",
    "rf = RandomForestClassifier(n_estimators=5000, max_features='log2', min_samples_split=20, max_depth=3)\n",
    "#Train Model\n",
    "rf.fit(X_train, y_train)"
   ]
  },
  {
   "cell_type": "markdown",
   "metadata": {},
   "source": [
    "##### Get Predictions from Model"
   ]
  },
  {
   "cell_type": "code",
   "execution_count": 28,
   "metadata": {
    "collapsed": true
   },
   "outputs": [],
   "source": [
    "#Make Predictions on Train & Test set for evaluation\n",
    "in_sample_pred = rf.predict(X_train) #Should be better than out of sample\n",
    "out_sample_pred = rf.predict(X_test)"
   ]
  },
  {
   "cell_type": "code",
   "execution_count": 29,
   "metadata": {
    "collapsed": false
   },
   "outputs": [
    {
     "data": {
      "text/plain": [
       "(array([0, 1]), array([2790,   83], dtype=int64))"
      ]
     },
     "execution_count": 29,
     "metadata": {},
     "output_type": "execute_result"
    }
   ],
   "source": [
    "np.unique(in_sample_pred, return_counts=True)"
   ]
  },
  {
   "cell_type": "code",
   "execution_count": 30,
   "metadata": {
    "collapsed": false
   },
   "outputs": [
    {
     "data": {
      "text/plain": [
       "(array([0, 1]), array([752,  39], dtype=int64))"
      ]
     },
     "execution_count": 30,
     "metadata": {},
     "output_type": "execute_result"
    }
   ],
   "source": [
    "np.unique(out_sample_pred, return_counts=True)"
   ]
  },
  {
   "cell_type": "markdown",
   "metadata": {},
   "source": [
    "##### Convert Predictions into Trading PnL"
   ]
  },
  {
   "cell_type": "code",
   "execution_count": 31,
   "metadata": {
    "collapsed": true
   },
   "outputs": [],
   "source": [
    "def add_trading_pnl_from_predictions(df, preds):\n",
    "    '''(DataFrame, Array) -> DataFrame\n",
    "    \n",
    "    Given a dataframe of trades and array of binary predictions,\n",
    "    calculate the trading performance if traded off the predictions.\n",
    "    Assumes the PnL column in the dataframe is called 'Label'.\n",
    "    Will create the column 'PnL' and return the new dataframe.\n",
    "    '''\n",
    "    df['Prediction'] = preds\n",
    "    #Label is positive if winner, negative if loser\n",
    "    #Prediction is 1 if trade, 0 if pass\n",
    "    df['PnL'] = df.apply(lambda row: row['Prediction']*row['Label'], axis=1)\n",
    "    return df"
   ]
  },
  {
   "cell_type": "code",
   "execution_count": 32,
   "metadata": {
    "collapsed": false
   },
   "outputs": [
    {
     "data": {
      "text/plain": [
       "9.870000000000001"
      ]
     },
     "execution_count": 32,
     "metadata": {},
     "output_type": "execute_result"
    }
   ],
   "source": [
    "#Gross PnL - In Sample\n",
    "df_train = add_trading_pnl_from_predictions(df_train, in_sample_pred)\n",
    "df_train['PnL'].sum()"
   ]
  },
  {
   "cell_type": "code",
   "execution_count": 33,
   "metadata": {
    "collapsed": false
   },
   "outputs": [
    {
     "data": {
      "text/plain": [
       "3.6"
      ]
     },
     "execution_count": 33,
     "metadata": {},
     "output_type": "execute_result"
    }
   ],
   "source": [
    "#Gross PnL - Out of Sample\n",
    "df_test = add_trading_pnl_from_predictions(df_test, out_sample_pred)\n",
    "df_test['PnL'].sum()"
   ]
  },
  {
   "cell_type": "code",
   "execution_count": 38,
   "metadata": {
    "collapsed": false
   },
   "outputs": [
    {
     "data": {
      "text/plain": [
       "83"
      ]
     },
     "execution_count": 38,
     "metadata": {},
     "output_type": "execute_result"
    }
   ],
   "source": [
    "#Trade Count - In Sample\n",
    "df_train['Prediction'].sum()"
   ]
  },
  {
   "cell_type": "code",
   "execution_count": 39,
   "metadata": {
    "collapsed": false
   },
   "outputs": [
    {
     "data": {
      "text/plain": [
       "39"
      ]
     },
     "execution_count": 39,
     "metadata": {},
     "output_type": "execute_result"
    }
   ],
   "source": [
    "#Trade Count- Out of Sample\n",
    "df_test['Prediction'].sum()"
   ]
  },
  {
   "cell_type": "code",
   "execution_count": 36,
   "metadata": {
    "collapsed": false
   },
   "outputs": [
    {
     "data": {
      "text/plain": [
       "0.11891566265060242"
      ]
     },
     "execution_count": 36,
     "metadata": {},
     "output_type": "execute_result"
    }
   ],
   "source": [
    "#Get Percent Gain per Trade - In Sample\n",
    "df_train['PnL'].sum() / df_train['Prediction'].sum()"
   ]
  },
  {
   "cell_type": "code",
   "execution_count": 37,
   "metadata": {
    "collapsed": false
   },
   "outputs": [
    {
     "data": {
      "text/plain": [
       "0.092307692307692313"
      ]
     },
     "execution_count": 37,
     "metadata": {},
     "output_type": "execute_result"
    }
   ],
   "source": [
    "#Get Percent Gain per Trade - Out of Sample\n",
    "df_test['PnL'].sum() / df_test['Prediction'].sum()"
   ]
  },
  {
   "cell_type": "markdown",
   "metadata": {},
   "source": [
    "### 7. Present Results\n",
    "\n",
    "This simple random forest model predicted 83 in sample trades that would result in a return of 9.87% with an average gain of 0.12% per trade.  We had an out of sample prediction (on one month of data) of 39 trades that would have returned 3.60% with an average gain of 0.09% per trade.\n",
    "\n",
    "On a percentage basis like this, these results might not sound too impressive, but this strategy is traded at my firm using high leverage because the holding time is extremely short for this system.  Also, as I mentioned earlier, the model I trade live on this data was determined from the EDA, not this random forest.  My EDA rules do result in some similar returns and gains per trade.  \n",
    "\n",
    "I like the return per trade as metric because each trade involves a transaction cost and comes with some execution slippage.  So being able to maximize that return per trade will give you a better chance to overcome those costs and be net profitable.\n",
    "\n",
    "##### Next Steps\n",
    "-Try other ML algorithms  \n",
    "-Change the label - make the threshold bigger for when to trade  \n",
    "-Try to extract more features\n",
    "\n",
    "Thank you for taking the time to read this notebook, I apologize for the need to keep most of this data and code anonymous but I hope you were able to learn something.  If in the future I stop running this system live, I will release the code.\n"
   ]
  }
 ],
 "metadata": {
  "kernelspec": {
   "display_name": "Python 2",
   "language": "python",
   "name": "python2"
  },
  "language_info": {
   "codemirror_mode": {
    "name": "ipython",
    "version": 2
   },
   "file_extension": ".py",
   "mimetype": "text/x-python",
   "name": "python",
   "nbconvert_exporter": "python",
   "pygments_lexer": "ipython2",
   "version": "2.7.13"
  }
 },
 "nbformat": 4,
 "nbformat_minor": 2
}
