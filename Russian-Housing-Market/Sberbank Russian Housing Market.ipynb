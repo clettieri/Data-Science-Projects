{
 "cells": [
  {
   "cell_type": "markdown",
   "metadata": {},
   "source": [
    "# Sberbank: Russian Housing Market\n",
    "\n",
    "url = https://www.kaggle.com/c/sberbank-russian-housing-market\n",
    "\n",
    "### Understanding the Question\n",
    "\n",
    "Given macro-econmic data and recent real estate sales data, we are to predict the sale price of properties in a test set.  \n",
    "\n",
    "This is a supervised regression problem.\n",
    "\n",
    "### Getting Started - Load & Inspect Data\n",
    "\n",
    "We are given two datasets for this project.  Our train & test sets which are the details regarding real estate sales, and a macro-economic data set.  This macro set will need to be joined to both train & test datasets on the \"timestamp\" column.\n",
    "\n",
    "We are also told the target variable is a column called 'price_doc' which represents the final price of a sale."
   ]
  },
  {
   "cell_type": "code",
   "execution_count": 1,
   "metadata": {
    "collapsed": false
   },
   "outputs": [],
   "source": [
    "import pandas as pd\n",
    "import numpy as np\n",
    "\n",
    "#Load Data\n",
    "macro_raw = pd.read_csv('data/macro.csv')\n",
    "train_raw = pd.read_csv('data/train.csv')\n",
    "test_raw = pd.read_csv('data/test.csv')"
   ]
  },
  {
   "cell_type": "markdown",
   "metadata": {},
   "source": [
    "#### Investigate Train Data"
   ]
  },
  {
   "cell_type": "code",
   "execution_count": 9,
   "metadata": {
    "collapsed": false
   },
   "outputs": [
    {
     "data": {
      "text/plain": [
       "(30471, 292)"
      ]
     },
     "execution_count": 9,
     "metadata": {},
     "output_type": "execute_result"
    }
   ],
   "source": [
    "train_raw.shape"
   ]
  },
  {
   "cell_type": "code",
   "execution_count": 10,
   "metadata": {
    "collapsed": false
   },
   "outputs": [
    {
     "data": {
      "text/plain": [
       "id                                         int64\n",
       "timestamp                                 object\n",
       "full_sq                                    int64\n",
       "life_sq                                  float64\n",
       "floor                                    float64\n",
       "max_floor                                float64\n",
       "material                                 float64\n",
       "build_year                               float64\n",
       "num_room                                 float64\n",
       "kitch_sq                                 float64\n",
       "state                                    float64\n",
       "product_type                              object\n",
       "sub_area                                  object\n",
       "area_m                                   float64\n",
       "raion_popul                                int64\n",
       "green_zone_part                          float64\n",
       "indust_part                              float64\n",
       "children_preschool                         int64\n",
       "preschool_quota                          float64\n",
       "preschool_education_centers_raion          int64\n",
       "children_school                            int64\n",
       "school_quota                             float64\n",
       "school_education_centers_raion             int64\n",
       "school_education_centers_top_20_raion      int64\n",
       "hospital_beds_raion                      float64\n",
       "healthcare_centers_raion                   int64\n",
       "university_top_20_raion                    int64\n",
       "sport_objects_raion                        int64\n",
       "additional_education_raion                 int64\n",
       "culture_objects_top_25                    object\n",
       "                                          ...   \n",
       "big_church_count_3000                      int64\n",
       "church_count_3000                          int64\n",
       "mosque_count_3000                          int64\n",
       "leisure_count_3000                         int64\n",
       "sport_count_3000                           int64\n",
       "market_count_3000                          int64\n",
       "green_part_5000                          float64\n",
       "prom_part_5000                           float64\n",
       "office_count_5000                          int64\n",
       "office_sqm_5000                            int64\n",
       "trc_count_5000                             int64\n",
       "trc_sqm_5000                               int64\n",
       "cafe_count_5000                            int64\n",
       "cafe_sum_5000_min_price_avg              float64\n",
       "cafe_sum_5000_max_price_avg              float64\n",
       "cafe_avg_price_5000                      float64\n",
       "cafe_count_5000_na_price                   int64\n",
       "cafe_count_5000_price_500                  int64\n",
       "cafe_count_5000_price_1000                 int64\n",
       "cafe_count_5000_price_1500                 int64\n",
       "cafe_count_5000_price_2500                 int64\n",
       "cafe_count_5000_price_4000                 int64\n",
       "cafe_count_5000_price_high                 int64\n",
       "big_church_count_5000                      int64\n",
       "church_count_5000                          int64\n",
       "mosque_count_5000                          int64\n",
       "leisure_count_5000                         int64\n",
       "sport_count_5000                           int64\n",
       "market_count_5000                          int64\n",
       "price_doc                                  int64\n",
       "dtype: object"
      ]
     },
     "execution_count": 10,
     "metadata": {},
     "output_type": "execute_result"
    }
   ],
   "source": [
    "train_raw.dtypes"
   ]
  },
  {
   "cell_type": "code",
   "execution_count": 11,
   "metadata": {
    "collapsed": false
   },
   "outputs": [
    {
     "data": {
      "text/html": [
       "<div>\n",
       "<table border=\"1\" class=\"dataframe\">\n",
       "  <thead>\n",
       "    <tr style=\"text-align: right;\">\n",
       "      <th></th>\n",
       "      <th>id</th>\n",
       "      <th>timestamp</th>\n",
       "      <th>full_sq</th>\n",
       "      <th>life_sq</th>\n",
       "      <th>floor</th>\n",
       "      <th>max_floor</th>\n",
       "      <th>material</th>\n",
       "      <th>build_year</th>\n",
       "      <th>num_room</th>\n",
       "      <th>kitch_sq</th>\n",
       "      <th>...</th>\n",
       "      <th>cafe_count_5000_price_2500</th>\n",
       "      <th>cafe_count_5000_price_4000</th>\n",
       "      <th>cafe_count_5000_price_high</th>\n",
       "      <th>big_church_count_5000</th>\n",
       "      <th>church_count_5000</th>\n",
       "      <th>mosque_count_5000</th>\n",
       "      <th>leisure_count_5000</th>\n",
       "      <th>sport_count_5000</th>\n",
       "      <th>market_count_5000</th>\n",
       "      <th>price_doc</th>\n",
       "    </tr>\n",
       "  </thead>\n",
       "  <tbody>\n",
       "    <tr>\n",
       "      <th>0</th>\n",
       "      <td>1</td>\n",
       "      <td>2011-08-20</td>\n",
       "      <td>43</td>\n",
       "      <td>27.0</td>\n",
       "      <td>4.0</td>\n",
       "      <td>NaN</td>\n",
       "      <td>NaN</td>\n",
       "      <td>NaN</td>\n",
       "      <td>NaN</td>\n",
       "      <td>NaN</td>\n",
       "      <td>...</td>\n",
       "      <td>9</td>\n",
       "      <td>4</td>\n",
       "      <td>0</td>\n",
       "      <td>13</td>\n",
       "      <td>22</td>\n",
       "      <td>1</td>\n",
       "      <td>0</td>\n",
       "      <td>52</td>\n",
       "      <td>4</td>\n",
       "      <td>5850000</td>\n",
       "    </tr>\n",
       "    <tr>\n",
       "      <th>1</th>\n",
       "      <td>2</td>\n",
       "      <td>2011-08-23</td>\n",
       "      <td>34</td>\n",
       "      <td>19.0</td>\n",
       "      <td>3.0</td>\n",
       "      <td>NaN</td>\n",
       "      <td>NaN</td>\n",
       "      <td>NaN</td>\n",
       "      <td>NaN</td>\n",
       "      <td>NaN</td>\n",
       "      <td>...</td>\n",
       "      <td>15</td>\n",
       "      <td>3</td>\n",
       "      <td>0</td>\n",
       "      <td>15</td>\n",
       "      <td>29</td>\n",
       "      <td>1</td>\n",
       "      <td>10</td>\n",
       "      <td>66</td>\n",
       "      <td>14</td>\n",
       "      <td>6000000</td>\n",
       "    </tr>\n",
       "    <tr>\n",
       "      <th>2</th>\n",
       "      <td>3</td>\n",
       "      <td>2011-08-27</td>\n",
       "      <td>43</td>\n",
       "      <td>29.0</td>\n",
       "      <td>2.0</td>\n",
       "      <td>NaN</td>\n",
       "      <td>NaN</td>\n",
       "      <td>NaN</td>\n",
       "      <td>NaN</td>\n",
       "      <td>NaN</td>\n",
       "      <td>...</td>\n",
       "      <td>10</td>\n",
       "      <td>3</td>\n",
       "      <td>0</td>\n",
       "      <td>11</td>\n",
       "      <td>27</td>\n",
       "      <td>0</td>\n",
       "      <td>4</td>\n",
       "      <td>67</td>\n",
       "      <td>10</td>\n",
       "      <td>5700000</td>\n",
       "    </tr>\n",
       "    <tr>\n",
       "      <th>3</th>\n",
       "      <td>4</td>\n",
       "      <td>2011-09-01</td>\n",
       "      <td>89</td>\n",
       "      <td>50.0</td>\n",
       "      <td>9.0</td>\n",
       "      <td>NaN</td>\n",
       "      <td>NaN</td>\n",
       "      <td>NaN</td>\n",
       "      <td>NaN</td>\n",
       "      <td>NaN</td>\n",
       "      <td>...</td>\n",
       "      <td>11</td>\n",
       "      <td>2</td>\n",
       "      <td>1</td>\n",
       "      <td>4</td>\n",
       "      <td>4</td>\n",
       "      <td>0</td>\n",
       "      <td>0</td>\n",
       "      <td>26</td>\n",
       "      <td>3</td>\n",
       "      <td>13100000</td>\n",
       "    </tr>\n",
       "    <tr>\n",
       "      <th>4</th>\n",
       "      <td>5</td>\n",
       "      <td>2011-09-05</td>\n",
       "      <td>77</td>\n",
       "      <td>77.0</td>\n",
       "      <td>4.0</td>\n",
       "      <td>NaN</td>\n",
       "      <td>NaN</td>\n",
       "      <td>NaN</td>\n",
       "      <td>NaN</td>\n",
       "      <td>NaN</td>\n",
       "      <td>...</td>\n",
       "      <td>319</td>\n",
       "      <td>108</td>\n",
       "      <td>17</td>\n",
       "      <td>135</td>\n",
       "      <td>236</td>\n",
       "      <td>2</td>\n",
       "      <td>91</td>\n",
       "      <td>195</td>\n",
       "      <td>14</td>\n",
       "      <td>16331452</td>\n",
       "    </tr>\n",
       "  </tbody>\n",
       "</table>\n",
       "<p>5 rows × 292 columns</p>\n",
       "</div>"
      ],
      "text/plain": [
       "   id   timestamp  full_sq  life_sq  floor  max_floor  material  build_year  \\\n",
       "0   1  2011-08-20       43     27.0    4.0        NaN       NaN         NaN   \n",
       "1   2  2011-08-23       34     19.0    3.0        NaN       NaN         NaN   \n",
       "2   3  2011-08-27       43     29.0    2.0        NaN       NaN         NaN   \n",
       "3   4  2011-09-01       89     50.0    9.0        NaN       NaN         NaN   \n",
       "4   5  2011-09-05       77     77.0    4.0        NaN       NaN         NaN   \n",
       "\n",
       "   num_room  kitch_sq    ...      cafe_count_5000_price_2500  \\\n",
       "0       NaN       NaN    ...                               9   \n",
       "1       NaN       NaN    ...                              15   \n",
       "2       NaN       NaN    ...                              10   \n",
       "3       NaN       NaN    ...                              11   \n",
       "4       NaN       NaN    ...                             319   \n",
       "\n",
       "  cafe_count_5000_price_4000 cafe_count_5000_price_high  \\\n",
       "0                          4                          0   \n",
       "1                          3                          0   \n",
       "2                          3                          0   \n",
       "3                          2                          1   \n",
       "4                        108                         17   \n",
       "\n",
       "   big_church_count_5000  church_count_5000  mosque_count_5000  \\\n",
       "0                     13                 22                  1   \n",
       "1                     15                 29                  1   \n",
       "2                     11                 27                  0   \n",
       "3                      4                  4                  0   \n",
       "4                    135                236                  2   \n",
       "\n",
       "   leisure_count_5000  sport_count_5000  market_count_5000  price_doc  \n",
       "0                   0                52                  4    5850000  \n",
       "1                  10                66                 14    6000000  \n",
       "2                   4                67                 10    5700000  \n",
       "3                   0                26                  3   13100000  \n",
       "4                  91               195                 14   16331452  \n",
       "\n",
       "[5 rows x 292 columns]"
      ]
     },
     "execution_count": 11,
     "metadata": {},
     "output_type": "execute_result"
    }
   ],
   "source": [
    "train_raw.head()"
   ]
  },
  {
   "cell_type": "code",
   "execution_count": 12,
   "metadata": {
    "collapsed": false
   },
   "outputs": [
    {
     "data": {
      "text/plain": [
       "id                                           0\n",
       "timestamp                                    0\n",
       "full_sq                                      0\n",
       "life_sq                                   6383\n",
       "floor                                      167\n",
       "max_floor                                 9572\n",
       "material                                  9572\n",
       "build_year                               13605\n",
       "num_room                                  9572\n",
       "kitch_sq                                  9572\n",
       "state                                    13559\n",
       "product_type                                 0\n",
       "sub_area                                     0\n",
       "area_m                                       0\n",
       "raion_popul                                  0\n",
       "green_zone_part                              0\n",
       "indust_part                                  0\n",
       "children_preschool                           0\n",
       "preschool_quota                           6688\n",
       "preschool_education_centers_raion            0\n",
       "children_school                              0\n",
       "school_quota                              6685\n",
       "school_education_centers_raion               0\n",
       "school_education_centers_top_20_raion        0\n",
       "hospital_beds_raion                      14441\n",
       "healthcare_centers_raion                     0\n",
       "university_top_20_raion                      0\n",
       "sport_objects_raion                          0\n",
       "additional_education_raion                   0\n",
       "culture_objects_top_25                       0\n",
       "                                         ...  \n",
       "big_church_count_3000                        0\n",
       "church_count_3000                            0\n",
       "mosque_count_3000                            0\n",
       "leisure_count_3000                           0\n",
       "sport_count_3000                             0\n",
       "market_count_3000                            0\n",
       "green_part_5000                              0\n",
       "prom_part_5000                             178\n",
       "office_count_5000                            0\n",
       "office_sqm_5000                              0\n",
       "trc_count_5000                               0\n",
       "trc_sqm_5000                                 0\n",
       "cafe_count_5000                              0\n",
       "cafe_sum_5000_min_price_avg                297\n",
       "cafe_sum_5000_max_price_avg                297\n",
       "cafe_avg_price_5000                        297\n",
       "cafe_count_5000_na_price                     0\n",
       "cafe_count_5000_price_500                    0\n",
       "cafe_count_5000_price_1000                   0\n",
       "cafe_count_5000_price_1500                   0\n",
       "cafe_count_5000_price_2500                   0\n",
       "cafe_count_5000_price_4000                   0\n",
       "cafe_count_5000_price_high                   0\n",
       "big_church_count_5000                        0\n",
       "church_count_5000                            0\n",
       "mosque_count_5000                            0\n",
       "leisure_count_5000                           0\n",
       "sport_count_5000                             0\n",
       "market_count_5000                            0\n",
       "price_doc                                    0\n",
       "dtype: int64"
      ]
     },
     "execution_count": 12,
     "metadata": {},
     "output_type": "execute_result"
    }
   ],
   "source": [
    "#Check for NaNs\n",
    "train_raw.isnull().sum()"
   ]
  },
  {
   "cell_type": "markdown",
   "metadata": {},
   "source": [
    "##### Investigate Macro Data"
   ]
  },
  {
   "cell_type": "code",
   "execution_count": 14,
   "metadata": {
    "collapsed": false
   },
   "outputs": [
    {
     "data": {
      "text/plain": [
       "(2484, 100)"
      ]
     },
     "execution_count": 14,
     "metadata": {},
     "output_type": "execute_result"
    }
   ],
   "source": [
    "macro_raw.shape"
   ]
  },
  {
   "cell_type": "code",
   "execution_count": 15,
   "metadata": {
    "collapsed": false
   },
   "outputs": [
    {
     "data": {
      "text/plain": [
       "timestamp                                      object\n",
       "oil_urals                                     float64\n",
       "gdp_quart                                     float64\n",
       "gdp_quart_growth                              float64\n",
       "cpi                                           float64\n",
       "ppi                                           float64\n",
       "gdp_deflator                                  float64\n",
       "balance_trade                                 float64\n",
       "balance_trade_growth                          float64\n",
       "usdrub                                        float64\n",
       "eurrub                                        float64\n",
       "brent                                         float64\n",
       "net_capital_export                            float64\n",
       "gdp_annual                                    float64\n",
       "gdp_annual_growth                             float64\n",
       "average_provision_of_build_contract           float64\n",
       "average_provision_of_build_contract_moscow    float64\n",
       "rts                                           float64\n",
       "micex                                         float64\n",
       "micex_rgbi_tr                                 float64\n",
       "micex_cbi_tr                                  float64\n",
       "deposits_value                                  int64\n",
       "deposits_growth                               float64\n",
       "deposits_rate                                 float64\n",
       "mortgage_value                                  int64\n",
       "mortgage_growth                               float64\n",
       "mortgage_rate                                 float64\n",
       "grp                                           float64\n",
       "grp_growth                                    float64\n",
       "income_per_cap                                float64\n",
       "                                               ...   \n",
       "rent_price_4+room_bus                         float64\n",
       "rent_price_3room_bus                          float64\n",
       "rent_price_2room_bus                          float64\n",
       "rent_price_1room_bus                          float64\n",
       "rent_price_3room_eco                          float64\n",
       "rent_price_2room_eco                          float64\n",
       "rent_price_1room_eco                          float64\n",
       "load_of_teachers_preschool_per_teacher        float64\n",
       "child_on_acc_pre_school                        object\n",
       "load_of_teachers_school_per_teacher           float64\n",
       "students_state_oneshift                       float64\n",
       "modern_education_share                         object\n",
       "old_education_build_share                      object\n",
       "provision_doctors                             float64\n",
       "provision_nurse                               float64\n",
       "load_on_doctors                               float64\n",
       "power_clinics                                 float64\n",
       "hospital_beds_available_per_cap               float64\n",
       "hospital_bed_occupancy_per_year               float64\n",
       "provision_retail_space_sqm                    float64\n",
       "provision_retail_space_modern_sqm             float64\n",
       "turnover_catering_per_cap                     float64\n",
       "theaters_viewers_per_1000_cap                 float64\n",
       "seats_theather_rfmin_per_100000_cap           float64\n",
       "museum_visitis_per_100_cap                    float64\n",
       "bandwidth_sports                              float64\n",
       "population_reg_sports_share                   float64\n",
       "students_reg_sports_share                     float64\n",
       "apartment_build                               float64\n",
       "apartment_fund_sqm                            float64\n",
       "dtype: object"
      ]
     },
     "execution_count": 15,
     "metadata": {},
     "output_type": "execute_result"
    }
   ],
   "source": [
    "macro_raw.dtypes"
   ]
  },
  {
   "cell_type": "code",
   "execution_count": 16,
   "metadata": {
    "collapsed": false
   },
   "outputs": [
    {
     "data": {
      "text/html": [
       "<div>\n",
       "<table border=\"1\" class=\"dataframe\">\n",
       "  <thead>\n",
       "    <tr style=\"text-align: right;\">\n",
       "      <th></th>\n",
       "      <th>timestamp</th>\n",
       "      <th>oil_urals</th>\n",
       "      <th>gdp_quart</th>\n",
       "      <th>gdp_quart_growth</th>\n",
       "      <th>cpi</th>\n",
       "      <th>ppi</th>\n",
       "      <th>gdp_deflator</th>\n",
       "      <th>balance_trade</th>\n",
       "      <th>balance_trade_growth</th>\n",
       "      <th>usdrub</th>\n",
       "      <th>...</th>\n",
       "      <th>provision_retail_space_modern_sqm</th>\n",
       "      <th>turnover_catering_per_cap</th>\n",
       "      <th>theaters_viewers_per_1000_cap</th>\n",
       "      <th>seats_theather_rfmin_per_100000_cap</th>\n",
       "      <th>museum_visitis_per_100_cap</th>\n",
       "      <th>bandwidth_sports</th>\n",
       "      <th>population_reg_sports_share</th>\n",
       "      <th>students_reg_sports_share</th>\n",
       "      <th>apartment_build</th>\n",
       "      <th>apartment_fund_sqm</th>\n",
       "    </tr>\n",
       "  </thead>\n",
       "  <tbody>\n",
       "    <tr>\n",
       "      <th>0</th>\n",
       "      <td>2010-01-01</td>\n",
       "      <td>76.1</td>\n",
       "      <td>NaN</td>\n",
       "      <td>NaN</td>\n",
       "      <td>NaN</td>\n",
       "      <td>NaN</td>\n",
       "      <td>NaN</td>\n",
       "      <td>NaN</td>\n",
       "      <td>NaN</td>\n",
       "      <td>NaN</td>\n",
       "      <td>...</td>\n",
       "      <td>690.0</td>\n",
       "      <td>6221.0</td>\n",
       "      <td>527.0</td>\n",
       "      <td>0.41</td>\n",
       "      <td>993.0</td>\n",
       "      <td>NaN</td>\n",
       "      <td>NaN</td>\n",
       "      <td>63.03</td>\n",
       "      <td>22825.0</td>\n",
       "      <td>NaN</td>\n",
       "    </tr>\n",
       "    <tr>\n",
       "      <th>1</th>\n",
       "      <td>2010-01-02</td>\n",
       "      <td>76.1</td>\n",
       "      <td>NaN</td>\n",
       "      <td>NaN</td>\n",
       "      <td>NaN</td>\n",
       "      <td>NaN</td>\n",
       "      <td>NaN</td>\n",
       "      <td>NaN</td>\n",
       "      <td>NaN</td>\n",
       "      <td>NaN</td>\n",
       "      <td>...</td>\n",
       "      <td>690.0</td>\n",
       "      <td>6221.0</td>\n",
       "      <td>527.0</td>\n",
       "      <td>0.41</td>\n",
       "      <td>993.0</td>\n",
       "      <td>NaN</td>\n",
       "      <td>NaN</td>\n",
       "      <td>63.03</td>\n",
       "      <td>22825.0</td>\n",
       "      <td>NaN</td>\n",
       "    </tr>\n",
       "    <tr>\n",
       "      <th>2</th>\n",
       "      <td>2010-01-03</td>\n",
       "      <td>76.1</td>\n",
       "      <td>NaN</td>\n",
       "      <td>NaN</td>\n",
       "      <td>NaN</td>\n",
       "      <td>NaN</td>\n",
       "      <td>NaN</td>\n",
       "      <td>NaN</td>\n",
       "      <td>NaN</td>\n",
       "      <td>NaN</td>\n",
       "      <td>...</td>\n",
       "      <td>690.0</td>\n",
       "      <td>6221.0</td>\n",
       "      <td>527.0</td>\n",
       "      <td>0.41</td>\n",
       "      <td>993.0</td>\n",
       "      <td>NaN</td>\n",
       "      <td>NaN</td>\n",
       "      <td>63.03</td>\n",
       "      <td>22825.0</td>\n",
       "      <td>NaN</td>\n",
       "    </tr>\n",
       "    <tr>\n",
       "      <th>3</th>\n",
       "      <td>2010-01-04</td>\n",
       "      <td>76.1</td>\n",
       "      <td>NaN</td>\n",
       "      <td>NaN</td>\n",
       "      <td>NaN</td>\n",
       "      <td>NaN</td>\n",
       "      <td>NaN</td>\n",
       "      <td>NaN</td>\n",
       "      <td>NaN</td>\n",
       "      <td>29.905</td>\n",
       "      <td>...</td>\n",
       "      <td>690.0</td>\n",
       "      <td>6221.0</td>\n",
       "      <td>527.0</td>\n",
       "      <td>0.41</td>\n",
       "      <td>993.0</td>\n",
       "      <td>NaN</td>\n",
       "      <td>NaN</td>\n",
       "      <td>63.03</td>\n",
       "      <td>22825.0</td>\n",
       "      <td>NaN</td>\n",
       "    </tr>\n",
       "    <tr>\n",
       "      <th>4</th>\n",
       "      <td>2010-01-05</td>\n",
       "      <td>76.1</td>\n",
       "      <td>NaN</td>\n",
       "      <td>NaN</td>\n",
       "      <td>NaN</td>\n",
       "      <td>NaN</td>\n",
       "      <td>NaN</td>\n",
       "      <td>NaN</td>\n",
       "      <td>NaN</td>\n",
       "      <td>29.836</td>\n",
       "      <td>...</td>\n",
       "      <td>690.0</td>\n",
       "      <td>6221.0</td>\n",
       "      <td>527.0</td>\n",
       "      <td>0.41</td>\n",
       "      <td>993.0</td>\n",
       "      <td>NaN</td>\n",
       "      <td>NaN</td>\n",
       "      <td>63.03</td>\n",
       "      <td>22825.0</td>\n",
       "      <td>NaN</td>\n",
       "    </tr>\n",
       "  </tbody>\n",
       "</table>\n",
       "<p>5 rows × 100 columns</p>\n",
       "</div>"
      ],
      "text/plain": [
       "    timestamp  oil_urals  gdp_quart  gdp_quart_growth  cpi  ppi  gdp_deflator  \\\n",
       "0  2010-01-01       76.1        NaN               NaN  NaN  NaN           NaN   \n",
       "1  2010-01-02       76.1        NaN               NaN  NaN  NaN           NaN   \n",
       "2  2010-01-03       76.1        NaN               NaN  NaN  NaN           NaN   \n",
       "3  2010-01-04       76.1        NaN               NaN  NaN  NaN           NaN   \n",
       "4  2010-01-05       76.1        NaN               NaN  NaN  NaN           NaN   \n",
       "\n",
       "   balance_trade  balance_trade_growth  usdrub         ...          \\\n",
       "0            NaN                   NaN     NaN         ...           \n",
       "1            NaN                   NaN     NaN         ...           \n",
       "2            NaN                   NaN     NaN         ...           \n",
       "3            NaN                   NaN  29.905         ...           \n",
       "4            NaN                   NaN  29.836         ...           \n",
       "\n",
       "   provision_retail_space_modern_sqm  turnover_catering_per_cap  \\\n",
       "0                              690.0                     6221.0   \n",
       "1                              690.0                     6221.0   \n",
       "2                              690.0                     6221.0   \n",
       "3                              690.0                     6221.0   \n",
       "4                              690.0                     6221.0   \n",
       "\n",
       "   theaters_viewers_per_1000_cap  seats_theather_rfmin_per_100000_cap  \\\n",
       "0                          527.0                                 0.41   \n",
       "1                          527.0                                 0.41   \n",
       "2                          527.0                                 0.41   \n",
       "3                          527.0                                 0.41   \n",
       "4                          527.0                                 0.41   \n",
       "\n",
       "   museum_visitis_per_100_cap  bandwidth_sports  population_reg_sports_share  \\\n",
       "0                       993.0               NaN                          NaN   \n",
       "1                       993.0               NaN                          NaN   \n",
       "2                       993.0               NaN                          NaN   \n",
       "3                       993.0               NaN                          NaN   \n",
       "4                       993.0               NaN                          NaN   \n",
       "\n",
       "   students_reg_sports_share  apartment_build  apartment_fund_sqm  \n",
       "0                      63.03          22825.0                 NaN  \n",
       "1                      63.03          22825.0                 NaN  \n",
       "2                      63.03          22825.0                 NaN  \n",
       "3                      63.03          22825.0                 NaN  \n",
       "4                      63.03          22825.0                 NaN  \n",
       "\n",
       "[5 rows x 100 columns]"
      ]
     },
     "execution_count": 16,
     "metadata": {},
     "output_type": "execute_result"
    }
   ],
   "source": [
    "macro_raw.head()"
   ]
  },
  {
   "cell_type": "code",
   "execution_count": 17,
   "metadata": {
    "collapsed": false
   },
   "outputs": [
    {
     "data": {
      "text/plain": [
       "timestamp                                        0\n",
       "oil_urals                                        0\n",
       "gdp_quart                                       90\n",
       "gdp_quart_growth                                90\n",
       "cpi                                             31\n",
       "ppi                                             31\n",
       "gdp_deflator                                   365\n",
       "balance_trade                                   31\n",
       "balance_trade_growth                            90\n",
       "usdrub                                           3\n",
       "eurrub                                           3\n",
       "brent                                            3\n",
       "net_capital_export                             396\n",
       "gdp_annual                                       0\n",
       "gdp_annual_growth                                0\n",
       "average_provision_of_build_contract              0\n",
       "average_provision_of_build_contract_moscow     365\n",
       "rts                                             10\n",
       "micex                                           10\n",
       "micex_rgbi_tr                                   10\n",
       "micex_cbi_tr                                     1\n",
       "deposits_value                                   0\n",
       "deposits_growth                                 31\n",
       "deposits_rate                                  414\n",
       "mortgage_value                                   0\n",
       "mortgage_growth                                365\n",
       "mortgage_rate                                    0\n",
       "grp                                            658\n",
       "grp_growth                                    1023\n",
       "income_per_cap                                 293\n",
       "                                              ... \n",
       "rent_price_4+room_bus                          273\n",
       "rent_price_3room_bus                           273\n",
       "rent_price_2room_bus                           273\n",
       "rent_price_1room_bus                           273\n",
       "rent_price_3room_eco                           273\n",
       "rent_price_2room_eco                           273\n",
       "rent_price_1room_eco                           273\n",
       "load_of_teachers_preschool_per_teacher        1023\n",
       "child_on_acc_pre_school                        658\n",
       "load_of_teachers_school_per_teacher            293\n",
       "students_state_oneshift                        658\n",
       "modern_education_share                        1389\n",
       "old_education_build_share                     1389\n",
       "provision_doctors                              658\n",
       "provision_nurse                                293\n",
       "load_on_doctors                                293\n",
       "power_clinics                                  658\n",
       "hospital_beds_available_per_cap               1023\n",
       "hospital_bed_occupancy_per_year               1023\n",
       "provision_retail_space_sqm                    1753\n",
       "provision_retail_space_modern_sqm             1754\n",
       "turnover_catering_per_cap                      293\n",
       "theaters_viewers_per_1000_cap                 1023\n",
       "seats_theather_rfmin_per_100000_cap            293\n",
       "museum_visitis_per_100_cap                    1023\n",
       "bandwidth_sports                               658\n",
       "population_reg_sports_share                   1023\n",
       "students_reg_sports_share                     1023\n",
       "apartment_build                                658\n",
       "apartment_fund_sqm                             658\n",
       "dtype: int64"
      ]
     },
     "execution_count": 17,
     "metadata": {},
     "output_type": "execute_result"
    }
   ],
   "source": [
    "#Check for NaNs\n",
    "macro_raw.isnull().sum()"
   ]
  },
  {
   "cell_type": "markdown",
   "metadata": {},
   "source": [
    "### What does the data show?\n",
    "\n",
    "It seems there are quite a lot of NaN values.  I am thinking best way around this will be using a decision tree based classifier to start with.  Decision tree's are able to handle missing data like this quite well.\n",
    "\n",
    "Also might need to look into some dimensionality reduction as there seem to be a good number of columns.  Will have to spend some time reading the column descriptions, checking feature importance, and maybe using a dimensionality reduction algorithm too.\n",
    "\n",
    "For now, let's join the macro data to train and test sets."
   ]
  },
  {
   "cell_type": "code",
   "execution_count": 2,
   "metadata": {
    "collapsed": false
   },
   "outputs": [
    {
     "data": {
      "text/html": [
       "<div>\n",
       "<table border=\"1\" class=\"dataframe\">\n",
       "  <thead>\n",
       "    <tr style=\"text-align: right;\">\n",
       "      <th></th>\n",
       "      <th>id</th>\n",
       "      <th>timestamp</th>\n",
       "      <th>full_sq</th>\n",
       "      <th>life_sq</th>\n",
       "      <th>floor</th>\n",
       "      <th>max_floor</th>\n",
       "      <th>material</th>\n",
       "      <th>build_year</th>\n",
       "      <th>num_room</th>\n",
       "      <th>kitch_sq</th>\n",
       "      <th>...</th>\n",
       "      <th>provision_retail_space_modern_sqm</th>\n",
       "      <th>turnover_catering_per_cap</th>\n",
       "      <th>theaters_viewers_per_1000_cap</th>\n",
       "      <th>seats_theather_rfmin_per_100000_cap</th>\n",
       "      <th>museum_visitis_per_100_cap</th>\n",
       "      <th>bandwidth_sports</th>\n",
       "      <th>population_reg_sports_share</th>\n",
       "      <th>students_reg_sports_share</th>\n",
       "      <th>apartment_build</th>\n",
       "      <th>apartment_fund_sqm</th>\n",
       "    </tr>\n",
       "  </thead>\n",
       "  <tbody>\n",
       "    <tr>\n",
       "      <th>0</th>\n",
       "      <td>1</td>\n",
       "      <td>2011-08-20</td>\n",
       "      <td>43</td>\n",
       "      <td>27.0</td>\n",
       "      <td>4.0</td>\n",
       "      <td>NaN</td>\n",
       "      <td>NaN</td>\n",
       "      <td>NaN</td>\n",
       "      <td>NaN</td>\n",
       "      <td>NaN</td>\n",
       "      <td>...</td>\n",
       "      <td>NaN</td>\n",
       "      <td>NaN</td>\n",
       "      <td>NaN</td>\n",
       "      <td>NaN</td>\n",
       "      <td>NaN</td>\n",
       "      <td>NaN</td>\n",
       "      <td>NaN</td>\n",
       "      <td>NaN</td>\n",
       "      <td>NaN</td>\n",
       "      <td>NaN</td>\n",
       "    </tr>\n",
       "    <tr>\n",
       "      <th>1</th>\n",
       "      <td>2</td>\n",
       "      <td>2011-08-23</td>\n",
       "      <td>34</td>\n",
       "      <td>19.0</td>\n",
       "      <td>3.0</td>\n",
       "      <td>NaN</td>\n",
       "      <td>NaN</td>\n",
       "      <td>NaN</td>\n",
       "      <td>NaN</td>\n",
       "      <td>NaN</td>\n",
       "      <td>...</td>\n",
       "      <td>NaN</td>\n",
       "      <td>NaN</td>\n",
       "      <td>NaN</td>\n",
       "      <td>NaN</td>\n",
       "      <td>NaN</td>\n",
       "      <td>NaN</td>\n",
       "      <td>NaN</td>\n",
       "      <td>NaN</td>\n",
       "      <td>NaN</td>\n",
       "      <td>NaN</td>\n",
       "    </tr>\n",
       "    <tr>\n",
       "      <th>2</th>\n",
       "      <td>3</td>\n",
       "      <td>2011-08-27</td>\n",
       "      <td>43</td>\n",
       "      <td>29.0</td>\n",
       "      <td>2.0</td>\n",
       "      <td>NaN</td>\n",
       "      <td>NaN</td>\n",
       "      <td>NaN</td>\n",
       "      <td>NaN</td>\n",
       "      <td>NaN</td>\n",
       "      <td>...</td>\n",
       "      <td>NaN</td>\n",
       "      <td>NaN</td>\n",
       "      <td>NaN</td>\n",
       "      <td>NaN</td>\n",
       "      <td>NaN</td>\n",
       "      <td>NaN</td>\n",
       "      <td>NaN</td>\n",
       "      <td>NaN</td>\n",
       "      <td>NaN</td>\n",
       "      <td>NaN</td>\n",
       "    </tr>\n",
       "    <tr>\n",
       "      <th>3</th>\n",
       "      <td>4</td>\n",
       "      <td>2011-09-01</td>\n",
       "      <td>89</td>\n",
       "      <td>50.0</td>\n",
       "      <td>9.0</td>\n",
       "      <td>NaN</td>\n",
       "      <td>NaN</td>\n",
       "      <td>NaN</td>\n",
       "      <td>NaN</td>\n",
       "      <td>NaN</td>\n",
       "      <td>...</td>\n",
       "      <td>NaN</td>\n",
       "      <td>NaN</td>\n",
       "      <td>NaN</td>\n",
       "      <td>NaN</td>\n",
       "      <td>NaN</td>\n",
       "      <td>NaN</td>\n",
       "      <td>NaN</td>\n",
       "      <td>NaN</td>\n",
       "      <td>NaN</td>\n",
       "      <td>NaN</td>\n",
       "    </tr>\n",
       "    <tr>\n",
       "      <th>4</th>\n",
       "      <td>5</td>\n",
       "      <td>2011-09-05</td>\n",
       "      <td>77</td>\n",
       "      <td>77.0</td>\n",
       "      <td>4.0</td>\n",
       "      <td>NaN</td>\n",
       "      <td>NaN</td>\n",
       "      <td>NaN</td>\n",
       "      <td>NaN</td>\n",
       "      <td>NaN</td>\n",
       "      <td>...</td>\n",
       "      <td>NaN</td>\n",
       "      <td>NaN</td>\n",
       "      <td>NaN</td>\n",
       "      <td>NaN</td>\n",
       "      <td>NaN</td>\n",
       "      <td>NaN</td>\n",
       "      <td>NaN</td>\n",
       "      <td>NaN</td>\n",
       "      <td>NaN</td>\n",
       "      <td>NaN</td>\n",
       "    </tr>\n",
       "  </tbody>\n",
       "</table>\n",
       "<p>5 rows × 392 columns</p>\n",
       "</div>"
      ],
      "text/plain": [
       "   id   timestamp  full_sq  life_sq  floor  max_floor  material  build_year  \\\n",
       "0   1  2011-08-20       43     27.0    4.0        NaN       NaN         NaN   \n",
       "1   2  2011-08-23       34     19.0    3.0        NaN       NaN         NaN   \n",
       "2   3  2011-08-27       43     29.0    2.0        NaN       NaN         NaN   \n",
       "3   4  2011-09-01       89     50.0    9.0        NaN       NaN         NaN   \n",
       "4   5  2011-09-05       77     77.0    4.0        NaN       NaN         NaN   \n",
       "\n",
       "   num_room  kitch_sq         ...          provision_retail_space_modern_sqm  \\\n",
       "0       NaN       NaN         ...                                        NaN   \n",
       "1       NaN       NaN         ...                                        NaN   \n",
       "2       NaN       NaN         ...                                        NaN   \n",
       "3       NaN       NaN         ...                                        NaN   \n",
       "4       NaN       NaN         ...                                        NaN   \n",
       "\n",
       "  turnover_catering_per_cap theaters_viewers_per_1000_cap  \\\n",
       "0                       NaN                           NaN   \n",
       "1                       NaN                           NaN   \n",
       "2                       NaN                           NaN   \n",
       "3                       NaN                           NaN   \n",
       "4                       NaN                           NaN   \n",
       "\n",
       "   seats_theather_rfmin_per_100000_cap  museum_visitis_per_100_cap  \\\n",
       "0                                  NaN                         NaN   \n",
       "1                                  NaN                         NaN   \n",
       "2                                  NaN                         NaN   \n",
       "3                                  NaN                         NaN   \n",
       "4                                  NaN                         NaN   \n",
       "\n",
       "   bandwidth_sports  population_reg_sports_share  students_reg_sports_share  \\\n",
       "0               NaN                          NaN                        NaN   \n",
       "1               NaN                          NaN                        NaN   \n",
       "2               NaN                          NaN                        NaN   \n",
       "3               NaN                          NaN                        NaN   \n",
       "4               NaN                          NaN                        NaN   \n",
       "\n",
       "   apartment_build  apartment_fund_sqm  \n",
       "0              NaN                 NaN  \n",
       "1              NaN                 NaN  \n",
       "2              NaN                 NaN  \n",
       "3              NaN                 NaN  \n",
       "4              NaN                 NaN  \n",
       "\n",
       "[5 rows x 392 columns]"
      ]
     },
     "execution_count": 2,
     "metadata": {},
     "output_type": "execute_result"
    }
   ],
   "source": [
    "#Join macro-economic data\n",
    "train = train_raw.join(macro_raw, on='timestamp', rsuffix='_macro')\n",
    "test = test_raw.join(macro_raw, on='timestamp', rsuffix='_macro')\n",
    "train.head()"
   ]
  },
  {
   "cell_type": "markdown",
   "metadata": {},
   "source": [
    "### Feature Exploration & Engineering\n",
    "\n",
    "Now we can spend sometime looking at feature correlations, plotting relationships between the features, and trying to come up with some new features.  However, for this first run through I am going to skip this part and just train a model using all available data.  Partially I just want to get a first submission in as a baseline but also we can explore the feature_importances that our tree finds after we train one."
   ]
  },
  {
   "cell_type": "code",
   "execution_count": 21,
   "metadata": {
    "collapsed": true
   },
   "outputs": [],
   "source": [
    "def add_features(df):\n",
    "    '''(DataFrame) -> DataFrame\n",
    "    \n",
    "    Add's features, meant to be used for both train and test df's.\n",
    "    '''\n",
    "    return df"
   ]
  },
  {
   "cell_type": "markdown",
   "metadata": {},
   "source": [
    "### Prepare Data for ML\n",
    "\n",
    "First we need to convert all non-numerical columns then we need to seperate data into training features and labels.\n",
    "\n",
    "##### Dealing with non-numerical data"
   ]
  },
  {
   "cell_type": "code",
   "execution_count": 40,
   "metadata": {
    "collapsed": false
   },
   "outputs": [
    {
     "data": {
      "text/plain": [
       "float64    215\n",
       "int64      157\n",
       "object      20\n",
       "dtype: int64"
      ]
     },
     "execution_count": 40,
     "metadata": {},
     "output_type": "execute_result"
    }
   ],
   "source": [
    "#How many non-numerical columns do we have?\n",
    "train.dtypes.value_counts()"
   ]
  },
  {
   "cell_type": "code",
   "execution_count": 41,
   "metadata": {
    "collapsed": false
   },
   "outputs": [
    {
     "data": {
      "text/plain": [
       "Index([u'timestamp', u'product_type', u'sub_area', u'culture_objects_top_25',\n",
       "       u'thermal_power_plant_raion', u'incineration_raion',\n",
       "       u'oil_chemistry_raion', u'radiation_raion', u'railroad_terminal_raion',\n",
       "       u'big_market_raion', u'nuclear_reactor_raion',\n",
       "       u'detention_facility_raion', u'water_1line', u'big_road1_1line',\n",
       "       u'railroad_1line', u'ecology', u'timestamp_macro',\n",
       "       u'child_on_acc_pre_school', u'modern_education_share',\n",
       "       u'old_education_build_share'],\n",
       "      dtype='object')"
      ]
     },
     "execution_count": 41,
     "metadata": {},
     "output_type": "execute_result"
    }
   ],
   "source": [
    "#Get a list of all columns that need to be converted\n",
    "cols_to_convert = train.select_dtypes(include=['object'], exclude=['int64', 'float64']).columns\n",
    "cols_to_convert"
   ]
  },
  {
   "cell_type": "code",
   "execution_count": 42,
   "metadata": {
    "collapsed": false
   },
   "outputs": [
    {
     "data": {
      "text/plain": [
       "timestamp                        0\n",
       "product_type                     0\n",
       "sub_area                         0\n",
       "culture_objects_top_25           0\n",
       "thermal_power_plant_raion        0\n",
       "incineration_raion               0\n",
       "oil_chemistry_raion              0\n",
       "radiation_raion                  0\n",
       "railroad_terminal_raion          0\n",
       "big_market_raion                 0\n",
       "nuclear_reactor_raion            0\n",
       "detention_facility_raion         0\n",
       "water_1line                      0\n",
       "big_road1_1line                  0\n",
       "railroad_1line                   0\n",
       "ecology                          0\n",
       "timestamp_macro              30471\n",
       "child_on_acc_pre_school      30471\n",
       "modern_education_share       30471\n",
       "old_education_build_share    30471\n",
       "dtype: int64"
      ]
     },
     "execution_count": 42,
     "metadata": {},
     "output_type": "execute_result"
    }
   ],
   "source": [
    "train[cols_to_convert].isnull().sum()"
   ]
  },
  {
   "cell_type": "code",
   "execution_count": 43,
   "metadata": {
    "collapsed": false
   },
   "outputs": [
    {
     "data": {
      "text/plain": [
       "timestamp                    1161\n",
       "product_type                    2\n",
       "sub_area                      146\n",
       "culture_objects_top_25          2\n",
       "thermal_power_plant_raion       2\n",
       "incineration_raion              2\n",
       "oil_chemistry_raion             2\n",
       "radiation_raion                 2\n",
       "railroad_terminal_raion         2\n",
       "big_market_raion                2\n",
       "nuclear_reactor_raion           2\n",
       "detention_facility_raion        2\n",
       "water_1line                     2\n",
       "big_road1_1line                 2\n",
       "railroad_1line                  2\n",
       "ecology                         5\n",
       "timestamp_macro                 0\n",
       "child_on_acc_pre_school         0\n",
       "modern_education_share          0\n",
       "old_education_build_share       0\n",
       "dtype: int64"
      ]
     },
     "execution_count": 43,
     "metadata": {},
     "output_type": "execute_result"
    }
   ],
   "source": [
    "#See how many unique values for all non-numerical columns\n",
    "train[cols_to_convert].apply(pd.Series.nunique)"
   ]
  },
  {
   "cell_type": "code",
   "execution_count": 44,
   "metadata": {
    "collapsed": false
   },
   "outputs": [
    {
     "data": {
      "text/html": [
       "<div>\n",
       "<table border=\"1\" class=\"dataframe\">\n",
       "  <thead>\n",
       "    <tr style=\"text-align: right;\">\n",
       "      <th></th>\n",
       "      <th>timestamp</th>\n",
       "      <th>product_type</th>\n",
       "      <th>sub_area</th>\n",
       "      <th>culture_objects_top_25</th>\n",
       "      <th>thermal_power_plant_raion</th>\n",
       "      <th>incineration_raion</th>\n",
       "      <th>oil_chemistry_raion</th>\n",
       "      <th>radiation_raion</th>\n",
       "      <th>railroad_terminal_raion</th>\n",
       "      <th>big_market_raion</th>\n",
       "      <th>nuclear_reactor_raion</th>\n",
       "      <th>detention_facility_raion</th>\n",
       "      <th>water_1line</th>\n",
       "      <th>big_road1_1line</th>\n",
       "      <th>railroad_1line</th>\n",
       "      <th>ecology</th>\n",
       "      <th>timestamp_macro</th>\n",
       "      <th>child_on_acc_pre_school</th>\n",
       "      <th>modern_education_share</th>\n",
       "      <th>old_education_build_share</th>\n",
       "    </tr>\n",
       "  </thead>\n",
       "  <tbody>\n",
       "    <tr>\n",
       "      <th>0</th>\n",
       "      <td>2011-08-20</td>\n",
       "      <td>Investment</td>\n",
       "      <td>Bibirevo</td>\n",
       "      <td>no</td>\n",
       "      <td>no</td>\n",
       "      <td>no</td>\n",
       "      <td>no</td>\n",
       "      <td>no</td>\n",
       "      <td>no</td>\n",
       "      <td>no</td>\n",
       "      <td>no</td>\n",
       "      <td>no</td>\n",
       "      <td>no</td>\n",
       "      <td>no</td>\n",
       "      <td>no</td>\n",
       "      <td>good</td>\n",
       "      <td>NaN</td>\n",
       "      <td>NaN</td>\n",
       "      <td>NaN</td>\n",
       "      <td>NaN</td>\n",
       "    </tr>\n",
       "    <tr>\n",
       "      <th>1</th>\n",
       "      <td>2011-08-23</td>\n",
       "      <td>Investment</td>\n",
       "      <td>Nagatinskij Zaton</td>\n",
       "      <td>yes</td>\n",
       "      <td>no</td>\n",
       "      <td>no</td>\n",
       "      <td>no</td>\n",
       "      <td>no</td>\n",
       "      <td>no</td>\n",
       "      <td>no</td>\n",
       "      <td>no</td>\n",
       "      <td>no</td>\n",
       "      <td>no</td>\n",
       "      <td>no</td>\n",
       "      <td>no</td>\n",
       "      <td>excellent</td>\n",
       "      <td>NaN</td>\n",
       "      <td>NaN</td>\n",
       "      <td>NaN</td>\n",
       "      <td>NaN</td>\n",
       "    </tr>\n",
       "    <tr>\n",
       "      <th>2</th>\n",
       "      <td>2011-08-27</td>\n",
       "      <td>Investment</td>\n",
       "      <td>Tekstil'shhiki</td>\n",
       "      <td>no</td>\n",
       "      <td>no</td>\n",
       "      <td>no</td>\n",
       "      <td>no</td>\n",
       "      <td>yes</td>\n",
       "      <td>no</td>\n",
       "      <td>no</td>\n",
       "      <td>no</td>\n",
       "      <td>no</td>\n",
       "      <td>no</td>\n",
       "      <td>no</td>\n",
       "      <td>no</td>\n",
       "      <td>poor</td>\n",
       "      <td>NaN</td>\n",
       "      <td>NaN</td>\n",
       "      <td>NaN</td>\n",
       "      <td>NaN</td>\n",
       "    </tr>\n",
       "    <tr>\n",
       "      <th>3</th>\n",
       "      <td>2011-09-01</td>\n",
       "      <td>Investment</td>\n",
       "      <td>Mitino</td>\n",
       "      <td>no</td>\n",
       "      <td>no</td>\n",
       "      <td>no</td>\n",
       "      <td>no</td>\n",
       "      <td>no</td>\n",
       "      <td>no</td>\n",
       "      <td>no</td>\n",
       "      <td>no</td>\n",
       "      <td>no</td>\n",
       "      <td>no</td>\n",
       "      <td>no</td>\n",
       "      <td>no</td>\n",
       "      <td>good</td>\n",
       "      <td>NaN</td>\n",
       "      <td>NaN</td>\n",
       "      <td>NaN</td>\n",
       "      <td>NaN</td>\n",
       "    </tr>\n",
       "    <tr>\n",
       "      <th>4</th>\n",
       "      <td>2011-09-05</td>\n",
       "      <td>Investment</td>\n",
       "      <td>Basmannoe</td>\n",
       "      <td>no</td>\n",
       "      <td>no</td>\n",
       "      <td>no</td>\n",
       "      <td>no</td>\n",
       "      <td>yes</td>\n",
       "      <td>yes</td>\n",
       "      <td>no</td>\n",
       "      <td>no</td>\n",
       "      <td>no</td>\n",
       "      <td>no</td>\n",
       "      <td>no</td>\n",
       "      <td>yes</td>\n",
       "      <td>excellent</td>\n",
       "      <td>NaN</td>\n",
       "      <td>NaN</td>\n",
       "      <td>NaN</td>\n",
       "      <td>NaN</td>\n",
       "    </tr>\n",
       "  </tbody>\n",
       "</table>\n",
       "</div>"
      ],
      "text/plain": [
       "    timestamp product_type           sub_area culture_objects_top_25  \\\n",
       "0  2011-08-20   Investment           Bibirevo                     no   \n",
       "1  2011-08-23   Investment  Nagatinskij Zaton                    yes   \n",
       "2  2011-08-27   Investment     Tekstil'shhiki                     no   \n",
       "3  2011-09-01   Investment             Mitino                     no   \n",
       "4  2011-09-05   Investment          Basmannoe                     no   \n",
       "\n",
       "  thermal_power_plant_raion incineration_raion oil_chemistry_raion  \\\n",
       "0                        no                 no                  no   \n",
       "1                        no                 no                  no   \n",
       "2                        no                 no                  no   \n",
       "3                        no                 no                  no   \n",
       "4                        no                 no                  no   \n",
       "\n",
       "  radiation_raion railroad_terminal_raion big_market_raion  \\\n",
       "0              no                      no               no   \n",
       "1              no                      no               no   \n",
       "2             yes                      no               no   \n",
       "3              no                      no               no   \n",
       "4             yes                     yes               no   \n",
       "\n",
       "  nuclear_reactor_raion detention_facility_raion water_1line big_road1_1line  \\\n",
       "0                    no                       no          no              no   \n",
       "1                    no                       no          no              no   \n",
       "2                    no                       no          no              no   \n",
       "3                    no                       no          no              no   \n",
       "4                    no                       no          no              no   \n",
       "\n",
       "  railroad_1line    ecology timestamp_macro child_on_acc_pre_school  \\\n",
       "0             no       good             NaN                     NaN   \n",
       "1             no  excellent             NaN                     NaN   \n",
       "2             no       poor             NaN                     NaN   \n",
       "3             no       good             NaN                     NaN   \n",
       "4            yes  excellent             NaN                     NaN   \n",
       "\n",
       "  modern_education_share old_education_build_share  \n",
       "0                    NaN                       NaN  \n",
       "1                    NaN                       NaN  \n",
       "2                    NaN                       NaN  \n",
       "3                    NaN                       NaN  \n",
       "4                    NaN                       NaN  "
      ]
     },
     "execution_count": 44,
     "metadata": {},
     "output_type": "execute_result"
    }
   ],
   "source": [
    "train[cols_to_convert].head()"
   ]
  },
  {
   "cell_type": "code",
   "execution_count": 3,
   "metadata": {
    "collapsed": true
   },
   "outputs": [],
   "source": [
    "def add_date_features(df):\n",
    "    '''(DataFrame) -> DataFrame\n",
    "    \n",
    "    Will add some specific columns based on the date\n",
    "    of the sale.\n",
    "    '''\n",
    "    #Convert to datetime to make extraction easier\n",
    "    df['timestamp'] = pd.to_datetime(df['timestamp'])\n",
    "    #Extract features\n",
    "    df['month'] = df['timestamp'].dt.month\n",
    "    df['day'] = df['timestamp'].dt.day\n",
    "    df['year'] = df['timestamp'].dt.year\n",
    "    df.drop('timestamp', axis=1, inplace=True)\n",
    "    return df"
   ]
  },
  {
   "cell_type": "code",
   "execution_count": 4,
   "metadata": {
    "collapsed": true
   },
   "outputs": [],
   "source": [
    "def preprocess_data_for_ml(df):\n",
    "    '''(DataFrame) -> DataFrame\n",
    "    \n",
    "    Given train and test df's of features, convert text features to\n",
    "    numerical labels, convert the date to a more useable format, and\n",
    "    remove NaN columns.\n",
    "    '''\n",
    "    #Drop NaN features\n",
    "    df.drop('timestamp_macro', axis=1, inplace=True)\n",
    "    df.drop('child_on_acc_pre_school', axis=1, inplace=True)\n",
    "    df.drop('modern_education_share', axis=1, inplace=True)\n",
    "    df.drop('old_education_build_share', axis=1, inplace=True)\n",
    "    #Add Date\n",
    "    df = add_date_features(df)\n",
    "    return df"
   ]
  },
  {
   "cell_type": "code",
   "execution_count": 5,
   "metadata": {
    "collapsed": false
   },
   "outputs": [],
   "source": [
    "train = preprocess_data_for_ml(train)\n",
    "test = preprocess_data_for_ml(test)"
   ]
  },
  {
   "cell_type": "markdown",
   "metadata": {},
   "source": [
    "#### Now enconde non-numerical data"
   ]
  },
  {
   "cell_type": "code",
   "execution_count": 6,
   "metadata": {
    "collapsed": false
   },
   "outputs": [],
   "source": [
    "from sklearn.preprocessing import LabelEncoder\n",
    "\n",
    "def encode_object_features(train, test):\n",
    "    '''(DataFrame, DataFrame) -> DataFrame, DataFrame\n",
    "    \n",
    "    Will encode each non-numerical column.\n",
    "    '''\n",
    "    cols_to_encode = train.select_dtypes(include=['object'], exclude=['int64', 'float64']).columns\n",
    "    for col in cols_to_encode:\n",
    "        le = LabelEncoder()\n",
    "        #Fit on both sets of data\n",
    "        le.fit(train[col].append(test[col]))\n",
    "        #Transform each\n",
    "        train[col] = le.transform(train[col])\n",
    "        test[col] = le.transform(test[col])\n",
    "    \n",
    "    return train, test"
   ]
  },
  {
   "cell_type": "code",
   "execution_count": 7,
   "metadata": {
    "collapsed": false
   },
   "outputs": [
    {
     "name": "stderr",
     "output_type": "stream",
     "text": [
      "C:\\ProgramData\\Anaconda2\\lib\\site-packages\\numpy\\lib\\arraysetops.py:200: FutureWarning: numpy not_equal will not check object identity in the future. The comparison did not return the same result as suggested by the identity (`is`)) and will change.\n",
      "  flag = np.concatenate(([True], aux[1:] != aux[:-1]))\n",
      "C:\\ProgramData\\Anaconda2\\lib\\site-packages\\numpy\\lib\\arraysetops.py:259: FutureWarning: numpy equal will not check object identity in the future. The comparison did not return the same result as suggested by the identity (`is`)) and will change.\n",
      "  return aux[:-1][aux[1:] == aux[:-1]]\n"
     ]
    }
   ],
   "source": [
    "#Enconde Non-Numerical Features\n",
    "train, test = encode_object_features(train, test)"
   ]
  },
  {
   "cell_type": "code",
   "execution_count": 8,
   "metadata": {
    "collapsed": false
   },
   "outputs": [
    {
     "data": {
      "text/plain": [
       "float64    215\n",
       "int64      175\n",
       "dtype: int64"
      ]
     },
     "execution_count": 8,
     "metadata": {},
     "output_type": "execute_result"
    }
   ],
   "source": [
    "train.dtypes.value_counts()"
   ]
  },
  {
   "cell_type": "code",
   "execution_count": null,
   "metadata": {
    "collapsed": true
   },
   "outputs": [],
   "source": []
  },
  {
   "cell_type": "code",
   "execution_count": null,
   "metadata": {
    "collapsed": true
   },
   "outputs": [],
   "source": []
  },
  {
   "cell_type": "code",
   "execution_count": null,
   "metadata": {
    "collapsed": true
   },
   "outputs": [],
   "source": []
  },
  {
   "cell_type": "code",
   "execution_count": 11,
   "metadata": {
    "collapsed": true
   },
   "outputs": [],
   "source": [
    "#Pickle for easy backup\n",
    "train.to_pickle('train_df.pickle')\n",
    "test.to_pickle('test_df.pickle')"
   ]
  },
  {
   "cell_type": "code",
   "execution_count": null,
   "metadata": {
    "collapsed": true
   },
   "outputs": [],
   "source": [
    "#Load in from here\n",
    "train = pd.read_pickle('train_df.pickle')\n",
    "test = pd.read_pickle('test_df.pickle')"
   ]
  },
  {
   "cell_type": "code",
   "execution_count": 9,
   "metadata": {
    "collapsed": false
   },
   "outputs": [],
   "source": [
    "#Select all feature columns (except our label column)\n",
    "X_train = train.ix[:, train.columns != 'price_doc'].values\n",
    "X_test = test.values\n",
    "#Feature matrices should have same number of columns\n",
    "assert(X_train.shape[1] == X_test.shape[1])"
   ]
  },
  {
   "cell_type": "code",
   "execution_count": 10,
   "metadata": {
    "collapsed": true
   },
   "outputs": [],
   "source": [
    "#Select training labels\n",
    "Y_train = train['price_doc'].values"
   ]
  },
  {
   "cell_type": "markdown",
   "metadata": {},
   "source": [
    "### Build ML Model\n",
    "\n",
    "Our data is set, let's build an ML model now.  I am choosing to use XGBoost for my tree based model."
   ]
  },
  {
   "cell_type": "code",
   "execution_count": 12,
   "metadata": {
    "collapsed": false
   },
   "outputs": [
    {
     "name": "stdout",
     "output_type": "stream",
     "text": [
      "-7.98651473264e+12\n"
     ]
    }
   ],
   "source": [
    "from xgboost import XGBRegressor\n",
    "from sklearn.model_selection import TimeSeriesSplit, cross_val_score\n",
    "\n",
    "\n",
    "#Initialize Model\n",
    "xgb = XGBRegressor()\n",
    "#Create cross-validation\n",
    "cv = TimeSeriesSplit(n_splits=4)\n",
    "#Train & Test Model\n",
    "cross_val_results = cross_val_score(xgb, X_train, Y_train, cv=cv, scoring='neg_mean_squared_error')\n",
    "print cross_val_results.mean()"
   ]
  },
  {
   "cell_type": "code",
   "execution_count": 23,
   "metadata": {
    "collapsed": true
   },
   "outputs": [],
   "source": [
    "xgb = XGBRegressor(n_estimators=100)"
   ]
  },
  {
   "cell_type": "code",
   "execution_count": 24,
   "metadata": {
    "collapsed": true
   },
   "outputs": [],
   "source": [
    "model = xgb.fit(X_train, Y_train)"
   ]
  },
  {
   "cell_type": "code",
   "execution_count": 25,
   "metadata": {
    "collapsed": true
   },
   "outputs": [],
   "source": [
    "predictions = xgb.predict(X_test)"
   ]
  },
  {
   "cell_type": "markdown",
   "metadata": {},
   "source": [
    "##### Feature Importances\n",
    "\n",
    "Take a look at the feature importances, this can help with the next iteration of our model."
   ]
  },
  {
   "cell_type": "code",
   "execution_count": 43,
   "metadata": {
    "collapsed": false
   },
   "outputs": [
    {
     "data": {
      "text/plain": [
       "<matplotlib.axes._subplots.AxesSubplot at 0xc05a320>"
      ]
     },
     "execution_count": 43,
     "metadata": {},
     "output_type": "execute_result"
    },
    {
     "data": {
      "image/png": "[encoded data removed]",
      "text/plain": [
       "<matplotlib.figure.Figure at 0xda39588>"
      ]
     },
     "metadata": {},
     "output_type": "display_data"
    }
   ],
   "source": [
    "from xgboost import plot_importance\n",
    "%matplotlib inline\n",
    "\n",
    "plot_importance(model, max_num_features=20)"
   ]
  },
  {
   "cell_type": "code",
   "execution_count": 37,
   "metadata": {
    "collapsed": false
   },
   "outputs": [
    {
     "data": {
      "text/html": [
       "<div>\n",
       "<table border=\"1\" class=\"dataframe\">\n",
       "  <thead>\n",
       "    <tr style=\"text-align: right;\">\n",
       "      <th></th>\n",
       "      <th>importance</th>\n",
       "      <th>feature</th>\n",
       "    </tr>\n",
       "  </thead>\n",
       "  <tbody>\n",
       "    <tr>\n",
       "      <th>1</th>\n",
       "      <td>0.123760</td>\n",
       "      <td>full_sq</td>\n",
       "    </tr>\n",
       "    <tr>\n",
       "      <th>0</th>\n",
       "      <td>0.056768</td>\n",
       "      <td>id</td>\n",
       "    </tr>\n",
       "    <tr>\n",
       "      <th>2</th>\n",
       "      <td>0.032657</td>\n",
       "      <td>life_sq</td>\n",
       "    </tr>\n",
       "    <tr>\n",
       "      <th>6</th>\n",
       "      <td>0.028231</td>\n",
       "      <td>build_year</td>\n",
       "    </tr>\n",
       "    <tr>\n",
       "      <th>4</th>\n",
       "      <td>0.023958</td>\n",
       "      <td>max_floor</td>\n",
       "    </tr>\n",
       "    <tr>\n",
       "      <th>3</th>\n",
       "      <td>0.023348</td>\n",
       "      <td>floor</td>\n",
       "    </tr>\n",
       "    <tr>\n",
       "      <th>8</th>\n",
       "      <td>0.015108</td>\n",
       "      <td>kitch_sq</td>\n",
       "    </tr>\n",
       "    <tr>\n",
       "      <th>7</th>\n",
       "      <td>0.012971</td>\n",
       "      <td>num_room</td>\n",
       "    </tr>\n",
       "    <tr>\n",
       "      <th>88</th>\n",
       "      <td>0.011903</td>\n",
       "      <td>kindergarten_km</td>\n",
       "    </tr>\n",
       "    <tr>\n",
       "      <th>102</th>\n",
       "      <td>0.011140</td>\n",
       "      <td>public_transport_station_km</td>\n",
       "    </tr>\n",
       "    <tr>\n",
       "      <th>139</th>\n",
       "      <td>0.010530</td>\n",
       "      <td>workplaces_km</td>\n",
       "    </tr>\n",
       "    <tr>\n",
       "      <th>91</th>\n",
       "      <td>0.010530</td>\n",
       "      <td>green_zone_km</td>\n",
       "    </tr>\n",
       "    <tr>\n",
       "      <th>147</th>\n",
       "      <td>0.010530</td>\n",
       "      <td>theater_km</td>\n",
       "    </tr>\n",
       "    <tr>\n",
       "      <th>104</th>\n",
       "      <td>0.010377</td>\n",
       "      <td>water_km</td>\n",
       "    </tr>\n",
       "    <tr>\n",
       "      <th>116</th>\n",
       "      <td>0.010072</td>\n",
       "      <td>railroad_km</td>\n",
       "    </tr>\n",
       "    <tr>\n",
       "      <th>146</th>\n",
       "      <td>0.009767</td>\n",
       "      <td>mosque_km</td>\n",
       "    </tr>\n",
       "    <tr>\n",
       "      <th>142</th>\n",
       "      <td>0.009461</td>\n",
       "      <td>additional_education_km</td>\n",
       "    </tr>\n",
       "    <tr>\n",
       "      <th>92</th>\n",
       "      <td>0.009309</td>\n",
       "      <td>industrial_km</td>\n",
       "    </tr>\n",
       "    <tr>\n",
       "      <th>124</th>\n",
       "      <td>0.009004</td>\n",
       "      <td>radiation_km</td>\n",
       "    </tr>\n",
       "    <tr>\n",
       "      <th>111</th>\n",
       "      <td>0.008851</td>\n",
       "      <td>big_road1_km</td>\n",
       "    </tr>\n",
       "  </tbody>\n",
       "</table>\n",
       "</div>"
      ],
      "text/plain": [
       "     importance                      feature\n",
       "1      0.123760                      full_sq\n",
       "0      0.056768                           id\n",
       "2      0.032657                      life_sq\n",
       "6      0.028231                   build_year\n",
       "4      0.023958                    max_floor\n",
       "3      0.023348                        floor\n",
       "8      0.015108                     kitch_sq\n",
       "7      0.012971                     num_room\n",
       "88     0.011903              kindergarten_km\n",
       "102    0.011140  public_transport_station_km\n",
       "139    0.010530                workplaces_km\n",
       "91     0.010530                green_zone_km\n",
       "147    0.010530                   theater_km\n",
       "104    0.010377                     water_km\n",
       "116    0.010072                  railroad_km\n",
       "146    0.009767                    mosque_km\n",
       "142    0.009461      additional_education_km\n",
       "92     0.009309                industrial_km\n",
       "124    0.009004                 radiation_km\n",
       "111    0.008851                 big_road1_km"
      ]
     },
     "execution_count": 37,
     "metadata": {},
     "output_type": "execute_result"
    }
   ],
   "source": [
    "importances = zip(model.feature_importances_, train.ix[:, train.columns != 'price_doc'].columns)\n",
    "importances = pd.DataFrame(importances, columns=['importance', 'feature'])\n",
    "importances.sort_values('importance', ascending=False).head(20)"
   ]
  },
  {
   "cell_type": "markdown",
   "metadata": {},
   "source": [
    "##### Make Submission File"
   ]
  },
  {
   "cell_type": "code",
   "execution_count": 26,
   "metadata": {
    "collapsed": false
   },
   "outputs": [],
   "source": [
    "submission_df = pd.DataFrame({'id':test['id'], 'price_doc':predictions})"
   ]
  },
  {
   "cell_type": "code",
   "execution_count": 27,
   "metadata": {
    "collapsed": false
   },
   "outputs": [],
   "source": [
    "submission_df.to_csv('xgb.csv', index=False)"
   ]
  },
  {
   "cell_type": "markdown",
   "metadata": {},
   "source": [
    "### Next Steps\n",
    "\n",
    "This is my first submission, scored a .33413 on the public leaderboard for this contest.  Not a bad start considering did basically no feature engineering and didn't really do anything about all the NaN data.\n",
    "\n",
    "Next am going to use the feature importances from this iteration and take my pickled data into a new notebook where I can do some more feature engineering, NaN processing, and focus on the most important features.  And finally, can tweak/ tune the XGB model."
   ]
  },
  {
   "cell_type": "code",
   "execution_count": null,
   "metadata": {
    "collapsed": true
   },
   "outputs": [],
   "source": []
  }
 ],
 "metadata": {
  "kernelspec": {
   "display_name": "Python 2",
   "language": "python",
   "name": "python2"
  },
  "language_info": {
   "codemirror_mode": {
    "name": "ipython",
    "version": 2
   },
   "file_extension": ".py",
   "mimetype": "text/x-python",
   "name": "python",
   "nbconvert_exporter": "python",
   "pygments_lexer": "ipython2",
   "version": "2.7.13"
  }
 },
 "nbformat": 4,
 "nbformat_minor": 2
}
