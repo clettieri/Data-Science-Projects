{
 "cells": [
  {
   "cell_type": "markdown",
   "metadata": {},
   "source": [
    "# End of Day Stock Research\n",
    "\n",
    "Using only EOD price and volume data I provide a framework for how to go about developing a model that can be implemented as trading strategy.  The goal being to find a viable trading strategy that can run using EOD data and allows for entries at the closing price of the day.\n",
    "\n",
    "Coming into this project I had some initial ideas for basic features to add.  I also am looking for a system with a holding period of 1-10 days that has a frequency of 4-20 trades per month.  These intial ideas combined with my trading experience forms the basis of my initial research as shown here.\n",
    "\n",
    "### Getting Started - The Data\n",
    "\n",
    "My goal is for this system to be a 1-10 day swing trading strategy.  I am therefore only interested in the end of day data for stocks.  For this project, I decided to use Quandl for my data.\n",
    "\n",
    "WIKI EOD Stock Prices at https://www.quandl.com/data/WIKI-Wiki-EOD-Stock-Prices\n",
    "\n",
    "### Load & Inspect Data"
   ]
  },
  {
   "cell_type": "code",
   "execution_count": 2,
   "metadata": {
    "collapsed": true
   },
   "outputs": [],
   "source": [
    "import pandas as pd\n",
    "import numpy as np"
   ]
  },
  {
   "cell_type": "code",
   "execution_count": 1,
   "metadata": {
    "collapsed": false
   },
   "outputs": [
    {
     "data": {
      "text/plain": [
       "(14819949, 14)"
      ]
     },
     "execution_count": 1,
     "metadata": {},
     "output_type": "execute_result"
    }
   ],
   "source": [
    "#Loading the whole wiki prices file may take awhile, was 1.68GB at time of writing\n",
    "#Also this part is not necessary, skip a few cells lower where we load just individual stocks\n",
    "wiki_data = pd.read_csv('wiki_prices.csv')\n",
    "wiki_data.shape"
   ]
  },
  {
   "cell_type": "code",
   "execution_count": 2,
   "metadata": {
    "collapsed": false
   },
   "outputs": [
    {
     "data": {
      "text/html": [
       "<div>\n",
       "<table border=\"1\" class=\"dataframe\">\n",
       "  <thead>\n",
       "    <tr style=\"text-align: right;\">\n",
       "      <th></th>\n",
       "      <th>ticker</th>\n",
       "      <th>date</th>\n",
       "      <th>open</th>\n",
       "      <th>high</th>\n",
       "      <th>low</th>\n",
       "      <th>close</th>\n",
       "      <th>volume</th>\n",
       "      <th>ex-dividend</th>\n",
       "      <th>split_ratio</th>\n",
       "      <th>adj_open</th>\n",
       "      <th>adj_high</th>\n",
       "      <th>adj_low</th>\n",
       "      <th>adj_close</th>\n",
       "      <th>adj_volume</th>\n",
       "    </tr>\n",
       "  </thead>\n",
       "  <tbody>\n",
       "    <tr>\n",
       "      <th>0</th>\n",
       "      <td>A</td>\n",
       "      <td>1999-11-18</td>\n",
       "      <td>45.50</td>\n",
       "      <td>50.00</td>\n",
       "      <td>40.00</td>\n",
       "      <td>44.00</td>\n",
       "      <td>44739900.0</td>\n",
       "      <td>0.0</td>\n",
       "      <td>1.0</td>\n",
       "      <td>29.367758</td>\n",
       "      <td>32.272262</td>\n",
       "      <td>25.817810</td>\n",
       "      <td>28.399591</td>\n",
       "      <td>44739900.0</td>\n",
       "    </tr>\n",
       "    <tr>\n",
       "      <th>1</th>\n",
       "      <td>A</td>\n",
       "      <td>1999-11-19</td>\n",
       "      <td>42.94</td>\n",
       "      <td>43.00</td>\n",
       "      <td>39.81</td>\n",
       "      <td>40.38</td>\n",
       "      <td>10897100.0</td>\n",
       "      <td>0.0</td>\n",
       "      <td>1.0</td>\n",
       "      <td>27.714581</td>\n",
       "      <td>27.753307</td>\n",
       "      <td>25.694399</td>\n",
       "      <td>26.062292</td>\n",
       "      <td>10897100.0</td>\n",
       "    </tr>\n",
       "    <tr>\n",
       "      <th>2</th>\n",
       "      <td>A</td>\n",
       "      <td>1999-11-22</td>\n",
       "      <td>41.31</td>\n",
       "      <td>44.00</td>\n",
       "      <td>40.06</td>\n",
       "      <td>44.00</td>\n",
       "      <td>4705200.0</td>\n",
       "      <td>0.0</td>\n",
       "      <td>1.0</td>\n",
       "      <td>26.663343</td>\n",
       "      <td>28.399591</td>\n",
       "      <td>25.856536</td>\n",
       "      <td>28.399591</td>\n",
       "      <td>4705200.0</td>\n",
       "    </tr>\n",
       "    <tr>\n",
       "      <th>3</th>\n",
       "      <td>A</td>\n",
       "      <td>1999-11-23</td>\n",
       "      <td>42.50</td>\n",
       "      <td>43.63</td>\n",
       "      <td>40.25</td>\n",
       "      <td>40.25</td>\n",
       "      <td>4274400.0</td>\n",
       "      <td>0.0</td>\n",
       "      <td>1.0</td>\n",
       "      <td>27.436863</td>\n",
       "      <td>28.166360</td>\n",
       "      <td>25.984323</td>\n",
       "      <td>25.984323</td>\n",
       "      <td>4274400.0</td>\n",
       "    </tr>\n",
       "    <tr>\n",
       "      <th>4</th>\n",
       "      <td>A</td>\n",
       "      <td>1999-11-24</td>\n",
       "      <td>40.13</td>\n",
       "      <td>41.94</td>\n",
       "      <td>40.00</td>\n",
       "      <td>41.06</td>\n",
       "      <td>3464400.0</td>\n",
       "      <td>0.0</td>\n",
       "      <td>1.0</td>\n",
       "      <td>25.905464</td>\n",
       "      <td>27.073889</td>\n",
       "      <td>25.821544</td>\n",
       "      <td>26.505815</td>\n",
       "      <td>3464400.0</td>\n",
       "    </tr>\n",
       "  </tbody>\n",
       "</table>\n",
       "</div>"
      ],
      "text/plain": [
       "  ticker        date   open   high    low  close      volume  ex-dividend  \\\n",
       "0      A  1999-11-18  45.50  50.00  40.00  44.00  44739900.0          0.0   \n",
       "1      A  1999-11-19  42.94  43.00  39.81  40.38  10897100.0          0.0   \n",
       "2      A  1999-11-22  41.31  44.00  40.06  44.00   4705200.0          0.0   \n",
       "3      A  1999-11-23  42.50  43.63  40.25  40.25   4274400.0          0.0   \n",
       "4      A  1999-11-24  40.13  41.94  40.00  41.06   3464400.0          0.0   \n",
       "\n",
       "   split_ratio   adj_open   adj_high    adj_low  adj_close  adj_volume  \n",
       "0          1.0  29.367758  32.272262  25.817810  28.399591  44739900.0  \n",
       "1          1.0  27.714581  27.753307  25.694399  26.062292  10897100.0  \n",
       "2          1.0  26.663343  28.399591  25.856536  28.399591   4705200.0  \n",
       "3          1.0  27.436863  28.166360  25.984323  25.984323   4274400.0  \n",
       "4          1.0  25.905464  27.073889  25.821544  26.505815   3464400.0  "
      ]
     },
     "execution_count": 2,
     "metadata": {},
     "output_type": "execute_result"
    }
   ],
   "source": [
    "wiki_data.head()"
   ]
  },
  {
   "cell_type": "markdown",
   "metadata": {},
   "source": [
    "### Get Easier to Work With Data\n",
    "\n",
    "A 1.68GB file that is basically a giant table index by stock ticker and then date is not going to be easy to work with.  To make this data a little easier to work with I wrote a script (process_quandl_data.py) that will process this big csv file and given a list of symbols, will write all data for that specific symbol to a new file 'symbol.csv'.\n",
    "\n",
    "process_quandl_data.py available in this GitHub repo"
   ]
  },
  {
   "cell_type": "code",
   "execution_count": 4,
   "metadata": {
    "collapsed": false
   },
   "outputs": [],
   "source": [
    "import process_quandl_data as pqd\n",
    "\n",
    "SYMBOLS = ['AAPL', 'TSLA', 'NFLX']\n",
    "MAIN_DATA_PATH = 'wiki_prices.csv'\n",
    "\n",
    "#Get symbol.csv files for every symbol in SYMBOLS\n",
    "pqd.write_individual_stock_data_files(MAIN_DATA_PATH, SYMBOLS)"
   ]
  },
  {
   "cell_type": "code",
   "execution_count": 3,
   "metadata": {
    "collapsed": false
   },
   "outputs": [],
   "source": [
    "aapl = pd.read_csv('data/AAPL.csv')\n",
    "nflx = pd.read_csv('data/NFLX.csv')\n",
    "tsla = pd.read_csv('data/TSLA.csv')"
   ]
  },
  {
   "cell_type": "code",
   "execution_count": 6,
   "metadata": {
    "collapsed": false
   },
   "outputs": [
    {
     "data": {
      "text/plain": [
       "(9173, 14)"
      ]
     },
     "execution_count": 6,
     "metadata": {},
     "output_type": "execute_result"
    }
   ],
   "source": [
    "aapl.shape"
   ]
  },
  {
   "cell_type": "code",
   "execution_count": 7,
   "metadata": {
    "collapsed": false
   },
   "outputs": [
    {
     "data": {
      "text/html": [
       "<div>\n",
       "<table border=\"1\" class=\"dataframe\">\n",
       "  <thead>\n",
       "    <tr style=\"text-align: right;\">\n",
       "      <th></th>\n",
       "      <th>date</th>\n",
       "      <th>ticker</th>\n",
       "      <th>open</th>\n",
       "      <th>high</th>\n",
       "      <th>low</th>\n",
       "      <th>close</th>\n",
       "      <th>volume</th>\n",
       "      <th>ex-dividend</th>\n",
       "      <th>split_ratio</th>\n",
       "      <th>adj_open</th>\n",
       "      <th>adj_high</th>\n",
       "      <th>adj_low</th>\n",
       "      <th>adj_close</th>\n",
       "      <th>adj_volume</th>\n",
       "    </tr>\n",
       "  </thead>\n",
       "  <tbody>\n",
       "    <tr>\n",
       "      <th>0</th>\n",
       "      <td>1980-12-12</td>\n",
       "      <td>AAPL</td>\n",
       "      <td>28.75</td>\n",
       "      <td>28.87</td>\n",
       "      <td>28.75</td>\n",
       "      <td>28.75</td>\n",
       "      <td>2093900.0</td>\n",
       "      <td>0.0</td>\n",
       "      <td>1.0</td>\n",
       "      <td>0.426158</td>\n",
       "      <td>0.427937</td>\n",
       "      <td>0.426158</td>\n",
       "      <td>0.426158</td>\n",
       "      <td>117258400.0</td>\n",
       "    </tr>\n",
       "    <tr>\n",
       "      <th>1</th>\n",
       "      <td>1980-12-15</td>\n",
       "      <td>AAPL</td>\n",
       "      <td>27.38</td>\n",
       "      <td>27.38</td>\n",
       "      <td>27.25</td>\n",
       "      <td>27.25</td>\n",
       "      <td>785200.0</td>\n",
       "      <td>0.0</td>\n",
       "      <td>1.0</td>\n",
       "      <td>0.405851</td>\n",
       "      <td>0.405851</td>\n",
       "      <td>0.403924</td>\n",
       "      <td>0.403924</td>\n",
       "      <td>43971200.0</td>\n",
       "    </tr>\n",
       "    <tr>\n",
       "      <th>2</th>\n",
       "      <td>1980-12-16</td>\n",
       "      <td>AAPL</td>\n",
       "      <td>25.37</td>\n",
       "      <td>25.37</td>\n",
       "      <td>25.25</td>\n",
       "      <td>25.25</td>\n",
       "      <td>472000.0</td>\n",
       "      <td>0.0</td>\n",
       "      <td>1.0</td>\n",
       "      <td>0.376057</td>\n",
       "      <td>0.376057</td>\n",
       "      <td>0.374278</td>\n",
       "      <td>0.374278</td>\n",
       "      <td>26432000.0</td>\n",
       "    </tr>\n",
       "    <tr>\n",
       "      <th>3</th>\n",
       "      <td>1980-12-17</td>\n",
       "      <td>AAPL</td>\n",
       "      <td>25.87</td>\n",
       "      <td>26.00</td>\n",
       "      <td>25.87</td>\n",
       "      <td>25.87</td>\n",
       "      <td>385900.0</td>\n",
       "      <td>0.0</td>\n",
       "      <td>1.0</td>\n",
       "      <td>0.383468</td>\n",
       "      <td>0.385395</td>\n",
       "      <td>0.383468</td>\n",
       "      <td>0.383468</td>\n",
       "      <td>21610400.0</td>\n",
       "    </tr>\n",
       "    <tr>\n",
       "      <th>4</th>\n",
       "      <td>1980-12-18</td>\n",
       "      <td>AAPL</td>\n",
       "      <td>26.63</td>\n",
       "      <td>26.75</td>\n",
       "      <td>26.63</td>\n",
       "      <td>26.63</td>\n",
       "      <td>327900.0</td>\n",
       "      <td>0.0</td>\n",
       "      <td>1.0</td>\n",
       "      <td>0.394733</td>\n",
       "      <td>0.396512</td>\n",
       "      <td>0.394733</td>\n",
       "      <td>0.394733</td>\n",
       "      <td>18362400.0</td>\n",
       "    </tr>\n",
       "  </tbody>\n",
       "</table>\n",
       "</div>"
      ],
      "text/plain": [
       "         date ticker   open   high    low  close     volume  ex-dividend  \\\n",
       "0  1980-12-12   AAPL  28.75  28.87  28.75  28.75  2093900.0          0.0   \n",
       "1  1980-12-15   AAPL  27.38  27.38  27.25  27.25   785200.0          0.0   \n",
       "2  1980-12-16   AAPL  25.37  25.37  25.25  25.25   472000.0          0.0   \n",
       "3  1980-12-17   AAPL  25.87  26.00  25.87  25.87   385900.0          0.0   \n",
       "4  1980-12-18   AAPL  26.63  26.75  26.63  26.63   327900.0          0.0   \n",
       "\n",
       "   split_ratio  adj_open  adj_high   adj_low  adj_close   adj_volume  \n",
       "0          1.0  0.426158  0.427937  0.426158   0.426158  117258400.0  \n",
       "1          1.0  0.405851  0.405851  0.403924   0.403924   43971200.0  \n",
       "2          1.0  0.376057  0.376057  0.374278   0.374278   26432000.0  \n",
       "3          1.0  0.383468  0.385395  0.383468   0.383468   21610400.0  \n",
       "4          1.0  0.394733  0.396512  0.394733   0.394733   18362400.0  "
      ]
     },
     "execution_count": 7,
     "metadata": {},
     "output_type": "execute_result"
    }
   ],
   "source": [
    "aapl.head()"
   ]
  },
  {
   "cell_type": "markdown",
   "metadata": {
    "collapsed": true
   },
   "source": [
    "### Clean Up Data\n",
    "\n",
    "Now time to remove any unnecssary columns, set the date field as the index column, and get our data ready to engineer some features.  Here I wrote a module 'get_data.py', call the get_data function with the argument 'symbol' at least and it will return a cleaned up data frame.\n",
    "\n",
    "get_data.py is available in the GitHub repo"
   ]
  },
  {
   "cell_type": "code",
   "execution_count": 6,
   "metadata": {
    "collapsed": false
   },
   "outputs": [
    {
     "data": {
      "text/html": [
       "<div>\n",
       "<table border=\"1\" class=\"dataframe\">\n",
       "  <thead>\n",
       "    <tr style=\"text-align: right;\">\n",
       "      <th></th>\n",
       "      <th>open</th>\n",
       "      <th>high</th>\n",
       "      <th>low</th>\n",
       "      <th>close</th>\n",
       "      <th>volume</th>\n",
       "    </tr>\n",
       "    <tr>\n",
       "      <th>date</th>\n",
       "      <th></th>\n",
       "      <th></th>\n",
       "      <th></th>\n",
       "      <th></th>\n",
       "      <th></th>\n",
       "    </tr>\n",
       "  </thead>\n",
       "  <tbody>\n",
       "    <tr>\n",
       "      <th>1980-12-12</th>\n",
       "      <td>0.426158</td>\n",
       "      <td>0.427937</td>\n",
       "      <td>0.426158</td>\n",
       "      <td>0.426158</td>\n",
       "      <td>2093900.0</td>\n",
       "    </tr>\n",
       "    <tr>\n",
       "      <th>1980-12-15</th>\n",
       "      <td>0.405851</td>\n",
       "      <td>0.405851</td>\n",
       "      <td>0.403924</td>\n",
       "      <td>0.403924</td>\n",
       "      <td>785200.0</td>\n",
       "    </tr>\n",
       "    <tr>\n",
       "      <th>1980-12-16</th>\n",
       "      <td>0.376057</td>\n",
       "      <td>0.376057</td>\n",
       "      <td>0.374278</td>\n",
       "      <td>0.374278</td>\n",
       "      <td>472000.0</td>\n",
       "    </tr>\n",
       "    <tr>\n",
       "      <th>1980-12-17</th>\n",
       "      <td>0.383468</td>\n",
       "      <td>0.385395</td>\n",
       "      <td>0.383468</td>\n",
       "      <td>0.383468</td>\n",
       "      <td>385900.0</td>\n",
       "    </tr>\n",
       "    <tr>\n",
       "      <th>1980-12-18</th>\n",
       "      <td>0.394733</td>\n",
       "      <td>0.396512</td>\n",
       "      <td>0.394733</td>\n",
       "      <td>0.394733</td>\n",
       "      <td>327900.0</td>\n",
       "    </tr>\n",
       "  </tbody>\n",
       "</table>\n",
       "</div>"
      ],
      "text/plain": [
       "                open      high       low     close     volume\n",
       "date                                                         \n",
       "1980-12-12  0.426158  0.427937  0.426158  0.426158  2093900.0\n",
       "1980-12-15  0.405851  0.405851  0.403924  0.403924   785200.0\n",
       "1980-12-16  0.376057  0.376057  0.374278  0.374278   472000.0\n",
       "1980-12-17  0.383468  0.385395  0.383468  0.383468   385900.0\n",
       "1980-12-18  0.394733  0.396512  0.394733  0.394733   327900.0"
      ]
     },
     "execution_count": 6,
     "metadata": {},
     "output_type": "execute_result"
    }
   ],
   "source": [
    "from get_data import get_data\n",
    "\n",
    "aapl = get_data('aapl', with_features=False)\n",
    "aapl.head()"
   ]
  },
  {
   "cell_type": "markdown",
   "metadata": {},
   "source": [
    "So now as you can see the date is set as the index column.  The Adj open, high, low, close has replaced the nominal OHLC as this is what we will use.  Also dropped the columns not needed like split ratio and dividend.\n",
    "\n",
    "### Add Features\n",
    "\n",
    "The get_data module is where I engineer my features.\n",
    "\n",
    "This part of the project is where you can spend as much time as you want.  The feature engineering is really the core of getting good results with an ML algorithm.  For this initial attempt and for this write up I will highlight a few of the features I began with.\n",
    "\n",
    "Gap - % from yesterdays close to today's open  \n",
    "Day Return from Open - % move from today's open to today's close  \n",
    "Close as % of Bar - 1.0 meaning we closed at highs, 0.0 meaning closed a lows (0.5 close in middle of high/low range)  \n",
    "SMA - Simple Moving Average  \n",
    "ATR - Average True Range"
   ]
  },
  {
   "cell_type": "code",
   "execution_count": 7,
   "metadata": {
    "collapsed": true
   },
   "outputs": [],
   "source": [
    "#Get data, this time with features\n",
    "aapl = get_data('aapl', start_date='2010-01-01', with_features=True)"
   ]
  },
  {
   "cell_type": "code",
   "execution_count": 8,
   "metadata": {
    "collapsed": false
   },
   "outputs": [
    {
     "data": {
      "text/html": [
       "<div>\n",
       "<table border=\"1\" class=\"dataframe\">\n",
       "  <thead>\n",
       "    <tr style=\"text-align: right;\">\n",
       "      <th></th>\n",
       "      <th>open</th>\n",
       "      <th>high</th>\n",
       "      <th>low</th>\n",
       "      <th>close</th>\n",
       "      <th>volume</th>\n",
       "      <th>daily_ret</th>\n",
       "      <th>day_ret_from_open</th>\n",
       "      <th>gap</th>\n",
       "      <th>abs_gap</th>\n",
       "      <th>ATR1</th>\n",
       "      <th>ATRX</th>\n",
       "      <th>current_bar_bigger_than_avg</th>\n",
       "      <th>sma</th>\n",
       "      <th>close_above_sma</th>\n",
       "      <th>in_bar_range_1</th>\n",
       "      <th>in_bar_range_5</th>\n",
       "      <th>in_bar_range_20</th>\n",
       "    </tr>\n",
       "    <tr>\n",
       "      <th>date</th>\n",
       "      <th></th>\n",
       "      <th></th>\n",
       "      <th></th>\n",
       "      <th></th>\n",
       "      <th></th>\n",
       "      <th></th>\n",
       "      <th></th>\n",
       "      <th></th>\n",
       "      <th></th>\n",
       "      <th></th>\n",
       "      <th></th>\n",
       "      <th></th>\n",
       "      <th></th>\n",
       "      <th></th>\n",
       "      <th></th>\n",
       "      <th></th>\n",
       "      <th></th>\n",
       "    </tr>\n",
       "  </thead>\n",
       "  <tbody>\n",
       "    <tr>\n",
       "      <th>2010-01-04</th>\n",
       "      <td>27.652721</td>\n",
       "      <td>27.791354</td>\n",
       "      <td>27.516679</td>\n",
       "      <td>27.727867</td>\n",
       "      <td>17633200.0</td>\n",
       "      <td>1.555530</td>\n",
       "      <td>0.271752</td>\n",
       "      <td>1.280299</td>\n",
       "      <td>1.280299</td>\n",
       "      <td>0.274674</td>\n",
       "      <td>0.578183</td>\n",
       "      <td>0</td>\n",
       "      <td>25.870322</td>\n",
       "      <td>1</td>\n",
       "      <td>0.768868</td>\n",
       "      <td>0.920840</td>\n",
       "      <td>0.981022</td>\n",
       "    </tr>\n",
       "    <tr>\n",
       "      <th>2010-01-05</th>\n",
       "      <td>27.804310</td>\n",
       "      <td>27.932578</td>\n",
       "      <td>27.629399</td>\n",
       "      <td>27.775806</td>\n",
       "      <td>21496600.0</td>\n",
       "      <td>0.172889</td>\n",
       "      <td>-0.102516</td>\n",
       "      <td>0.275688</td>\n",
       "      <td>0.275688</td>\n",
       "      <td>0.303178</td>\n",
       "      <td>0.531152</td>\n",
       "      <td>0</td>\n",
       "      <td>25.894110</td>\n",
       "      <td>1</td>\n",
       "      <td>0.482906</td>\n",
       "      <td>0.833791</td>\n",
       "      <td>0.955035</td>\n",
       "    </tr>\n",
       "    <tr>\n",
       "      <th>2010-01-06</th>\n",
       "      <td>27.775806</td>\n",
       "      <td>27.885935</td>\n",
       "      <td>27.305491</td>\n",
       "      <td>27.333995</td>\n",
       "      <td>19720000.0</td>\n",
       "      <td>-1.590633</td>\n",
       "      <td>-1.590633</td>\n",
       "      <td>0.000000</td>\n",
       "      <td>0.000000</td>\n",
       "      <td>0.580444</td>\n",
       "      <td>0.527200</td>\n",
       "      <td>1</td>\n",
       "      <td>25.912327</td>\n",
       "      <td>1</td>\n",
       "      <td>0.049107</td>\n",
       "      <td>0.365385</td>\n",
       "      <td>0.828189</td>\n",
       "    </tr>\n",
       "    <tr>\n",
       "      <th>2010-01-07</th>\n",
       "      <td>27.435054</td>\n",
       "      <td>27.467445</td>\n",
       "      <td>27.085233</td>\n",
       "      <td>27.283465</td>\n",
       "      <td>17040400.0</td>\n",
       "      <td>-0.184860</td>\n",
       "      <td>-0.552538</td>\n",
       "      <td>0.369721</td>\n",
       "      <td>0.369721</td>\n",
       "      <td>0.382212</td>\n",
       "      <td>0.522665</td>\n",
       "      <td>0</td>\n",
       "      <td>25.933316</td>\n",
       "      <td>1</td>\n",
       "      <td>0.518644</td>\n",
       "      <td>0.233945</td>\n",
       "      <td>0.801820</td>\n",
       "    </tr>\n",
       "    <tr>\n",
       "      <th>2010-01-08</th>\n",
       "      <td>27.247187</td>\n",
       "      <td>27.467445</td>\n",
       "      <td>27.086529</td>\n",
       "      <td>27.464854</td>\n",
       "      <td>15986100.0</td>\n",
       "      <td>0.664830</td>\n",
       "      <td>0.798859</td>\n",
       "      <td>-0.132966</td>\n",
       "      <td>0.132966</td>\n",
       "      <td>0.380916</td>\n",
       "      <td>0.488007</td>\n",
       "      <td>0</td>\n",
       "      <td>25.971174</td>\n",
       "      <td>1</td>\n",
       "      <td>0.993197</td>\n",
       "      <td>0.448012</td>\n",
       "      <td>0.853192</td>\n",
       "    </tr>\n",
       "  </tbody>\n",
       "</table>\n",
       "</div>"
      ],
      "text/plain": [
       "                 open       high        low      close      volume  daily_ret  \\\n",
       "date                                                                            \n",
       "2010-01-04  27.652721  27.791354  27.516679  27.727867  17633200.0   1.555530   \n",
       "2010-01-05  27.804310  27.932578  27.629399  27.775806  21496600.0   0.172889   \n",
       "2010-01-06  27.775806  27.885935  27.305491  27.333995  19720000.0  -1.590633   \n",
       "2010-01-07  27.435054  27.467445  27.085233  27.283465  17040400.0  -0.184860   \n",
       "2010-01-08  27.247187  27.467445  27.086529  27.464854  15986100.0   0.664830   \n",
       "\n",
       "            day_ret_from_open       gap   abs_gap      ATR1      ATRX  \\\n",
       "date                                                                    \n",
       "2010-01-04           0.271752  1.280299  1.280299  0.274674  0.578183   \n",
       "2010-01-05          -0.102516  0.275688  0.275688  0.303178  0.531152   \n",
       "2010-01-06          -1.590633  0.000000  0.000000  0.580444  0.527200   \n",
       "2010-01-07          -0.552538  0.369721  0.369721  0.382212  0.522665   \n",
       "2010-01-08           0.798859 -0.132966  0.132966  0.380916  0.488007   \n",
       "\n",
       "            current_bar_bigger_than_avg        sma  close_above_sma  \\\n",
       "date                                                                  \n",
       "2010-01-04                            0  25.870322                1   \n",
       "2010-01-05                            0  25.894110                1   \n",
       "2010-01-06                            1  25.912327                1   \n",
       "2010-01-07                            0  25.933316                1   \n",
       "2010-01-08                            0  25.971174                1   \n",
       "\n",
       "            in_bar_range_1  in_bar_range_5  in_bar_range_20  \n",
       "date                                                         \n",
       "2010-01-04        0.768868        0.920840         0.981022  \n",
       "2010-01-05        0.482906        0.833791         0.955035  \n",
       "2010-01-06        0.049107        0.365385         0.828189  \n",
       "2010-01-07        0.518644        0.233945         0.801820  \n",
       "2010-01-08        0.993197        0.448012         0.853192  "
      ]
     },
     "execution_count": 8,
     "metadata": {},
     "output_type": "execute_result"
    }
   ],
   "source": [
    "aapl.head()"
   ]
  },
  {
   "cell_type": "markdown",
   "metadata": {},
   "source": [
    "It is a good idea to normalize the features relative to the stock and it's characteristics.  For example a raw price will not tell us much but a relative range (like the ATR) will be able to show if the stock has moved more than average and that could mean something.\n",
    "\n",
    "Try to create features that are can be normalized in this manner, and therefore can be applied and compared across other stocks too.  Things like ratio to avg true range, ratio to avg volume, price / SMA, etc."
   ]
  },
  {
   "cell_type": "markdown",
   "metadata": {},
   "source": [
    "### Build ML Model\n",
    "\n",
    "Time to build our first ML model.  This module is build_ml_model.py.  Now that we have our features we need to do a few things before we start training and testing a model.\n",
    "\n",
    "First need to decide and add the label column - what are we predicting?\n",
    "\n",
    "For this first run through here I decided I wanted to try to predict the next day's return.  (add_label_cols_to_df())\n",
    "\n",
    "After that we need to split our data into train and test sets.  Even though we will use cross-validation, its good to withhold some of the data in a test set for a final evaluation.\n",
    "\n",
    "After that's done, we can train and test a model."
   ]
  },
  {
   "cell_type": "code",
   "execution_count": 9,
   "metadata": {
    "collapsed": false
   },
   "outputs": [
    {
     "data": {
      "text/html": [
       "<div>\n",
       "<table border=\"1\" class=\"dataframe\">\n",
       "  <thead>\n",
       "    <tr style=\"text-align: right;\">\n",
       "      <th></th>\n",
       "      <th>open</th>\n",
       "      <th>high</th>\n",
       "      <th>low</th>\n",
       "      <th>close</th>\n",
       "      <th>volume</th>\n",
       "      <th>daily_ret</th>\n",
       "      <th>day_ret_from_open</th>\n",
       "      <th>gap</th>\n",
       "      <th>abs_gap</th>\n",
       "      <th>ATR1</th>\n",
       "      <th>ATRX</th>\n",
       "      <th>current_bar_bigger_than_avg</th>\n",
       "      <th>sma</th>\n",
       "      <th>close_above_sma</th>\n",
       "      <th>in_bar_range_1</th>\n",
       "      <th>in_bar_range_5</th>\n",
       "      <th>in_bar_range_20</th>\n",
       "      <th>next_day_return</th>\n",
       "      <th>next_day_direction</th>\n",
       "    </tr>\n",
       "    <tr>\n",
       "      <th>date</th>\n",
       "      <th></th>\n",
       "      <th></th>\n",
       "      <th></th>\n",
       "      <th></th>\n",
       "      <th></th>\n",
       "      <th></th>\n",
       "      <th></th>\n",
       "      <th></th>\n",
       "      <th></th>\n",
       "      <th></th>\n",
       "      <th></th>\n",
       "      <th></th>\n",
       "      <th></th>\n",
       "      <th></th>\n",
       "      <th></th>\n",
       "      <th></th>\n",
       "      <th></th>\n",
       "      <th></th>\n",
       "      <th></th>\n",
       "    </tr>\n",
       "  </thead>\n",
       "  <tbody>\n",
       "    <tr>\n",
       "      <th>2010-01-04</th>\n",
       "      <td>27.652721</td>\n",
       "      <td>27.791354</td>\n",
       "      <td>27.516679</td>\n",
       "      <td>27.727867</td>\n",
       "      <td>17633200.0</td>\n",
       "      <td>1.555530</td>\n",
       "      <td>0.271752</td>\n",
       "      <td>1.280299</td>\n",
       "      <td>1.280299</td>\n",
       "      <td>0.274674</td>\n",
       "      <td>0.578183</td>\n",
       "      <td>0</td>\n",
       "      <td>25.870322</td>\n",
       "      <td>1</td>\n",
       "      <td>0.768868</td>\n",
       "      <td>0.920840</td>\n",
       "      <td>0.981022</td>\n",
       "      <td>0.172889</td>\n",
       "      <td>0</td>\n",
       "    </tr>\n",
       "    <tr>\n",
       "      <th>2010-01-05</th>\n",
       "      <td>27.804310</td>\n",
       "      <td>27.932578</td>\n",
       "      <td>27.629399</td>\n",
       "      <td>27.775806</td>\n",
       "      <td>21496600.0</td>\n",
       "      <td>0.172889</td>\n",
       "      <td>-0.102516</td>\n",
       "      <td>0.275688</td>\n",
       "      <td>0.275688</td>\n",
       "      <td>0.303178</td>\n",
       "      <td>0.531152</td>\n",
       "      <td>0</td>\n",
       "      <td>25.894110</td>\n",
       "      <td>1</td>\n",
       "      <td>0.482906</td>\n",
       "      <td>0.833791</td>\n",
       "      <td>0.955035</td>\n",
       "      <td>-1.590633</td>\n",
       "      <td>-1</td>\n",
       "    </tr>\n",
       "    <tr>\n",
       "      <th>2010-01-06</th>\n",
       "      <td>27.775806</td>\n",
       "      <td>27.885935</td>\n",
       "      <td>27.305491</td>\n",
       "      <td>27.333995</td>\n",
       "      <td>19720000.0</td>\n",
       "      <td>-1.590633</td>\n",
       "      <td>-1.590633</td>\n",
       "      <td>0.000000</td>\n",
       "      <td>0.000000</td>\n",
       "      <td>0.580444</td>\n",
       "      <td>0.527200</td>\n",
       "      <td>1</td>\n",
       "      <td>25.912327</td>\n",
       "      <td>1</td>\n",
       "      <td>0.049107</td>\n",
       "      <td>0.365385</td>\n",
       "      <td>0.828189</td>\n",
       "      <td>-0.184860</td>\n",
       "      <td>0</td>\n",
       "    </tr>\n",
       "    <tr>\n",
       "      <th>2010-01-07</th>\n",
       "      <td>27.435054</td>\n",
       "      <td>27.467445</td>\n",
       "      <td>27.085233</td>\n",
       "      <td>27.283465</td>\n",
       "      <td>17040400.0</td>\n",
       "      <td>-0.184860</td>\n",
       "      <td>-0.552538</td>\n",
       "      <td>0.369721</td>\n",
       "      <td>0.369721</td>\n",
       "      <td>0.382212</td>\n",
       "      <td>0.522665</td>\n",
       "      <td>0</td>\n",
       "      <td>25.933316</td>\n",
       "      <td>1</td>\n",
       "      <td>0.518644</td>\n",
       "      <td>0.233945</td>\n",
       "      <td>0.801820</td>\n",
       "      <td>0.664830</td>\n",
       "      <td>0</td>\n",
       "    </tr>\n",
       "    <tr>\n",
       "      <th>2010-01-08</th>\n",
       "      <td>27.247187</td>\n",
       "      <td>27.467445</td>\n",
       "      <td>27.086529</td>\n",
       "      <td>27.464854</td>\n",
       "      <td>15986100.0</td>\n",
       "      <td>0.664830</td>\n",
       "      <td>0.798859</td>\n",
       "      <td>-0.132966</td>\n",
       "      <td>0.132966</td>\n",
       "      <td>0.380916</td>\n",
       "      <td>0.488007</td>\n",
       "      <td>0</td>\n",
       "      <td>25.971174</td>\n",
       "      <td>1</td>\n",
       "      <td>0.993197</td>\n",
       "      <td>0.448012</td>\n",
       "      <td>0.853192</td>\n",
       "      <td>-0.882159</td>\n",
       "      <td>-1</td>\n",
       "    </tr>\n",
       "  </tbody>\n",
       "</table>\n",
       "</div>"
      ],
      "text/plain": [
       "                 open       high        low      close      volume  daily_ret  \\\n",
       "date                                                                            \n",
       "2010-01-04  27.652721  27.791354  27.516679  27.727867  17633200.0   1.555530   \n",
       "2010-01-05  27.804310  27.932578  27.629399  27.775806  21496600.0   0.172889   \n",
       "2010-01-06  27.775806  27.885935  27.305491  27.333995  19720000.0  -1.590633   \n",
       "2010-01-07  27.435054  27.467445  27.085233  27.283465  17040400.0  -0.184860   \n",
       "2010-01-08  27.247187  27.467445  27.086529  27.464854  15986100.0   0.664830   \n",
       "\n",
       "            day_ret_from_open       gap   abs_gap      ATR1      ATRX  \\\n",
       "date                                                                    \n",
       "2010-01-04           0.271752  1.280299  1.280299  0.274674  0.578183   \n",
       "2010-01-05          -0.102516  0.275688  0.275688  0.303178  0.531152   \n",
       "2010-01-06          -1.590633  0.000000  0.000000  0.580444  0.527200   \n",
       "2010-01-07          -0.552538  0.369721  0.369721  0.382212  0.522665   \n",
       "2010-01-08           0.798859 -0.132966  0.132966  0.380916  0.488007   \n",
       "\n",
       "            current_bar_bigger_than_avg        sma  close_above_sma  \\\n",
       "date                                                                  \n",
       "2010-01-04                            0  25.870322                1   \n",
       "2010-01-05                            0  25.894110                1   \n",
       "2010-01-06                            1  25.912327                1   \n",
       "2010-01-07                            0  25.933316                1   \n",
       "2010-01-08                            0  25.971174                1   \n",
       "\n",
       "            in_bar_range_1  in_bar_range_5  in_bar_range_20  next_day_return  \\\n",
       "date                                                                           \n",
       "2010-01-04        0.768868        0.920840         0.981022         0.172889   \n",
       "2010-01-05        0.482906        0.833791         0.955035        -1.590633   \n",
       "2010-01-06        0.049107        0.365385         0.828189        -0.184860   \n",
       "2010-01-07        0.518644        0.233945         0.801820         0.664830   \n",
       "2010-01-08        0.993197        0.448012         0.853192        -0.882159   \n",
       "\n",
       "            next_day_direction  \n",
       "date                            \n",
       "2010-01-04                   0  \n",
       "2010-01-05                  -1  \n",
       "2010-01-06                   0  \n",
       "2010-01-07                   0  \n",
       "2010-01-08                  -1  "
      ]
     },
     "execution_count": 9,
     "metadata": {},
     "output_type": "execute_result"
    }
   ],
   "source": [
    "import build_ml_model as bml\n",
    "\n",
    "#Add label columns to dataset\n",
    "aapl = bml.add_label_cols_to_df(aapl)\n",
    "#Notice two new columns - 'next_day_return' and 'next_day_direction'\n",
    "aapl.head()"
   ]
  },
  {
   "cell_type": "code",
   "execution_count": 11,
   "metadata": {
    "collapsed": true
   },
   "outputs": [],
   "source": [
    "#Choose which columns for features and label\n",
    "FEATURE_LIST = ['day_ret_from_open', 'gap', 'abs_gap', 'ATR1', 'ATRX',\n",
    "                'current_bar_bigger_than_avg', 'close_above_sma', \n",
    "                'in_bar_range_1', 'in_bar_range_5', 'in_bar_range_20']\n",
    "\n",
    "LABEL_COL = ['next_day_direction']"
   ]
  },
  {
   "cell_type": "code",
   "execution_count": 14,
   "metadata": {
    "collapsed": false
   },
   "outputs": [],
   "source": [
    "#Now split the data\n",
    "X_train, X_test, Y_train, Y_test, X_backtest = bml.get_train_and_test_sets(aapl, feature_cols=FEATURE_LIST, label_col=LABEL_COL)"
   ]
  },
  {
   "cell_type": "markdown",
   "metadata": {},
   "source": [
    "### Run Cross-Validation\n",
    "\n",
    "To avoid overfitting we can play around with our ML model on the training set and still get an accurate idea of how it is doing by using cross-validation.  It is important that we used a time series cross validation here."
   ]
  },
  {
   "cell_type": "code",
   "execution_count": 15,
   "metadata": {
    "collapsed": false
   },
   "outputs": [
    {
     "name": "stderr",
     "output_type": "stream",
     "text": [
      "C:\\ProgramData\\Anaconda2\\lib\\site-packages\\sklearn\\model_selection\\_validation.py:238: DataConversionWarning: A column-vector y was passed when a 1d array was expected. Please change the shape of y to (n_samples,), for example using ravel().\n",
      "  estimator.fit(X_train, y_train, **fit_params)\n"
     ]
    },
    {
     "name": "stdout",
     "output_type": "stream",
     "text": [
      "Avg. Score: 0.397196261682\n",
      "Min Score: 0.331775700935\n",
      "Max Score: 0.46261682243\n"
     ]
    },
    {
     "data": {
      "text/plain": [
       "array([ 0.42523364,  0.35046729,  0.3317757 ,  0.41588785,  0.46261682])"
      ]
     },
     "execution_count": 15,
     "metadata": {},
     "output_type": "execute_result"
    }
   ],
   "source": [
    "from sklearn.ensemble import RandomForestClassifier\n",
    "\n",
    "#Initiate ML learner\n",
    "clf = RandomForestClassifier(n_estimators=100, min_samples_leaf=50)\n",
    "bml.run_time_series_cross_validation(clf, X_train, Y_train)"
   ]
  },
  {
   "cell_type": "markdown",
   "metadata": {},
   "source": [
    "Not bad, average almost 40% accuracy in predicting next day direction.  It should be noted that next day direction as I coded into build_ml_model.py is one of three states:\n",
    "\n",
    "Go Long == 1 == Next Day Return > 0.75%   \n",
    "Go Short == -1 == Next Day Return < (0.75%)  \n",
    "Stay Flat == 0 === Next Day Return between (0.75%) and 0.75%\n",
    "\n",
    "So a 40% accuracy in predicting whether to stay flat, go long, or go short is a pretty good start with these as our classes."
   ]
  },
  {
   "cell_type": "markdown",
   "metadata": {},
   "source": [
    "### Train and Test ML Model\n",
    "\n",
    "Now let's actual build a model to test on our out of sample data."
   ]
  },
  {
   "cell_type": "code",
   "execution_count": 36,
   "metadata": {
    "collapsed": false
   },
   "outputs": [
    {
     "name": "stderr",
     "output_type": "stream",
     "text": [
      "C:\\ProgramData\\Anaconda2\\lib\\site-packages\\ipykernel\\__main__.py:6: DataConversionWarning: A column-vector y was passed when a 1d array was expected. Please change the shape of y to (n_samples,), for example using ravel().\n"
     ]
    },
    {
     "name": "stdout",
     "output_type": "stream",
     "text": [
      "Model Accuracy: 0.481012658228\n"
     ]
    }
   ],
   "source": [
    "from sklearn.metrics import accuracy_score\n",
    "\n",
    "#Instantiate model\n",
    "clf = RandomForestClassifier(n_estimators=100, min_samples_leaf=50)\n",
    "#Train model\n",
    "clf.fit(X_train, Y_train)\n",
    "#Get predictions - aka test model\n",
    "predictions = clf.predict(X_test)\n",
    "score = accuracy_score(Y_test, predictions)\n",
    "print \"Model Accuracy: \" + str(score)"
   ]
  },
  {
   "cell_type": "markdown",
   "metadata": {},
   "source": [
    "So our out of sample performed better in this test with 48% accuracy.  Now this is a red flag as generally speaking out of sample shouldn't be performing better.  One thing to note is that n_estimators=100 is kind of low.  This can introduce all sorts of randomness in this RandomForest and not really give us a clear answer.  I kept it at 100 for the purpose of this notebook to keep things running faster.  This model should probably have between 1000-10000 trees in the random forest.\n",
    "\n",
    "### Backtest\n",
    "\n",
    "Now to get an idea of how well this model would hypothetically perform had we traded it at the closing price given the signal for tomorrow I quickly wrote backtester.py.  This assumes we have 0 slippage and commission, and that we can get the day's closing price.  This is a bit of a look ahead bias but there are order types which allow for getting the closing price (Market On Close), however the day is still trading so technically we'd be estimating all the features with 1 minute to go in the day and have 30 seconds to get our MOC orders in (I believe some MOC types can be sent up to 3:59:30pm).  So it is kind of possible to trade this on the close but there are a lot of assumptions going in our favor.  So this backtest.py is very, very optimistic and all sorts of costs need to be added to this backtest model to make it more realistic."
   ]
  },
  {
   "cell_type": "code",
   "execution_count": 39,
   "metadata": {
    "collapsed": false
   },
   "outputs": [],
   "source": [
    "import backtester as bt\n",
    "\n",
    "#Add predictions to backtest df\n",
    "X_backtest.loc[:,'predictions'] = predictions"
   ]
  },
  {
   "cell_type": "code",
   "execution_count": 41,
   "metadata": {
    "collapsed": false
   },
   "outputs": [
    {
     "name": "stdout",
     "output_type": "stream",
     "text": [
      "128\n",
      "553\n",
      " 0    425\n",
      " 1     82\n",
      "-1     46\n",
      "Name: predictions, dtype: int64\n",
      "TotalReturn:3.716688  #Trades:128  ReturnPerTrade:0.029037 \n"
     ]
    },
    {
     "name": "stderr",
     "output_type": "stream",
     "text": [
      "backtester.py:26: SettingWithCopyWarning: \n",
      "A value is trying to be set on a copy of a slice from a DataFrame.\n",
      "Try using .loc[row_indexer,col_indexer] = value instead\n",
      "\n",
      "See the caveats in the documentation: http://pandas.pydata.org/pandas-docs/stable/indexing.html#indexing-view-versus-copy\n",
      "  df['trade_return'] = df['predictions'] * df['next_day_return']\n"
     ]
    }
   ],
   "source": [
    "bt.get_total_return(X_backtest)"
   ]
  },
  {
   "cell_type": "markdown",
   "metadata": {},
   "source": [
    "### Conclusion\n",
    "\n",
    "Our simple model here predicted 128 different trades since 2010.  These results will fluctuate wildly with each 100 tree random forest as there is a lot of variance with so few estimators.  I intend to add more features, play around with different labels, and try different ML models.  However, this project illustrates the overall process and work flow for building an ML model to predict trading results"
   ]
  },
  {
   "cell_type": "markdown",
   "metadata": {},
   "source": [
    "### Next Steps\n",
    "\n",
    "Here are some future ideas to explore:\n",
    "\n",
    "##### New Features\n",
    "-Volume vs Avg Volume as bool, as ratio  \n",
    "-Close/SMA ratio - indicate magnitude from SMA  \n",
    "-Earnings Calendar - bool cool for is first day after earnings  \n",
    "\n",
    "##### Different Labels\n",
    "-Predict regression for next day's return, next 2-10 day's return  \n",
    "-Predict class probabilities and raise threshold of minimum probability for entering a trade  \n",
    "\n",
    "##### Other ML Approaches\n",
    "-Regression prediction instead of classification  \n",
    "-Other algorithms - XGB, SVM, NN  \n",
    "-Build an ensemble of various learners  "
   ]
  },
  {
   "cell_type": "code",
   "execution_count": null,
   "metadata": {
    "collapsed": true
   },
   "outputs": [],
   "source": []
  }
 ],
 "metadata": {
  "kernelspec": {
   "display_name": "Python 2",
   "language": "python",
   "name": "python2"
  },
  "language_info": {
   "codemirror_mode": {
    "name": "ipython",
    "version": 2
   },
   "file_extension": ".py",
   "mimetype": "text/x-python",
   "name": "python",
   "nbconvert_exporter": "python",
   "pygments_lexer": "ipython2",
   "version": "2.7.13"
  }
 },
 "nbformat": 4,
 "nbformat_minor": 2
}
