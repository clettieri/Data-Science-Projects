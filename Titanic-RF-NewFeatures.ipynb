{
 "cells": [
  {
   "cell_type": "markdown",
   "metadata": {},
   "source": [
    "# Titanic: Machine Learning from Disaster\n",
    "\n",
    "url = https://www.kaggle.com/c/titanic\n",
    "\n",
    "In this notebook I am going to explore some engineered features and use a Random Forest to make my predictions.\n",
    "\n",
    "A lot of these features were heavily inspired from this awesome notebook:\n",
    "https://www.kaggle.com/omanekodie/titanic/titanic-random-forest-82-78/notebook\n",
    "\n",
    "### Understanding the Question\n",
    "\n",
    "Given certain characteristics of each passenger can we predict if they survived the sinking or not?\n",
    "The titanic data set contains 10 different x values we can use to make predictions.  Our y values are binary with 1 being they survived, and 0 being that they did not survive.  \n",
    "\n",
    "This is therefore a supervised classification problem.\n",
    "\n",
    "### Getting Started\n",
    "\n",
    "The data is available from Kaggle at https://www.kaggle.com/c/titanic/data.  The train.csv is what we will use to build our model as it contains both the features and labels.  The test.csv contains the features only and we must predict these labels to submit to the Kaggle competition."
   ]
  },
  {
   "cell_type": "code",
   "execution_count": 5,
   "metadata": {
    "collapsed": true
   },
   "outputs": [],
   "source": [
    "import pandas as pd\n",
    "import numpy as np\n",
    "\n",
    "\n",
    "train_df = pd.read_csv('train.csv')\n",
    "test_df = pd.read_csv('test.csv')"
   ]
  },
  {
   "cell_type": "code",
   "execution_count": 9,
   "metadata": {
    "collapsed": false
   },
   "outputs": [
    {
     "data": {
      "text/plain": [
       "'Mrs.'"
      ]
     },
     "execution_count": 9,
     "metadata": {},
     "output_type": "execute_result"
    }
   ],
   "source": [
    "def get_title(name):\n",
    "    '''(string) -> string\n",
    "    \n",
    "    Given a name from dataframe, return the Title\n",
    "    '''\n",
    "    comma_list = name.split(\",\")\n",
    "    front_part_of_name = comma_list[1].split()\n",
    "    return front_part_of_name[0]\n",
    "\n",
    "#Test Function\n",
    "get_title('Beckwith, Mrs. Richard Leonard (Sallie Monypeny)')"
   ]
  },
  {
   "cell_type": "code",
   "execution_count": 19,
   "metadata": {
    "collapsed": false
   },
   "outputs": [
    {
     "data": {
      "text/html": [
       "<div>\n",
       "<table border=\"1\" class=\"dataframe\">\n",
       "  <thead>\n",
       "    <tr style=\"text-align: right;\">\n",
       "      <th></th>\n",
       "      <th>PassengerId</th>\n",
       "      <th>Survived</th>\n",
       "      <th>Pclass</th>\n",
       "      <th>Name</th>\n",
       "      <th>Sex</th>\n",
       "      <th>Age</th>\n",
       "      <th>SibSp</th>\n",
       "      <th>Parch</th>\n",
       "      <th>Ticket</th>\n",
       "      <th>Fare</th>\n",
       "      <th>Cabin</th>\n",
       "      <th>Embarked</th>\n",
       "      <th>FamilySize</th>\n",
       "      <th>Title</th>\n",
       "      <th>NameLength</th>\n",
       "      <th>TicketFirstChar</th>\n",
       "    </tr>\n",
       "  </thead>\n",
       "  <tbody>\n",
       "    <tr>\n",
       "      <th>0</th>\n",
       "      <td>1</td>\n",
       "      <td>0</td>\n",
       "      <td>3</td>\n",
       "      <td>Braund, Mr. Owen Harris</td>\n",
       "      <td>male</td>\n",
       "      <td>22.0</td>\n",
       "      <td>1</td>\n",
       "      <td>0</td>\n",
       "      <td>A/5 21171</td>\n",
       "      <td>7.2500</td>\n",
       "      <td>NaN</td>\n",
       "      <td>S</td>\n",
       "      <td>1</td>\n",
       "      <td>Mr.</td>\n",
       "      <td>23</td>\n",
       "      <td>A</td>\n",
       "    </tr>\n",
       "    <tr>\n",
       "      <th>1</th>\n",
       "      <td>2</td>\n",
       "      <td>1</td>\n",
       "      <td>1</td>\n",
       "      <td>Cumings, Mrs. John Bradley (Florence Briggs Th...</td>\n",
       "      <td>female</td>\n",
       "      <td>38.0</td>\n",
       "      <td>1</td>\n",
       "      <td>0</td>\n",
       "      <td>PC 17599</td>\n",
       "      <td>71.2833</td>\n",
       "      <td>C85</td>\n",
       "      <td>C</td>\n",
       "      <td>1</td>\n",
       "      <td>Mrs.</td>\n",
       "      <td>51</td>\n",
       "      <td>P</td>\n",
       "    </tr>\n",
       "    <tr>\n",
       "      <th>2</th>\n",
       "      <td>3</td>\n",
       "      <td>1</td>\n",
       "      <td>3</td>\n",
       "      <td>Heikkinen, Miss. Laina</td>\n",
       "      <td>female</td>\n",
       "      <td>26.0</td>\n",
       "      <td>0</td>\n",
       "      <td>0</td>\n",
       "      <td>STON/O2. 3101282</td>\n",
       "      <td>7.9250</td>\n",
       "      <td>NaN</td>\n",
       "      <td>S</td>\n",
       "      <td>0</td>\n",
       "      <td>Miss.</td>\n",
       "      <td>22</td>\n",
       "      <td>S</td>\n",
       "    </tr>\n",
       "    <tr>\n",
       "      <th>3</th>\n",
       "      <td>4</td>\n",
       "      <td>1</td>\n",
       "      <td>1</td>\n",
       "      <td>Futrelle, Mrs. Jacques Heath (Lily May Peel)</td>\n",
       "      <td>female</td>\n",
       "      <td>35.0</td>\n",
       "      <td>1</td>\n",
       "      <td>0</td>\n",
       "      <td>113803</td>\n",
       "      <td>53.1000</td>\n",
       "      <td>C123</td>\n",
       "      <td>S</td>\n",
       "      <td>1</td>\n",
       "      <td>Mrs.</td>\n",
       "      <td>44</td>\n",
       "      <td>1</td>\n",
       "    </tr>\n",
       "    <tr>\n",
       "      <th>4</th>\n",
       "      <td>5</td>\n",
       "      <td>0</td>\n",
       "      <td>3</td>\n",
       "      <td>Allen, Mr. William Henry</td>\n",
       "      <td>male</td>\n",
       "      <td>35.0</td>\n",
       "      <td>0</td>\n",
       "      <td>0</td>\n",
       "      <td>373450</td>\n",
       "      <td>8.0500</td>\n",
       "      <td>NaN</td>\n",
       "      <td>S</td>\n",
       "      <td>0</td>\n",
       "      <td>Mr.</td>\n",
       "      <td>24</td>\n",
       "      <td>3</td>\n",
       "    </tr>\n",
       "  </tbody>\n",
       "</table>\n",
       "</div>"
      ],
      "text/plain": [
       "   PassengerId  Survived  Pclass  \\\n",
       "0            1         0       3   \n",
       "1            2         1       1   \n",
       "2            3         1       3   \n",
       "3            4         1       1   \n",
       "4            5         0       3   \n",
       "\n",
       "                                                Name     Sex   Age  SibSp  \\\n",
       "0                            Braund, Mr. Owen Harris    male  22.0      1   \n",
       "1  Cumings, Mrs. John Bradley (Florence Briggs Th...  female  38.0      1   \n",
       "2                             Heikkinen, Miss. Laina  female  26.0      0   \n",
       "3       Futrelle, Mrs. Jacques Heath (Lily May Peel)  female  35.0      1   \n",
       "4                           Allen, Mr. William Henry    male  35.0      0   \n",
       "\n",
       "   Parch            Ticket     Fare Cabin Embarked  FamilySize  Title  \\\n",
       "0      0         A/5 21171   7.2500   NaN        S           1    Mr.   \n",
       "1      0          PC 17599  71.2833   C85        C           1   Mrs.   \n",
       "2      0  STON/O2. 3101282   7.9250   NaN        S           0  Miss.   \n",
       "3      0            113803  53.1000  C123        S           1   Mrs.   \n",
       "4      0            373450   8.0500   NaN        S           0    Mr.   \n",
       "\n",
       "   NameLength TicketFirstChar  \n",
       "0          23               A  \n",
       "1          51               P  \n",
       "2          22               S  \n",
       "3          44               1  \n",
       "4          24               3  "
      ]
     },
     "execution_count": 19,
     "metadata": {},
     "output_type": "execute_result"
    }
   ],
   "source": [
    "#Engineer Features\n",
    "def add_features(df):\n",
    "    #Family Size\n",
    "    df['FamilySize'] = df['Parch'] + df['SibSp']\n",
    "    #Title\n",
    "    df['Title'] = df['Name'].apply(lambda x: get_title(x))\n",
    "    #Length of Name\n",
    "    df['NameLength'] = df['Name'].apply(lambda x: len(x))\n",
    "    #First Letter of Ticket\n",
    "    df['TicketFirstChar'] = df['Ticket'].apply(lambda x: str(x)[0])\n",
    "    return df\n",
    "\n",
    "train_df = add_features(train_df)\n",
    "test_df = add_features(test_df)\n",
    "\n",
    "train_df.head()"
   ]
  },
  {
   "cell_type": "code",
   "execution_count": 13,
   "metadata": {
    "collapsed": false
   },
   "outputs": [
    {
     "data": {
      "text/plain": [
       "Title\n",
       "Capt.        0.000000\n",
       "Col.         0.500000\n",
       "Don.         0.000000\n",
       "Dr.          0.428571\n",
       "Jonkheer.    0.000000\n",
       "Lady.        1.000000\n",
       "Major.       0.500000\n",
       "Master.      0.575000\n",
       "Miss.        0.697802\n",
       "Mlle.        1.000000\n",
       "Mme.         1.000000\n",
       "Mr.          0.156673\n",
       "Mrs.         0.792000\n",
       "Ms.          1.000000\n",
       "Rev.         0.000000\n",
       "Sir.         1.000000\n",
       "the          1.000000\n",
       "Name: Survived, dtype: float64"
      ]
     },
     "execution_count": 13,
     "metadata": {},
     "output_type": "execute_result"
    }
   ],
   "source": [
    "#Look at Survival rate by Title\n",
    "train_df['Survived'].groupby(train_df['Title']).mean()"
   ]
  },
  {
   "cell_type": "code",
   "execution_count": 14,
   "metadata": {
    "collapsed": false
   },
   "outputs": [
    {
     "data": {
      "text/plain": [
       "FamilySize\n",
       "0     0.303538\n",
       "1     0.552795\n",
       "2     0.578431\n",
       "3     0.724138\n",
       "4     0.200000\n",
       "5     0.136364\n",
       "6     0.333333\n",
       "7     0.000000\n",
       "10    0.000000\n",
       "Name: Survived, dtype: float64"
      ]
     },
     "execution_count": 14,
     "metadata": {},
     "output_type": "execute_result"
    }
   ],
   "source": [
    "#Look at Survival rate by Family Size\n",
    "train_df['Survived'].groupby(train_df['FamilySize']).mean()"
   ]
  },
  {
   "cell_type": "code",
   "execution_count": 24,
   "metadata": {
    "collapsed": false
   },
   "outputs": [
    {
     "data": {
      "text/plain": [
       "NameLength\n",
       "[12, 19]    0.220588\n",
       "(19, 23]    0.301282\n",
       "(23, 27]    0.319797\n",
       "(27, 32]    0.442424\n",
       "(32, 82]    0.674556\n",
       "Name: Survived, dtype: float64"
      ]
     },
     "execution_count": 24,
     "metadata": {},
     "output_type": "execute_result"
    }
   ],
   "source": [
    "#Look at Survival rate by NameLength\n",
    "#pd.qcut(series, # of bins to split series)\n",
    "train_df['Survived'].groupby(pd.qcut(train_df['NameLength'], 5)).mean()"
   ]
  },
  {
   "cell_type": "code",
   "execution_count": 25,
   "metadata": {
    "collapsed": false
   },
   "outputs": [
    {
     "data": {
      "text/plain": [
       "TicketFirstChar\n",
       "1    0.630137\n",
       "2    0.464481\n",
       "3    0.239203\n",
       "4    0.200000\n",
       "5    0.000000\n",
       "6    0.166667\n",
       "7    0.111111\n",
       "8    0.000000\n",
       "9    1.000000\n",
       "A    0.068966\n",
       "C    0.340426\n",
       "F    0.571429\n",
       "L    0.250000\n",
       "P    0.646154\n",
       "S    0.323077\n",
       "W    0.153846\n",
       "Name: Survived, dtype: float64"
      ]
     },
     "execution_count": 25,
     "metadata": {},
     "output_type": "execute_result"
    }
   ],
   "source": [
    "#Look at Survival rate by Ticket First Letter\n",
    "train_df['Survived'].groupby(train_df['TicketFirstChar']).mean()"
   ]
  },
  {
   "cell_type": "markdown",
   "metadata": {},
   "source": [
    "### Prepare Data for ML\n",
    "\n",
    "Now that I am happy with these new features (they all seem to add value), it is time to convert all data to numerical and fill in missing values."
   ]
  },
  {
   "cell_type": "code",
   "execution_count": 27,
   "metadata": {
    "collapsed": false
   },
   "outputs": [
    {
     "name": "stdout",
     "output_type": "stream",
     "text": [
      "<class 'pandas.core.frame.DataFrame'>\n",
      "RangeIndex: 891 entries, 0 to 890\n",
      "Data columns (total 9 columns):\n",
      "Pclass             891 non-null int64\n",
      "Sex                891 non-null object\n",
      "Age                714 non-null float64\n",
      "Fare               891 non-null float64\n",
      "Embarked           889 non-null object\n",
      "FamilySize         891 non-null int64\n",
      "Title              891 non-null object\n",
      "NameLength         891 non-null int64\n",
      "TicketFirstChar    891 non-null object\n",
      "dtypes: float64(2), int64(3), object(4)\n",
      "memory usage: 62.7+ KB\n"
     ]
    }
   ],
   "source": [
    "#Features To Use\n",
    "feature_cols = ['Pclass', 'Sex', 'Age', 'Fare', 'Embarked', 'FamilySize', 'Title', 'NameLength', 'TicketFirstChar']\n",
    "train_df[feature_cols].info()"
   ]
  },
  {
   "cell_type": "code",
   "execution_count": 29,
   "metadata": {
    "collapsed": false
   },
   "outputs": [
    {
     "name": "stdout",
     "output_type": "stream",
     "text": [
      "<class 'pandas.core.frame.DataFrame'>\n",
      "RangeIndex: 418 entries, 0 to 417\n",
      "Data columns (total 9 columns):\n",
      "Pclass             418 non-null int64\n",
      "Sex                418 non-null object\n",
      "Age                332 non-null float64\n",
      "Fare               417 non-null float64\n",
      "Embarked           418 non-null object\n",
      "FamilySize         418 non-null int64\n",
      "Title              418 non-null object\n",
      "NameLength         418 non-null int64\n",
      "TicketFirstChar    418 non-null object\n",
      "dtypes: float64(2), int64(3), object(4)\n",
      "memory usage: 29.5+ KB\n"
     ]
    }
   ],
   "source": [
    "test_df[feature_cols].info()"
   ]
  },
  {
   "cell_type": "code",
   "execution_count": 60,
   "metadata": {
    "collapsed": false
   },
   "outputs": [
    {
     "name": "stdout",
     "output_type": "stream",
     "text": [
      "28.0\n",
      "Pclass             0\n",
      "Sex                0\n",
      "Age                0\n",
      "Fare               0\n",
      "Embarked           0\n",
      "FamilySize         0\n",
      "Title              0\n",
      "NameLength         0\n",
      "TicketFirstChar    0\n",
      "dtype: int64\n",
      "Pclass             0\n",
      "Sex                0\n",
      "Age                0\n",
      "Fare               0\n",
      "Embarked           0\n",
      "FamilySize         0\n",
      "Title              0\n",
      "NameLength         0\n",
      "TicketFirstChar    0\n",
      "dtype: int64\n"
     ]
    }
   ],
   "source": [
    "#Fill in NaN's -train & test\n",
    "#Fill using Median age from both test and train sets\n",
    "merged_age = train_df['Age'].append(test_df['Age'])\n",
    "median_age = merged_age.median()\n",
    "print median_age\n",
    "train_df['Age'].fillna(median_age, inplace=True)\n",
    "test_df['Age'].fillna(median_age, inplace=True)\n",
    "#Fill using mode of Embarked\n",
    "train_df['Embarked'].fillna('S', inplace=True) \n",
    "#Fill using median Fare\n",
    "test_df['Fare'].fillna(train_df['Fare'].median(), inplace=True)\n",
    "\n",
    "print train_df[feature_cols].isnull().sum()\n",
    "print test_df[feature_cols].isnull().sum()"
   ]
  },
  {
   "cell_type": "code",
   "execution_count": 61,
   "metadata": {
    "collapsed": false
   },
   "outputs": [
    {
     "data": {
      "text/html": [
       "<div>\n",
       "<table border=\"1\" class=\"dataframe\">\n",
       "  <thead>\n",
       "    <tr style=\"text-align: right;\">\n",
       "      <th></th>\n",
       "      <th>Pclass</th>\n",
       "      <th>Sex</th>\n",
       "      <th>Age</th>\n",
       "      <th>Fare</th>\n",
       "      <th>Embarked</th>\n",
       "      <th>FamilySize</th>\n",
       "      <th>Title</th>\n",
       "      <th>NameLength</th>\n",
       "      <th>TicketFirstChar</th>\n",
       "    </tr>\n",
       "  </thead>\n",
       "  <tbody>\n",
       "    <tr>\n",
       "      <th>0</th>\n",
       "      <td>3</td>\n",
       "      <td>1</td>\n",
       "      <td>22.0</td>\n",
       "      <td>7.2500</td>\n",
       "      <td>2</td>\n",
       "      <td>1</td>\n",
       "      <td>12</td>\n",
       "      <td>23</td>\n",
       "      <td>9</td>\n",
       "    </tr>\n",
       "    <tr>\n",
       "      <th>1</th>\n",
       "      <td>1</td>\n",
       "      <td>0</td>\n",
       "      <td>38.0</td>\n",
       "      <td>71.2833</td>\n",
       "      <td>0</td>\n",
       "      <td>1</td>\n",
       "      <td>13</td>\n",
       "      <td>51</td>\n",
       "      <td>13</td>\n",
       "    </tr>\n",
       "    <tr>\n",
       "      <th>2</th>\n",
       "      <td>3</td>\n",
       "      <td>0</td>\n",
       "      <td>26.0</td>\n",
       "      <td>7.9250</td>\n",
       "      <td>2</td>\n",
       "      <td>0</td>\n",
       "      <td>9</td>\n",
       "      <td>22</td>\n",
       "      <td>14</td>\n",
       "    </tr>\n",
       "    <tr>\n",
       "      <th>3</th>\n",
       "      <td>1</td>\n",
       "      <td>0</td>\n",
       "      <td>35.0</td>\n",
       "      <td>53.1000</td>\n",
       "      <td>2</td>\n",
       "      <td>1</td>\n",
       "      <td>13</td>\n",
       "      <td>44</td>\n",
       "      <td>0</td>\n",
       "    </tr>\n",
       "    <tr>\n",
       "      <th>4</th>\n",
       "      <td>3</td>\n",
       "      <td>1</td>\n",
       "      <td>35.0</td>\n",
       "      <td>8.0500</td>\n",
       "      <td>2</td>\n",
       "      <td>0</td>\n",
       "      <td>12</td>\n",
       "      <td>24</td>\n",
       "      <td>2</td>\n",
       "    </tr>\n",
       "  </tbody>\n",
       "</table>\n",
       "</div>"
      ],
      "text/plain": [
       "   Pclass  Sex   Age     Fare  Embarked  FamilySize  Title  NameLength  \\\n",
       "0       3    1  22.0   7.2500         2           1     12          23   \n",
       "1       1    0  38.0  71.2833         0           1     13          51   \n",
       "2       3    0  26.0   7.9250         2           0      9          22   \n",
       "3       1    0  35.0  53.1000         2           1     13          44   \n",
       "4       3    1  35.0   8.0500         2           0     12          24   \n",
       "\n",
       "   TicketFirstChar  \n",
       "0                9  \n",
       "1               13  \n",
       "2               14  \n",
       "3                0  \n",
       "4                2  "
      ]
     },
     "execution_count": 61,
     "metadata": {},
     "output_type": "execute_result"
    }
   ],
   "source": [
    "#Encode all data to numerical\n",
    "from sklearn.preprocessing import LabelEncoder\n",
    "\n",
    "cols_to_encode = ['Sex', 'Embarked', 'Title', 'TicketFirstChar']\n",
    "for col in cols_to_encode:\n",
    "    le = LabelEncoder()\n",
    "    #Merge test and train set to fit label encoder\n",
    "    merged = train_df[col].append(test_df[col])\n",
    "    le.fit(merged)\n",
    "    #Transform\n",
    "    train_df[col] = le.transform(train_df[col])\n",
    "    test_df[col] = le.transform(test_df[col])\n",
    "    \n",
    "train_df[feature_cols].head()"
   ]
  },
  {
   "cell_type": "code",
   "execution_count": 92,
   "metadata": {
    "collapsed": true
   },
   "outputs": [],
   "source": [
    "#Extract Data\n",
    "feature_cols = ['Pclass', 'Sex', 'Age', 'Fare', 'Embarked', 'FamilySize', 'Title', 'NameLength', 'TicketFirstChar']\n",
    "X_train = train_df[feature_cols].values\n",
    "X_test = test_df[feature_cols].values\n",
    "Y_train = train_df['Survived'].values"
   ]
  },
  {
   "cell_type": "markdown",
   "metadata": {},
   "source": [
    "### Test Random Forest Algorithm"
   ]
  },
  {
   "cell_type": "code",
   "execution_count": 93,
   "metadata": {
    "collapsed": false
   },
   "outputs": [
    {
     "name": "stdout",
     "output_type": "stream",
     "text": [
      "0.835093632959\n"
     ]
    }
   ],
   "source": [
    "#RandomForest\n",
    "from sklearn.ensemble import RandomForestClassifier\n",
    "from sklearn.model_selection import KFold, cross_val_score\n",
    "\n",
    "#Initialize Model\n",
    "rf = RandomForestClassifier(n_estimators=100, min_samples_split=6, n_jobs=-1)\n",
    "#Create KFold\n",
    "kfold = KFold(n_splits=10, random_state=5)\n",
    "cross_val_results = cross_val_score(rf, X_train, Y_train, cv=kfold, scoring='accuracy')\n",
    "print cross_val_results.mean()"
   ]
  },
  {
   "cell_type": "code",
   "execution_count": 94,
   "metadata": {
    "collapsed": false
   },
   "outputs": [
    {
     "name": "stdout",
     "output_type": "stream",
     "text": [
      "Best Score: 0.838384\n",
      "{'min_samples_split': 6}\n"
     ]
    }
   ],
   "source": [
    "#Grid Search \n",
    "from sklearn.model_selection import GridSearchCV\n",
    "\n",
    "param_grid = {\n",
    "    'max_depth' : [50, 75, 100,],\n",
    "    'min_samples_leaf' :[1, 2, 3, 5],\n",
    "    'min_samples_split' :[2, 4, 8]\n",
    "}\n",
    "\n",
    "param_grid = {'min_samples_split' :[2, 4, 6, 8, 10, 14, 20]}\n",
    "\n",
    "rf100 = RandomForestClassifier(n_estimators=100, n_jobs=-1)\n",
    "grid_search = GridSearchCV(estimator=rf100, param_grid=param_grid, cv=5, scoring='accuracy')\n",
    "grid_search.fit(X_train, Y_train)\n",
    "\n",
    "print \"Best Score: %f\" % grid_search.best_score_\n",
    "print grid_search.best_params_"
   ]
  },
  {
   "cell_type": "code",
   "execution_count": 95,
   "metadata": {
    "collapsed": true
   },
   "outputs": [],
   "source": [
    "#Train Final Model\n",
    "rf = RandomForestClassifier(n_estimators=2000, min_samples_split=6, n_jobs=-1)\n",
    "rf.fit(X_train, Y_train)\n",
    "predictions = rf.predict(X_test)"
   ]
  },
  {
   "cell_type": "code",
   "execution_count": 96,
   "metadata": {
    "collapsed": false
   },
   "outputs": [
    {
     "data": {
      "text/html": [
       "<div>\n",
       "<table border=\"1\" class=\"dataframe\">\n",
       "  <thead>\n",
       "    <tr style=\"text-align: right;\">\n",
       "      <th></th>\n",
       "      <th>0</th>\n",
       "      <th>1</th>\n",
       "    </tr>\n",
       "  </thead>\n",
       "  <tbody>\n",
       "    <tr>\n",
       "      <th>0</th>\n",
       "      <td>0.081978</td>\n",
       "      <td>Pclass</td>\n",
       "    </tr>\n",
       "    <tr>\n",
       "      <th>1</th>\n",
       "      <td>0.228542</td>\n",
       "      <td>Sex</td>\n",
       "    </tr>\n",
       "    <tr>\n",
       "      <th>2</th>\n",
       "      <td>0.125681</td>\n",
       "      <td>Age</td>\n",
       "    </tr>\n",
       "    <tr>\n",
       "      <th>3</th>\n",
       "      <td>0.154749</td>\n",
       "      <td>Fare</td>\n",
       "    </tr>\n",
       "    <tr>\n",
       "      <th>4</th>\n",
       "      <td>0.026225</td>\n",
       "      <td>Embarked</td>\n",
       "    </tr>\n",
       "    <tr>\n",
       "      <th>5</th>\n",
       "      <td>0.064340</td>\n",
       "      <td>FamilySize</td>\n",
       "    </tr>\n",
       "    <tr>\n",
       "      <th>6</th>\n",
       "      <td>0.114889</td>\n",
       "      <td>Title</td>\n",
       "    </tr>\n",
       "    <tr>\n",
       "      <th>7</th>\n",
       "      <td>0.140349</td>\n",
       "      <td>NameLength</td>\n",
       "    </tr>\n",
       "    <tr>\n",
       "      <th>8</th>\n",
       "      <td>0.063248</td>\n",
       "      <td>TicketFirstChar</td>\n",
       "    </tr>\n",
       "  </tbody>\n",
       "</table>\n",
       "</div>"
      ],
      "text/plain": [
       "          0                1\n",
       "0  0.081978           Pclass\n",
       "1  0.228542              Sex\n",
       "2  0.125681              Age\n",
       "3  0.154749             Fare\n",
       "4  0.026225         Embarked\n",
       "5  0.064340       FamilySize\n",
       "6  0.114889            Title\n",
       "7  0.140349       NameLength\n",
       "8  0.063248  TicketFirstChar"
      ]
     },
     "execution_count": 96,
     "metadata": {},
     "output_type": "execute_result"
    }
   ],
   "source": [
    "#Look at Feature Importance\n",
    "importances = zip(rf.feature_importances_, feature_cols)\n",
    "importances = pd.DataFrame(importances)\n",
    "importances"
   ]
  },
  {
   "cell_type": "markdown",
   "metadata": {},
   "source": [
    "### Create Submission"
   ]
  },
  {
   "cell_type": "code",
   "execution_count": 97,
   "metadata": {
    "collapsed": false
   },
   "outputs": [],
   "source": [
    "test_df['Survived'] = predictions\n",
    "output_df = test_df[['PassengerId', 'Survived']]\n",
    "output_df.to_csv(\"titanic_random_forest.csv\", index=False)"
   ]
  },
  {
   "cell_type": "code",
   "execution_count": null,
   "metadata": {
    "collapsed": true
   },
   "outputs": [],
   "source": []
  }
 ],
 "metadata": {
  "kernelspec": {
   "display_name": "Python 2",
   "language": "python",
   "name": "python2"
  },
  "language_info": {
   "codemirror_mode": {
    "name": "ipython",
    "version": 2
   },
   "file_extension": ".py",
   "mimetype": "text/x-python",
   "name": "python",
   "nbconvert_exporter": "python",
   "pygments_lexer": "ipython2",
   "version": "2.7.13"
  }
 },
 "nbformat": 4,
 "nbformat_minor": 2
}
